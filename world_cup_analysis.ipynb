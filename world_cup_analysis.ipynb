{
 "cells": [
  {
   "cell_type": "code",
   "execution_count": 43,
   "outputs": [],
   "source": [
    "import warnings\n",
    "import pandas as pd\n",
    "import seaborn as sb\n",
    "import matplotlib.pyplot as plt\n",
    "warnings.simplefilter(\"ignore\")"
   ],
   "metadata": {
    "collapsed": false,
    "pycharm": {
     "name": "#%%\n"
    }
   }
  },
  {
   "cell_type": "code",
   "execution_count": 2,
   "outputs": [],
   "source": [
    "first = pd.read_csv(\"fifa.csv\")\n",
    "second = pd.read_csv(\"world_cup_data.csv\")\n"
   ],
   "metadata": {
    "collapsed": false,
    "pycharm": {
     "name": "#%%\n"
    }
   }
  },
  {
   "cell_type": "code",
   "execution_count": 3,
   "outputs": [
    {
     "data": {
      "text/plain": "    match_no day_of_week       date   hour                          venue  \\\n0          1         Sun  20-Nov-22  17:00                Al Bayt Stadium   \n1          2         Mon  21-Nov-22  14:00  Khalifa International Stadium   \n2          3         Mon  21-Nov-22  17:00             Al Thumama Stadium   \n3          4         Mon  21-Nov-22  20:00          Ahmed bin Ali Stadium   \n4          5         Tue  22-Nov-22  11:00          Lusail Iconic Stadium   \n..       ...         ...        ...    ...                            ...   \n59        60         Sat  10-Dec-22  20:00                Al Bayt Stadium   \n60        61         Tue  13-Dec-22  20:00          Lusail Iconic Stadium   \n61        62         Wed  14-Dec-22  20:00                Al Bayt Stadium   \n62        63         Sat  17-Dec-22  16:00  Khalifa International Stadium   \n63        64         Sun  18-Dec-22  16:00          Lusail Iconic Stadium   \n\n                          referee                     group              1  \\\n0                  Daniele Orsato                   Group A          QATAR   \n1                   Raphael Claus                   Group B        ENGLAND   \n2                  Wilton Sampaio                   Group A        SENEGAL   \n3   Abdulrahman Ibrahim Al Jassim                   Group B  UNITED STATES   \n4                   Slavko Vincic                   Group C      ARGENTINA   \n..                            ...                       ...            ...   \n59                 Wilton Sampaio             Quarter-final        ENGLAND   \n60                 Daniele Orsato                Semi-Final      ARGENTINA   \n61                    Cesar Ramos                Semi-Final         FRANCE   \n62  Abdulrahman Ibrahim Al Jassim  Play-off for third place        CROATIA   \n63               Szymon Marciniak                     Final      ARGENTINA   \n\n               2  attendance  ...  1_panelties_scored  2_panelties_scored  \\\n0        ECUADOR       67372  ...                   0                   1   \n1           IRAN       45334  ...                   0                   1   \n2    NETHERLANDS       41721  ...                   0                   0   \n3          WALES       43418  ...                   0                   1   \n4   SAUDI ARABIA       88012  ...                   1                   0   \n..           ...         ...  ...                 ...                 ...   \n59        FRANCE       68895  ...                   1                   0   \n60       CROATIA       88966  ...                   1                   0   \n61       MOROCCO       68294  ...                   0                   0   \n62       MOROCCO       44137  ...                   0                   0   \n63        FRANCE       88966  ...                   1                   2   \n\n    1_goal_prevented  2_goal_prevented  1_own_goal  2_own_goal  \\\n0                  6                 5           0           0   \n1                  8                13           0           0   \n2                  9                15           0           0   \n3                  7                 7           0           0   \n4                  4                14           0           0   \n..               ...               ...         ...         ...   \n59                 9                15           0           0   \n60                12                10           0           0   \n61                13                14           0           0   \n62                 7                14           0           0   \n63                11                21           0           0   \n\n   1_forced_turnovers  2_forced_turnovers  1_defensive_pressure_applied  \\\n0                  52                  72                           256   \n1                  63                  72                           139   \n2                  63                  73                           263   \n3                  81                  72                           242   \n4                  65                  80                           163   \n..                ...                 ...                           ...   \n59                 49                  54                           193   \n60                 85                  63                           321   \n61                 72                  47                           328   \n62                 75                  72                           288   \n63                 87                 104                           280   \n\n    2_defensive_pressure_applied  \n0                            279  \n1                            416  \n2                            251  \n3                            292  \n4                            361  \n..                           ...  \n59                           308  \n60                           260  \n61                           218  \n62                           277  \n63                           409  \n\n[64 rows x 59 columns]",
      "text/html": "<div>\n<style scoped>\n    .dataframe tbody tr th:only-of-type {\n        vertical-align: middle;\n    }\n\n    .dataframe tbody tr th {\n        vertical-align: top;\n    }\n\n    .dataframe thead th {\n        text-align: right;\n    }\n</style>\n<table border=\"1\" class=\"dataframe\">\n  <thead>\n    <tr style=\"text-align: right;\">\n      <th></th>\n      <th>match_no</th>\n      <th>day_of_week</th>\n      <th>date</th>\n      <th>hour</th>\n      <th>venue</th>\n      <th>referee</th>\n      <th>group</th>\n      <th>1</th>\n      <th>2</th>\n      <th>attendance</th>\n      <th>...</th>\n      <th>1_panelties_scored</th>\n      <th>2_panelties_scored</th>\n      <th>1_goal_prevented</th>\n      <th>2_goal_prevented</th>\n      <th>1_own_goal</th>\n      <th>2_own_goal</th>\n      <th>1_forced_turnovers</th>\n      <th>2_forced_turnovers</th>\n      <th>1_defensive_pressure_applied</th>\n      <th>2_defensive_pressure_applied</th>\n    </tr>\n  </thead>\n  <tbody>\n    <tr>\n      <th>0</th>\n      <td>1</td>\n      <td>Sun</td>\n      <td>20-Nov-22</td>\n      <td>17:00</td>\n      <td>Al Bayt Stadium</td>\n      <td>Daniele Orsato</td>\n      <td>Group A</td>\n      <td>QATAR</td>\n      <td>ECUADOR</td>\n      <td>67372</td>\n      <td>...</td>\n      <td>0</td>\n      <td>1</td>\n      <td>6</td>\n      <td>5</td>\n      <td>0</td>\n      <td>0</td>\n      <td>52</td>\n      <td>72</td>\n      <td>256</td>\n      <td>279</td>\n    </tr>\n    <tr>\n      <th>1</th>\n      <td>2</td>\n      <td>Mon</td>\n      <td>21-Nov-22</td>\n      <td>14:00</td>\n      <td>Khalifa International Stadium</td>\n      <td>Raphael Claus</td>\n      <td>Group B</td>\n      <td>ENGLAND</td>\n      <td>IRAN</td>\n      <td>45334</td>\n      <td>...</td>\n      <td>0</td>\n      <td>1</td>\n      <td>8</td>\n      <td>13</td>\n      <td>0</td>\n      <td>0</td>\n      <td>63</td>\n      <td>72</td>\n      <td>139</td>\n      <td>416</td>\n    </tr>\n    <tr>\n      <th>2</th>\n      <td>3</td>\n      <td>Mon</td>\n      <td>21-Nov-22</td>\n      <td>17:00</td>\n      <td>Al Thumama Stadium</td>\n      <td>Wilton Sampaio</td>\n      <td>Group A</td>\n      <td>SENEGAL</td>\n      <td>NETHERLANDS</td>\n      <td>41721</td>\n      <td>...</td>\n      <td>0</td>\n      <td>0</td>\n      <td>9</td>\n      <td>15</td>\n      <td>0</td>\n      <td>0</td>\n      <td>63</td>\n      <td>73</td>\n      <td>263</td>\n      <td>251</td>\n    </tr>\n    <tr>\n      <th>3</th>\n      <td>4</td>\n      <td>Mon</td>\n      <td>21-Nov-22</td>\n      <td>20:00</td>\n      <td>Ahmed bin Ali Stadium</td>\n      <td>Abdulrahman Ibrahim Al Jassim</td>\n      <td>Group B</td>\n      <td>UNITED STATES</td>\n      <td>WALES</td>\n      <td>43418</td>\n      <td>...</td>\n      <td>0</td>\n      <td>1</td>\n      <td>7</td>\n      <td>7</td>\n      <td>0</td>\n      <td>0</td>\n      <td>81</td>\n      <td>72</td>\n      <td>242</td>\n      <td>292</td>\n    </tr>\n    <tr>\n      <th>4</th>\n      <td>5</td>\n      <td>Tue</td>\n      <td>22-Nov-22</td>\n      <td>11:00</td>\n      <td>Lusail Iconic Stadium</td>\n      <td>Slavko Vincic</td>\n      <td>Group C</td>\n      <td>ARGENTINA</td>\n      <td>SAUDI ARABIA</td>\n      <td>88012</td>\n      <td>...</td>\n      <td>1</td>\n      <td>0</td>\n      <td>4</td>\n      <td>14</td>\n      <td>0</td>\n      <td>0</td>\n      <td>65</td>\n      <td>80</td>\n      <td>163</td>\n      <td>361</td>\n    </tr>\n    <tr>\n      <th>...</th>\n      <td>...</td>\n      <td>...</td>\n      <td>...</td>\n      <td>...</td>\n      <td>...</td>\n      <td>...</td>\n      <td>...</td>\n      <td>...</td>\n      <td>...</td>\n      <td>...</td>\n      <td>...</td>\n      <td>...</td>\n      <td>...</td>\n      <td>...</td>\n      <td>...</td>\n      <td>...</td>\n      <td>...</td>\n      <td>...</td>\n      <td>...</td>\n      <td>...</td>\n      <td>...</td>\n    </tr>\n    <tr>\n      <th>59</th>\n      <td>60</td>\n      <td>Sat</td>\n      <td>10-Dec-22</td>\n      <td>20:00</td>\n      <td>Al Bayt Stadium</td>\n      <td>Wilton Sampaio</td>\n      <td>Quarter-final</td>\n      <td>ENGLAND</td>\n      <td>FRANCE</td>\n      <td>68895</td>\n      <td>...</td>\n      <td>1</td>\n      <td>0</td>\n      <td>9</td>\n      <td>15</td>\n      <td>0</td>\n      <td>0</td>\n      <td>49</td>\n      <td>54</td>\n      <td>193</td>\n      <td>308</td>\n    </tr>\n    <tr>\n      <th>60</th>\n      <td>61</td>\n      <td>Tue</td>\n      <td>13-Dec-22</td>\n      <td>20:00</td>\n      <td>Lusail Iconic Stadium</td>\n      <td>Daniele Orsato</td>\n      <td>Semi-Final</td>\n      <td>ARGENTINA</td>\n      <td>CROATIA</td>\n      <td>88966</td>\n      <td>...</td>\n      <td>1</td>\n      <td>0</td>\n      <td>12</td>\n      <td>10</td>\n      <td>0</td>\n      <td>0</td>\n      <td>85</td>\n      <td>63</td>\n      <td>321</td>\n      <td>260</td>\n    </tr>\n    <tr>\n      <th>61</th>\n      <td>62</td>\n      <td>Wed</td>\n      <td>14-Dec-22</td>\n      <td>20:00</td>\n      <td>Al Bayt Stadium</td>\n      <td>Cesar Ramos</td>\n      <td>Semi-Final</td>\n      <td>FRANCE</td>\n      <td>MOROCCO</td>\n      <td>68294</td>\n      <td>...</td>\n      <td>0</td>\n      <td>0</td>\n      <td>13</td>\n      <td>14</td>\n      <td>0</td>\n      <td>0</td>\n      <td>72</td>\n      <td>47</td>\n      <td>328</td>\n      <td>218</td>\n    </tr>\n    <tr>\n      <th>62</th>\n      <td>63</td>\n      <td>Sat</td>\n      <td>17-Dec-22</td>\n      <td>16:00</td>\n      <td>Khalifa International Stadium</td>\n      <td>Abdulrahman Ibrahim Al Jassim</td>\n      <td>Play-off for third place</td>\n      <td>CROATIA</td>\n      <td>MOROCCO</td>\n      <td>44137</td>\n      <td>...</td>\n      <td>0</td>\n      <td>0</td>\n      <td>7</td>\n      <td>14</td>\n      <td>0</td>\n      <td>0</td>\n      <td>75</td>\n      <td>72</td>\n      <td>288</td>\n      <td>277</td>\n    </tr>\n    <tr>\n      <th>63</th>\n      <td>64</td>\n      <td>Sun</td>\n      <td>18-Dec-22</td>\n      <td>16:00</td>\n      <td>Lusail Iconic Stadium</td>\n      <td>Szymon Marciniak</td>\n      <td>Final</td>\n      <td>ARGENTINA</td>\n      <td>FRANCE</td>\n      <td>88966</td>\n      <td>...</td>\n      <td>1</td>\n      <td>2</td>\n      <td>11</td>\n      <td>21</td>\n      <td>0</td>\n      <td>0</td>\n      <td>87</td>\n      <td>104</td>\n      <td>280</td>\n      <td>409</td>\n    </tr>\n  </tbody>\n</table>\n<p>64 rows × 59 columns</p>\n</div>"
     },
     "execution_count": 3,
     "metadata": {},
     "output_type": "execute_result"
    }
   ],
   "source": [
    "first"
   ],
   "metadata": {
    "collapsed": false,
    "pycharm": {
     "name": "#%%\n"
    }
   }
  },
  {
   "cell_type": "code",
   "execution_count": 4,
   "outputs": [
    {
     "data": {
      "text/plain": "    match          team1         team2  team1_xg  team2_xg score   xg_score  \\\n0       1          Qatar       Ecuador       0.3       1.2   0-2  0.3 - 1.2   \n1       2        England       IR Iran       2.1       1.4   6-2  2.1 - 1.4   \n2       3        Senegal   Netherlands       0.9       0.7   0-2  0.9 - 0.7   \n3       4  United States         Wales       0.8       1.5   1-1  0.8 - 1.5   \n4       5      Argentina  Saudi Arabia       2.2       0.1   1-2  2.2 - 0.1   \n..    ...            ...           ...       ...       ...   ...        ...   \n58     59        Morocco      Portugal       1.4       0.9   1-0  1.4 - 0.9   \n59     60        England        France       2.4       0.9   1-2  2.4 - 0.9   \n60     61      Argentina       Croatia       NaN       NaN   NaN        NaN   \n61     62         France       Morocco       NaN       NaN   NaN        NaN   \n62     63            NaN           NaN       NaN       NaN   NaN        NaN   \n\n         date  attendance                          venue  ... team1_offsides  \\\n0   20-Nov-22     67372.0                Al Bayt Stadium  ...            3.0   \n1   21-Nov-22     45334.0  Khalifa International Stadium  ...            2.0   \n2   21-Nov-22     41721.0             Al Thumama Stadium  ...            2.0   \n3   21-Nov-22     43418.0          Ahmed bin Ali Stadium  ...            1.0   \n4   22-Nov-22     88012.0          Lusail Iconic Stadium  ...           10.0   \n..        ...         ...                            ...  ...            ...   \n58  10-Dec-22     44198.0             Al Thumama Stadium  ...            2.0   \n59  10-Dec-22     68895.0                Al Bayt Stadium  ...            1.0   \n60  13-Dec-22         NaN          Lusail Iconic Stadium  ...            NaN   \n61  14-Dec-22         NaN                Al Bayt Stadium  ...            NaN   \n62  18-Dec-22         NaN                            NaN  ...            NaN   \n\n   team2_offsides penalties scored team1 penalties scored team2  \\\n0             4.0                    0.0                    1.0   \n1             2.0                    0.0                    1.0   \n2             1.0                    0.0                    0.0   \n3             1.0                    0.0                    1.0   \n4             1.0                    1.0                    0.0   \n..            ...                    ...                    ...   \n58            2.0                    0.0                    0.0   \n59            2.0                    1.0                    0.0   \n60            NaN                    NaN                    NaN   \n61            NaN                    NaN                    NaN   \n62            NaN                    NaN                    NaN   \n\n   free kicks team1  free kicks team2  yellow cards team1  yellow cards team2  \\\n0              19.0              17.0                 4.0                 2.0   \n1              16.0              10.0                 0.0                 2.0   \n2              14.0              14.0                 2.0                 1.0   \n3              11.0              15.0                 4.0                 2.0   \n4              22.0              16.0                 0.0                 6.0   \n..              ...               ...                 ...                 ...   \n58             15.0               9.0                 4.0                 1.0   \n59             10.0              14.0                 1.0                 3.0   \n60              NaN               NaN                 NaN                 NaN   \n61              NaN               NaN                 NaN                 NaN   \n62              NaN               NaN                 NaN                 NaN   \n\n    red cards team1  red cards team2  \n0               0.0              0.0  \n1               0.0              0.0  \n2               0.0              0.0  \n3               0.0              0.0  \n4               0.0              0.0  \n..              ...              ...  \n58              1.0              0.0  \n59              0.0              0.0  \n60              NaN              NaN  \n61              NaN              NaN  \n62              NaN              NaN  \n\n[63 rows x 51 columns]",
      "text/html": "<div>\n<style scoped>\n    .dataframe tbody tr th:only-of-type {\n        vertical-align: middle;\n    }\n\n    .dataframe tbody tr th {\n        vertical-align: top;\n    }\n\n    .dataframe thead th {\n        text-align: right;\n    }\n</style>\n<table border=\"1\" class=\"dataframe\">\n  <thead>\n    <tr style=\"text-align: right;\">\n      <th></th>\n      <th>match</th>\n      <th>team1</th>\n      <th>team2</th>\n      <th>team1_xg</th>\n      <th>team2_xg</th>\n      <th>score</th>\n      <th>xg_score</th>\n      <th>date</th>\n      <th>attendance</th>\n      <th>venue</th>\n      <th>...</th>\n      <th>team1_offsides</th>\n      <th>team2_offsides</th>\n      <th>penalties scored team1</th>\n      <th>penalties scored team2</th>\n      <th>free kicks team1</th>\n      <th>free kicks team2</th>\n      <th>yellow cards team1</th>\n      <th>yellow cards team2</th>\n      <th>red cards team1</th>\n      <th>red cards team2</th>\n    </tr>\n  </thead>\n  <tbody>\n    <tr>\n      <th>0</th>\n      <td>1</td>\n      <td>Qatar</td>\n      <td>Ecuador</td>\n      <td>0.3</td>\n      <td>1.2</td>\n      <td>0-2</td>\n      <td>0.3 - 1.2</td>\n      <td>20-Nov-22</td>\n      <td>67372.0</td>\n      <td>Al Bayt Stadium</td>\n      <td>...</td>\n      <td>3.0</td>\n      <td>4.0</td>\n      <td>0.0</td>\n      <td>1.0</td>\n      <td>19.0</td>\n      <td>17.0</td>\n      <td>4.0</td>\n      <td>2.0</td>\n      <td>0.0</td>\n      <td>0.0</td>\n    </tr>\n    <tr>\n      <th>1</th>\n      <td>2</td>\n      <td>England</td>\n      <td>IR Iran</td>\n      <td>2.1</td>\n      <td>1.4</td>\n      <td>6-2</td>\n      <td>2.1 - 1.4</td>\n      <td>21-Nov-22</td>\n      <td>45334.0</td>\n      <td>Khalifa International Stadium</td>\n      <td>...</td>\n      <td>2.0</td>\n      <td>2.0</td>\n      <td>0.0</td>\n      <td>1.0</td>\n      <td>16.0</td>\n      <td>10.0</td>\n      <td>0.0</td>\n      <td>2.0</td>\n      <td>0.0</td>\n      <td>0.0</td>\n    </tr>\n    <tr>\n      <th>2</th>\n      <td>3</td>\n      <td>Senegal</td>\n      <td>Netherlands</td>\n      <td>0.9</td>\n      <td>0.7</td>\n      <td>0-2</td>\n      <td>0.9 - 0.7</td>\n      <td>21-Nov-22</td>\n      <td>41721.0</td>\n      <td>Al Thumama Stadium</td>\n      <td>...</td>\n      <td>2.0</td>\n      <td>1.0</td>\n      <td>0.0</td>\n      <td>0.0</td>\n      <td>14.0</td>\n      <td>14.0</td>\n      <td>2.0</td>\n      <td>1.0</td>\n      <td>0.0</td>\n      <td>0.0</td>\n    </tr>\n    <tr>\n      <th>3</th>\n      <td>4</td>\n      <td>United States</td>\n      <td>Wales</td>\n      <td>0.8</td>\n      <td>1.5</td>\n      <td>1-1</td>\n      <td>0.8 - 1.5</td>\n      <td>21-Nov-22</td>\n      <td>43418.0</td>\n      <td>Ahmed bin Ali Stadium</td>\n      <td>...</td>\n      <td>1.0</td>\n      <td>1.0</td>\n      <td>0.0</td>\n      <td>1.0</td>\n      <td>11.0</td>\n      <td>15.0</td>\n      <td>4.0</td>\n      <td>2.0</td>\n      <td>0.0</td>\n      <td>0.0</td>\n    </tr>\n    <tr>\n      <th>4</th>\n      <td>5</td>\n      <td>Argentina</td>\n      <td>Saudi Arabia</td>\n      <td>2.2</td>\n      <td>0.1</td>\n      <td>1-2</td>\n      <td>2.2 - 0.1</td>\n      <td>22-Nov-22</td>\n      <td>88012.0</td>\n      <td>Lusail Iconic Stadium</td>\n      <td>...</td>\n      <td>10.0</td>\n      <td>1.0</td>\n      <td>1.0</td>\n      <td>0.0</td>\n      <td>22.0</td>\n      <td>16.0</td>\n      <td>0.0</td>\n      <td>6.0</td>\n      <td>0.0</td>\n      <td>0.0</td>\n    </tr>\n    <tr>\n      <th>...</th>\n      <td>...</td>\n      <td>...</td>\n      <td>...</td>\n      <td>...</td>\n      <td>...</td>\n      <td>...</td>\n      <td>...</td>\n      <td>...</td>\n      <td>...</td>\n      <td>...</td>\n      <td>...</td>\n      <td>...</td>\n      <td>...</td>\n      <td>...</td>\n      <td>...</td>\n      <td>...</td>\n      <td>...</td>\n      <td>...</td>\n      <td>...</td>\n      <td>...</td>\n      <td>...</td>\n    </tr>\n    <tr>\n      <th>58</th>\n      <td>59</td>\n      <td>Morocco</td>\n      <td>Portugal</td>\n      <td>1.4</td>\n      <td>0.9</td>\n      <td>1-0</td>\n      <td>1.4 - 0.9</td>\n      <td>10-Dec-22</td>\n      <td>44198.0</td>\n      <td>Al Thumama Stadium</td>\n      <td>...</td>\n      <td>2.0</td>\n      <td>2.0</td>\n      <td>0.0</td>\n      <td>0.0</td>\n      <td>15.0</td>\n      <td>9.0</td>\n      <td>4.0</td>\n      <td>1.0</td>\n      <td>1.0</td>\n      <td>0.0</td>\n    </tr>\n    <tr>\n      <th>59</th>\n      <td>60</td>\n      <td>England</td>\n      <td>France</td>\n      <td>2.4</td>\n      <td>0.9</td>\n      <td>1-2</td>\n      <td>2.4 - 0.9</td>\n      <td>10-Dec-22</td>\n      <td>68895.0</td>\n      <td>Al Bayt Stadium</td>\n      <td>...</td>\n      <td>1.0</td>\n      <td>2.0</td>\n      <td>1.0</td>\n      <td>0.0</td>\n      <td>10.0</td>\n      <td>14.0</td>\n      <td>1.0</td>\n      <td>3.0</td>\n      <td>0.0</td>\n      <td>0.0</td>\n    </tr>\n    <tr>\n      <th>60</th>\n      <td>61</td>\n      <td>Argentina</td>\n      <td>Croatia</td>\n      <td>NaN</td>\n      <td>NaN</td>\n      <td>NaN</td>\n      <td>NaN</td>\n      <td>13-Dec-22</td>\n      <td>NaN</td>\n      <td>Lusail Iconic Stadium</td>\n      <td>...</td>\n      <td>NaN</td>\n      <td>NaN</td>\n      <td>NaN</td>\n      <td>NaN</td>\n      <td>NaN</td>\n      <td>NaN</td>\n      <td>NaN</td>\n      <td>NaN</td>\n      <td>NaN</td>\n      <td>NaN</td>\n    </tr>\n    <tr>\n      <th>61</th>\n      <td>62</td>\n      <td>France</td>\n      <td>Morocco</td>\n      <td>NaN</td>\n      <td>NaN</td>\n      <td>NaN</td>\n      <td>NaN</td>\n      <td>14-Dec-22</td>\n      <td>NaN</td>\n      <td>Al Bayt Stadium</td>\n      <td>...</td>\n      <td>NaN</td>\n      <td>NaN</td>\n      <td>NaN</td>\n      <td>NaN</td>\n      <td>NaN</td>\n      <td>NaN</td>\n      <td>NaN</td>\n      <td>NaN</td>\n      <td>NaN</td>\n      <td>NaN</td>\n    </tr>\n    <tr>\n      <th>62</th>\n      <td>63</td>\n      <td>NaN</td>\n      <td>NaN</td>\n      <td>NaN</td>\n      <td>NaN</td>\n      <td>NaN</td>\n      <td>NaN</td>\n      <td>18-Dec-22</td>\n      <td>NaN</td>\n      <td>NaN</td>\n      <td>...</td>\n      <td>NaN</td>\n      <td>NaN</td>\n      <td>NaN</td>\n      <td>NaN</td>\n      <td>NaN</td>\n      <td>NaN</td>\n      <td>NaN</td>\n      <td>NaN</td>\n      <td>NaN</td>\n      <td>NaN</td>\n    </tr>\n  </tbody>\n</table>\n<p>63 rows × 51 columns</p>\n</div>"
     },
     "execution_count": 4,
     "metadata": {},
     "output_type": "execute_result"
    }
   ],
   "source": [
    "second"
   ],
   "metadata": {
    "collapsed": false,
    "pycharm": {
     "name": "#%%\n"
    }
   }
  },
  {
   "cell_type": "code",
   "execution_count": 5,
   "outputs": [],
   "source": [
    "## Wrangling the second dataset"
   ],
   "metadata": {
    "collapsed": false,
    "pycharm": {
     "name": "#%%\n"
    }
   }
  },
  {
   "cell_type": "code",
   "execution_count": 6,
   "outputs": [
    {
     "data": {
      "text/plain": "           match   team1_xg   team2_xg    attendance  team1_possession  \\\ncount  63.000000  60.000000  60.000000     60.000000         60.000000   \nmean   32.000000   1.335000   1.275000  51898.150000         51.233333   \nstd    18.330303   0.868239   0.971566  16192.926981         12.989392   \nmin     1.000000   0.100000   0.000000  39089.000000         18.000000   \n25%    16.500000   0.700000   0.600000  42051.000000         42.000000   \n50%    32.000000   1.150000   1.100000  43983.500000         53.500000   \n75%    47.500000   1.700000   1.700000  61051.500000         60.000000   \nmax    63.000000   4.000000   5.700000  88966.000000         81.000000   \n\n       team2_possession  team1_completed_passes  team1_attempted_pases  \\\ncount         60.000000               60.000000              60.000000   \nmean          48.766667              447.083333             548.350000   \nstd           12.989392              159.279872             158.786481   \nmin           19.000000              165.000000             245.000000   \n25%           40.000000              332.750000             424.500000   \n50%           46.500000              453.000000             561.500000   \n75%           58.000000              532.250000             630.750000   \nmax           82.000000             1009.000000            1093.000000   \n\n       team2_completed_passes  team2_attempted_pases  ...  team1_offsides  \\\ncount               60.000000              60.000000  ...       60.000000   \nmean               423.683333             525.200000  ...        1.933333   \nstd                169.516510             173.732485  ...        1.755057   \nmin                162.000000             248.000000  ...        0.000000   \n25%                315.000000             412.000000  ...        1.000000   \n50%                389.000000             487.500000  ...        2.000000   \n75%                499.500000             601.250000  ...        3.000000   \nmax                995.000000            1106.000000  ...       10.000000   \n\n       team2_offsides  penalties scored team1  penalties scored team2  \\\ncount       60.000000               60.000000               60.000000   \nmean         1.966667                0.116667                0.100000   \nstd          1.726824                0.323732                0.302532   \nmin          0.000000                0.000000                0.000000   \n25%          1.000000                0.000000                0.000000   \n50%          2.000000                0.000000                0.000000   \n75%          3.000000                0.000000                0.000000   \nmax          7.000000                1.000000                1.000000   \n\n       free kicks team1  free kicks team2  yellow cards team1  \\\ncount         60.000000         60.000000           60.000000   \nmean          14.133333         14.033333            1.750000   \nstd            4.114739          5.075587            1.590491   \nmin            8.000000          5.000000            0.000000   \n25%           11.000000         10.000000            0.750000   \n50%           14.500000         14.000000            1.500000   \n75%           16.000000         17.000000            3.000000   \nmax           27.000000         30.000000            7.000000   \n\n       yellow cards team2  red cards team1  red cards team2  \ncount           60.000000        60.000000             60.0  \nmean             1.700000         0.050000              0.0  \nstd              1.499152         0.219784              0.0  \nmin              0.000000         0.000000              0.0  \n25%              1.000000         0.000000              0.0  \n50%              1.500000         0.000000              0.0  \n75%              2.000000         0.000000              0.0  \nmax              8.000000         1.000000              0.0  \n\n[8 rows x 40 columns]",
      "text/html": "<div>\n<style scoped>\n    .dataframe tbody tr th:only-of-type {\n        vertical-align: middle;\n    }\n\n    .dataframe tbody tr th {\n        vertical-align: top;\n    }\n\n    .dataframe thead th {\n        text-align: right;\n    }\n</style>\n<table border=\"1\" class=\"dataframe\">\n  <thead>\n    <tr style=\"text-align: right;\">\n      <th></th>\n      <th>match</th>\n      <th>team1_xg</th>\n      <th>team2_xg</th>\n      <th>attendance</th>\n      <th>team1_possession</th>\n      <th>team2_possession</th>\n      <th>team1_completed_passes</th>\n      <th>team1_attempted_pases</th>\n      <th>team2_completed_passes</th>\n      <th>team2_attempted_pases</th>\n      <th>...</th>\n      <th>team1_offsides</th>\n      <th>team2_offsides</th>\n      <th>penalties scored team1</th>\n      <th>penalties scored team2</th>\n      <th>free kicks team1</th>\n      <th>free kicks team2</th>\n      <th>yellow cards team1</th>\n      <th>yellow cards team2</th>\n      <th>red cards team1</th>\n      <th>red cards team2</th>\n    </tr>\n  </thead>\n  <tbody>\n    <tr>\n      <th>count</th>\n      <td>63.000000</td>\n      <td>60.000000</td>\n      <td>60.000000</td>\n      <td>60.000000</td>\n      <td>60.000000</td>\n      <td>60.000000</td>\n      <td>60.000000</td>\n      <td>60.000000</td>\n      <td>60.000000</td>\n      <td>60.000000</td>\n      <td>...</td>\n      <td>60.000000</td>\n      <td>60.000000</td>\n      <td>60.000000</td>\n      <td>60.000000</td>\n      <td>60.000000</td>\n      <td>60.000000</td>\n      <td>60.000000</td>\n      <td>60.000000</td>\n      <td>60.000000</td>\n      <td>60.0</td>\n    </tr>\n    <tr>\n      <th>mean</th>\n      <td>32.000000</td>\n      <td>1.335000</td>\n      <td>1.275000</td>\n      <td>51898.150000</td>\n      <td>51.233333</td>\n      <td>48.766667</td>\n      <td>447.083333</td>\n      <td>548.350000</td>\n      <td>423.683333</td>\n      <td>525.200000</td>\n      <td>...</td>\n      <td>1.933333</td>\n      <td>1.966667</td>\n      <td>0.116667</td>\n      <td>0.100000</td>\n      <td>14.133333</td>\n      <td>14.033333</td>\n      <td>1.750000</td>\n      <td>1.700000</td>\n      <td>0.050000</td>\n      <td>0.0</td>\n    </tr>\n    <tr>\n      <th>std</th>\n      <td>18.330303</td>\n      <td>0.868239</td>\n      <td>0.971566</td>\n      <td>16192.926981</td>\n      <td>12.989392</td>\n      <td>12.989392</td>\n      <td>159.279872</td>\n      <td>158.786481</td>\n      <td>169.516510</td>\n      <td>173.732485</td>\n      <td>...</td>\n      <td>1.755057</td>\n      <td>1.726824</td>\n      <td>0.323732</td>\n      <td>0.302532</td>\n      <td>4.114739</td>\n      <td>5.075587</td>\n      <td>1.590491</td>\n      <td>1.499152</td>\n      <td>0.219784</td>\n      <td>0.0</td>\n    </tr>\n    <tr>\n      <th>min</th>\n      <td>1.000000</td>\n      <td>0.100000</td>\n      <td>0.000000</td>\n      <td>39089.000000</td>\n      <td>18.000000</td>\n      <td>19.000000</td>\n      <td>165.000000</td>\n      <td>245.000000</td>\n      <td>162.000000</td>\n      <td>248.000000</td>\n      <td>...</td>\n      <td>0.000000</td>\n      <td>0.000000</td>\n      <td>0.000000</td>\n      <td>0.000000</td>\n      <td>8.000000</td>\n      <td>5.000000</td>\n      <td>0.000000</td>\n      <td>0.000000</td>\n      <td>0.000000</td>\n      <td>0.0</td>\n    </tr>\n    <tr>\n      <th>25%</th>\n      <td>16.500000</td>\n      <td>0.700000</td>\n      <td>0.600000</td>\n      <td>42051.000000</td>\n      <td>42.000000</td>\n      <td>40.000000</td>\n      <td>332.750000</td>\n      <td>424.500000</td>\n      <td>315.000000</td>\n      <td>412.000000</td>\n      <td>...</td>\n      <td>1.000000</td>\n      <td>1.000000</td>\n      <td>0.000000</td>\n      <td>0.000000</td>\n      <td>11.000000</td>\n      <td>10.000000</td>\n      <td>0.750000</td>\n      <td>1.000000</td>\n      <td>0.000000</td>\n      <td>0.0</td>\n    </tr>\n    <tr>\n      <th>50%</th>\n      <td>32.000000</td>\n      <td>1.150000</td>\n      <td>1.100000</td>\n      <td>43983.500000</td>\n      <td>53.500000</td>\n      <td>46.500000</td>\n      <td>453.000000</td>\n      <td>561.500000</td>\n      <td>389.000000</td>\n      <td>487.500000</td>\n      <td>...</td>\n      <td>2.000000</td>\n      <td>2.000000</td>\n      <td>0.000000</td>\n      <td>0.000000</td>\n      <td>14.500000</td>\n      <td>14.000000</td>\n      <td>1.500000</td>\n      <td>1.500000</td>\n      <td>0.000000</td>\n      <td>0.0</td>\n    </tr>\n    <tr>\n      <th>75%</th>\n      <td>47.500000</td>\n      <td>1.700000</td>\n      <td>1.700000</td>\n      <td>61051.500000</td>\n      <td>60.000000</td>\n      <td>58.000000</td>\n      <td>532.250000</td>\n      <td>630.750000</td>\n      <td>499.500000</td>\n      <td>601.250000</td>\n      <td>...</td>\n      <td>3.000000</td>\n      <td>3.000000</td>\n      <td>0.000000</td>\n      <td>0.000000</td>\n      <td>16.000000</td>\n      <td>17.000000</td>\n      <td>3.000000</td>\n      <td>2.000000</td>\n      <td>0.000000</td>\n      <td>0.0</td>\n    </tr>\n    <tr>\n      <th>max</th>\n      <td>63.000000</td>\n      <td>4.000000</td>\n      <td>5.700000</td>\n      <td>88966.000000</td>\n      <td>81.000000</td>\n      <td>82.000000</td>\n      <td>1009.000000</td>\n      <td>1093.000000</td>\n      <td>995.000000</td>\n      <td>1106.000000</td>\n      <td>...</td>\n      <td>10.000000</td>\n      <td>7.000000</td>\n      <td>1.000000</td>\n      <td>1.000000</td>\n      <td>27.000000</td>\n      <td>30.000000</td>\n      <td>7.000000</td>\n      <td>8.000000</td>\n      <td>1.000000</td>\n      <td>0.0</td>\n    </tr>\n  </tbody>\n</table>\n<p>8 rows × 40 columns</p>\n</div>"
     },
     "execution_count": 6,
     "metadata": {},
     "output_type": "execute_result"
    }
   ],
   "source": [
    "second.describe()"
   ],
   "metadata": {
    "collapsed": false,
    "pycharm": {
     "name": "#%%\n"
    }
   }
  },
  {
   "cell_type": "code",
   "execution_count": 7,
   "outputs": [
    {
     "name": "stdout",
     "output_type": "stream",
     "text": [
      "<class 'pandas.core.frame.DataFrame'>\n",
      "RangeIndex: 63 entries, 0 to 62\n",
      "Data columns (total 51 columns):\n",
      " #   Column                  Non-Null Count  Dtype  \n",
      "---  ------                  --------------  -----  \n",
      " 0   match                   63 non-null     int64  \n",
      " 1   team1                   62 non-null     object \n",
      " 2   team2                   62 non-null     object \n",
      " 3   team1_xg                60 non-null     float64\n",
      " 4   team2_xg                60 non-null     float64\n",
      " 5   score                   60 non-null     object \n",
      " 6   xg_score                60 non-null     object \n",
      " 7   date                    63 non-null     object \n",
      " 8   attendance              60 non-null     float64\n",
      " 9   venue                   62 non-null     object \n",
      " 10  referee                 60 non-null     object \n",
      " 11  team1_captain           60 non-null     object \n",
      " 12  team2_captain           60 non-null     object \n",
      " 13  team1_manager           60 non-null     object \n",
      " 14  team2_manager           60 non-null     object \n",
      " 15  team1_possession        60 non-null     float64\n",
      " 16  team2_possession        60 non-null     float64\n",
      " 17  team1_completed_passes  60 non-null     float64\n",
      " 18  team1_attempted_pases   60 non-null     float64\n",
      " 19  team2_completed_passes  60 non-null     float64\n",
      " 20  team2_attempted_pases   60 non-null     float64\n",
      " 21  team1_shots_on_target   60 non-null     float64\n",
      " 22  team2_shots_on_target   60 non-null     float64\n",
      " 23  team1_total_shots       60 non-null     float64\n",
      " 24  team2_total_shots       60 non-null     float64\n",
      " 25  team1_saves             60 non-null     float64\n",
      " 26  team2_saves             60 non-null     float64\n",
      " 27  team1_fouls             60 non-null     float64\n",
      " 28  team2_fouls             60 non-null     float64\n",
      " 29  team1_corners           60 non-null     float64\n",
      " 30  team2_corners           60 non-null     float64\n",
      " 31  team1_crosses           60 non-null     float64\n",
      " 32  team2_crosses           60 non-null     float64\n",
      " 33  team1_tackles           60 non-null     float64\n",
      " 34  team2_tackles           60 non-null     float64\n",
      " 35  team1_interceptions     60 non-null     float64\n",
      " 36  team2_interceptions     60 non-null     float64\n",
      " 37  team1_aerials_won       60 non-null     float64\n",
      " 38  team2_aerials_won       60 non-null     float64\n",
      " 39  team1_clearances        60 non-null     float64\n",
      " 40  team2_clearances        60 non-null     float64\n",
      " 41  team1_offsides          60 non-null     float64\n",
      " 42  team2_offsides          60 non-null     float64\n",
      " 43  penalties scored team1  60 non-null     float64\n",
      " 44  penalties scored team2  60 non-null     float64\n",
      " 45  free kicks team1        60 non-null     float64\n",
      " 46  free kicks team2        60 non-null     float64\n",
      " 47  yellow cards team1      60 non-null     float64\n",
      " 48  yellow cards team2      60 non-null     float64\n",
      " 49  red cards team1         60 non-null     float64\n",
      " 50  red cards team2         60 non-null     float64\n",
      "dtypes: float64(39), int64(1), object(11)\n",
      "memory usage: 25.2+ KB\n"
     ]
    }
   ],
   "source": [
    "second.info()"
   ],
   "metadata": {
    "collapsed": false,
    "pycharm": {
     "name": "#%%\n"
    }
   }
  },
  {
   "cell_type": "code",
   "execution_count": 8,
   "outputs": [
    {
     "data": {
      "text/plain": "    match          team1         team2 score                          venue  \\\n0       1          Qatar       Ecuador   0-2                Al Bayt Stadium   \n1       2        England       IR Iran   6-2  Khalifa International Stadium   \n2       3        Senegal   Netherlands   0-2             Al Thumama Stadium   \n3       4  United States         Wales   1-1          Ahmed bin Ali Stadium   \n4       5      Argentina  Saudi Arabia   1-2          Lusail Iconic Stadium   \n..    ...            ...           ...   ...                            ...   \n58     59        Morocco      Portugal   1-0             Al Thumama Stadium   \n59     60        England        France   1-2                Al Bayt Stadium   \n60     61      Argentina       Croatia   NaN          Lusail Iconic Stadium   \n61     62         France       Morocco   NaN                Al Bayt Stadium   \n62     63            NaN           NaN   NaN                            NaN   \n\n    team1_possession  team2_possession  team1_completed_passes  \\\n0               47.0              53.0                   377.0   \n1               77.0              23.0                   740.0   \n2               46.0              54.0                   333.0   \n3               58.0              42.0                   524.0   \n4               69.0              31.0                   546.0   \n..               ...               ...                     ...   \n58              27.0              73.0                   187.0   \n59              57.0              43.0                   463.0   \n60               NaN               NaN                     NaN   \n61               NaN               NaN                     NaN   \n62               NaN               NaN                     NaN   \n\n    team1_attempted_pases  team2_completed_passes  ...  team1_offsides  \\\n0                   469.0                   430.0  ...             3.0   \n1                   838.0                   162.0  ...             2.0   \n2                   427.0                   387.0  ...             2.0   \n3                   624.0                   335.0  ...             1.0   \n4                   659.0                   195.0  ...            10.0   \n..                    ...                     ...  ...             ...   \n58                  268.0                   606.0  ...             2.0   \n59                  543.0                   325.0  ...             1.0   \n60                    NaN                     NaN  ...             NaN   \n61                    NaN                     NaN  ...             NaN   \n62                    NaN                     NaN  ...             NaN   \n\n    team2_offsides  penalties scored team1  penalties scored team2  \\\n0              4.0                     0.0                     1.0   \n1              2.0                     0.0                     1.0   \n2              1.0                     0.0                     0.0   \n3              1.0                     0.0                     1.0   \n4              1.0                     1.0                     0.0   \n..             ...                     ...                     ...   \n58             2.0                     0.0                     0.0   \n59             2.0                     1.0                     0.0   \n60             NaN                     NaN                     NaN   \n61             NaN                     NaN                     NaN   \n62             NaN                     NaN                     NaN   \n\n    free kicks team1  free kicks team2  yellow cards team1  \\\n0               19.0              17.0                 4.0   \n1               16.0              10.0                 0.0   \n2               14.0              14.0                 2.0   \n3               11.0              15.0                 4.0   \n4               22.0              16.0                 0.0   \n..               ...               ...                 ...   \n58              15.0               9.0                 4.0   \n59              10.0              14.0                 1.0   \n60               NaN               NaN                 NaN   \n61               NaN               NaN                 NaN   \n62               NaN               NaN                 NaN   \n\n    yellow cards team2  red cards team1  red cards team2  \n0                  2.0              0.0              0.0  \n1                  2.0              0.0              0.0  \n2                  1.0              0.0              0.0  \n3                  2.0              0.0              0.0  \n4                  6.0              0.0              0.0  \n..                 ...              ...              ...  \n58                 1.0              1.0              0.0  \n59                 3.0              0.0              0.0  \n60                 NaN              NaN              NaN  \n61                 NaN              NaN              NaN  \n62                 NaN              NaN              NaN  \n\n[63 rows x 41 columns]",
      "text/html": "<div>\n<style scoped>\n    .dataframe tbody tr th:only-of-type {\n        vertical-align: middle;\n    }\n\n    .dataframe tbody tr th {\n        vertical-align: top;\n    }\n\n    .dataframe thead th {\n        text-align: right;\n    }\n</style>\n<table border=\"1\" class=\"dataframe\">\n  <thead>\n    <tr style=\"text-align: right;\">\n      <th></th>\n      <th>match</th>\n      <th>team1</th>\n      <th>team2</th>\n      <th>score</th>\n      <th>venue</th>\n      <th>team1_possession</th>\n      <th>team2_possession</th>\n      <th>team1_completed_passes</th>\n      <th>team1_attempted_pases</th>\n      <th>team2_completed_passes</th>\n      <th>...</th>\n      <th>team1_offsides</th>\n      <th>team2_offsides</th>\n      <th>penalties scored team1</th>\n      <th>penalties scored team2</th>\n      <th>free kicks team1</th>\n      <th>free kicks team2</th>\n      <th>yellow cards team1</th>\n      <th>yellow cards team2</th>\n      <th>red cards team1</th>\n      <th>red cards team2</th>\n    </tr>\n  </thead>\n  <tbody>\n    <tr>\n      <th>0</th>\n      <td>1</td>\n      <td>Qatar</td>\n      <td>Ecuador</td>\n      <td>0-2</td>\n      <td>Al Bayt Stadium</td>\n      <td>47.0</td>\n      <td>53.0</td>\n      <td>377.0</td>\n      <td>469.0</td>\n      <td>430.0</td>\n      <td>...</td>\n      <td>3.0</td>\n      <td>4.0</td>\n      <td>0.0</td>\n      <td>1.0</td>\n      <td>19.0</td>\n      <td>17.0</td>\n      <td>4.0</td>\n      <td>2.0</td>\n      <td>0.0</td>\n      <td>0.0</td>\n    </tr>\n    <tr>\n      <th>1</th>\n      <td>2</td>\n      <td>England</td>\n      <td>IR Iran</td>\n      <td>6-2</td>\n      <td>Khalifa International Stadium</td>\n      <td>77.0</td>\n      <td>23.0</td>\n      <td>740.0</td>\n      <td>838.0</td>\n      <td>162.0</td>\n      <td>...</td>\n      <td>2.0</td>\n      <td>2.0</td>\n      <td>0.0</td>\n      <td>1.0</td>\n      <td>16.0</td>\n      <td>10.0</td>\n      <td>0.0</td>\n      <td>2.0</td>\n      <td>0.0</td>\n      <td>0.0</td>\n    </tr>\n    <tr>\n      <th>2</th>\n      <td>3</td>\n      <td>Senegal</td>\n      <td>Netherlands</td>\n      <td>0-2</td>\n      <td>Al Thumama Stadium</td>\n      <td>46.0</td>\n      <td>54.0</td>\n      <td>333.0</td>\n      <td>427.0</td>\n      <td>387.0</td>\n      <td>...</td>\n      <td>2.0</td>\n      <td>1.0</td>\n      <td>0.0</td>\n      <td>0.0</td>\n      <td>14.0</td>\n      <td>14.0</td>\n      <td>2.0</td>\n      <td>1.0</td>\n      <td>0.0</td>\n      <td>0.0</td>\n    </tr>\n    <tr>\n      <th>3</th>\n      <td>4</td>\n      <td>United States</td>\n      <td>Wales</td>\n      <td>1-1</td>\n      <td>Ahmed bin Ali Stadium</td>\n      <td>58.0</td>\n      <td>42.0</td>\n      <td>524.0</td>\n      <td>624.0</td>\n      <td>335.0</td>\n      <td>...</td>\n      <td>1.0</td>\n      <td>1.0</td>\n      <td>0.0</td>\n      <td>1.0</td>\n      <td>11.0</td>\n      <td>15.0</td>\n      <td>4.0</td>\n      <td>2.0</td>\n      <td>0.0</td>\n      <td>0.0</td>\n    </tr>\n    <tr>\n      <th>4</th>\n      <td>5</td>\n      <td>Argentina</td>\n      <td>Saudi Arabia</td>\n      <td>1-2</td>\n      <td>Lusail Iconic Stadium</td>\n      <td>69.0</td>\n      <td>31.0</td>\n      <td>546.0</td>\n      <td>659.0</td>\n      <td>195.0</td>\n      <td>...</td>\n      <td>10.0</td>\n      <td>1.0</td>\n      <td>1.0</td>\n      <td>0.0</td>\n      <td>22.0</td>\n      <td>16.0</td>\n      <td>0.0</td>\n      <td>6.0</td>\n      <td>0.0</td>\n      <td>0.0</td>\n    </tr>\n    <tr>\n      <th>...</th>\n      <td>...</td>\n      <td>...</td>\n      <td>...</td>\n      <td>...</td>\n      <td>...</td>\n      <td>...</td>\n      <td>...</td>\n      <td>...</td>\n      <td>...</td>\n      <td>...</td>\n      <td>...</td>\n      <td>...</td>\n      <td>...</td>\n      <td>...</td>\n      <td>...</td>\n      <td>...</td>\n      <td>...</td>\n      <td>...</td>\n      <td>...</td>\n      <td>...</td>\n      <td>...</td>\n    </tr>\n    <tr>\n      <th>58</th>\n      <td>59</td>\n      <td>Morocco</td>\n      <td>Portugal</td>\n      <td>1-0</td>\n      <td>Al Thumama Stadium</td>\n      <td>27.0</td>\n      <td>73.0</td>\n      <td>187.0</td>\n      <td>268.0</td>\n      <td>606.0</td>\n      <td>...</td>\n      <td>2.0</td>\n      <td>2.0</td>\n      <td>0.0</td>\n      <td>0.0</td>\n      <td>15.0</td>\n      <td>9.0</td>\n      <td>4.0</td>\n      <td>1.0</td>\n      <td>1.0</td>\n      <td>0.0</td>\n    </tr>\n    <tr>\n      <th>59</th>\n      <td>60</td>\n      <td>England</td>\n      <td>France</td>\n      <td>1-2</td>\n      <td>Al Bayt Stadium</td>\n      <td>57.0</td>\n      <td>43.0</td>\n      <td>463.0</td>\n      <td>543.0</td>\n      <td>325.0</td>\n      <td>...</td>\n      <td>1.0</td>\n      <td>2.0</td>\n      <td>1.0</td>\n      <td>0.0</td>\n      <td>10.0</td>\n      <td>14.0</td>\n      <td>1.0</td>\n      <td>3.0</td>\n      <td>0.0</td>\n      <td>0.0</td>\n    </tr>\n    <tr>\n      <th>60</th>\n      <td>61</td>\n      <td>Argentina</td>\n      <td>Croatia</td>\n      <td>NaN</td>\n      <td>Lusail Iconic Stadium</td>\n      <td>NaN</td>\n      <td>NaN</td>\n      <td>NaN</td>\n      <td>NaN</td>\n      <td>NaN</td>\n      <td>...</td>\n      <td>NaN</td>\n      <td>NaN</td>\n      <td>NaN</td>\n      <td>NaN</td>\n      <td>NaN</td>\n      <td>NaN</td>\n      <td>NaN</td>\n      <td>NaN</td>\n      <td>NaN</td>\n      <td>NaN</td>\n    </tr>\n    <tr>\n      <th>61</th>\n      <td>62</td>\n      <td>France</td>\n      <td>Morocco</td>\n      <td>NaN</td>\n      <td>Al Bayt Stadium</td>\n      <td>NaN</td>\n      <td>NaN</td>\n      <td>NaN</td>\n      <td>NaN</td>\n      <td>NaN</td>\n      <td>...</td>\n      <td>NaN</td>\n      <td>NaN</td>\n      <td>NaN</td>\n      <td>NaN</td>\n      <td>NaN</td>\n      <td>NaN</td>\n      <td>NaN</td>\n      <td>NaN</td>\n      <td>NaN</td>\n      <td>NaN</td>\n    </tr>\n    <tr>\n      <th>62</th>\n      <td>63</td>\n      <td>NaN</td>\n      <td>NaN</td>\n      <td>NaN</td>\n      <td>NaN</td>\n      <td>NaN</td>\n      <td>NaN</td>\n      <td>NaN</td>\n      <td>NaN</td>\n      <td>NaN</td>\n      <td>...</td>\n      <td>NaN</td>\n      <td>NaN</td>\n      <td>NaN</td>\n      <td>NaN</td>\n      <td>NaN</td>\n      <td>NaN</td>\n      <td>NaN</td>\n      <td>NaN</td>\n      <td>NaN</td>\n      <td>NaN</td>\n    </tr>\n  </tbody>\n</table>\n<p>63 rows × 41 columns</p>\n</div>"
     },
     "execution_count": 8,
     "metadata": {},
     "output_type": "execute_result"
    }
   ],
   "source": [
    "second.drop(columns=['date','referee','attendance','team1_manager','team1_xg','xg_score','team2_xg','team1_captain','team2_captain','team2_manager'],inplace=True)\n",
    "second"
   ],
   "metadata": {
    "collapsed": false,
    "pycharm": {
     "name": "#%%\n"
    }
   }
  },
  {
   "cell_type": "code",
   "execution_count": 9,
   "outputs": [
    {
     "data": {
      "text/plain": "match                                     51\nteam1                                 France\nteam2                                 Poland\nscore                                    3-1\nvenue                     Al Thumama Stadium\nteam1_possession                          55\nteam2_possession                          45\nteam1_completed_passes                   501\nteam1_attempted_pases                    601\nteam2_completed_passes                   401\nteam2_attempted_pases                    490\nteam1_shots_on_target                      8\nteam2_shots_on_target                      1\nteam1_total_shots                         16\nteam2_total_shots                         11\nteam1_saves                                1\nteam2_saves                                5\nteam1_fouls                               10\nteam2_fouls                                8\nteam1_corners                              7\nteam2_corners                              1\nteam1_crosses                             25\nteam2_crosses                             16\nteam1_tackles                             11\nteam2_tackles                             17\nteam1_interceptions                        9\nteam2_interceptions                        6\nteam1_aerials_won                         12\nteam2_aerials_won                         11\nteam1_clearances                          10\nteam2_clearances                          23\nteam1_offsides                             3\nteam2_offsides                             1\npenalties scored team1                     0\npenalties scored team2                     1\nfree kicks team1                           8\nfree kicks team2                          11\nyellow cards team1                         1\nyellow cards team2                         2\nred cards team1                            0\nred cards team2                            0\nName: 50, dtype: object"
     },
     "execution_count": 9,
     "metadata": {},
     "output_type": "execute_result"
    }
   ],
   "source": [
    "second.iloc[50]"
   ],
   "metadata": {
    "collapsed": false,
    "pycharm": {
     "name": "#%%\n"
    }
   }
  },
  {
   "cell_type": "code",
   "execution_count": 10,
   "outputs": [
    {
     "data": {
      "text/plain": "match_no                                              51\nday_of_week                                          Sun\ndate                                           04-Dec-22\nhour                                               16:00\nvenue                                 Al Thumama Stadium\nreferee                            Jesús Valenzuela Sáez\ngroup                                        Round of 16\n1                                                 FRANCE\n2                                                 POLAND\nattendance                                         40989\n1_expected_goals                                     1.4\n2_expected_goals                                     1.7\n1_poss                                                55\n2_poss                                                45\n1_goals                                                3\n2_goals                                                1\nfinal_score                                          3,1\n1_attempts                                            16\n2_attempts                                            11\n1_conceded                                             1\n2_conceded                                             3\n1_goal_inside_penalty_area                             3\n2_goal_inside_penalty_area                             1\n1_goal_outside_penalty_area                            0\n2_goal_outside_penalty_area                            0\n1_ontarget                                             7\n2_ontarget                                             3\n1_offtarget                                            7\n2_offtarget                                            5\n1_attempts_inside_penalty_area                        10\n2_attempts_inside_penalty_area                         8\n1_attempts_outside_penalty_area                        6\n2_attempts_outside_penalty_area                        3\n1_yellow_cards                                         1\n2_yellow_cards                                         2\n1_red_cards                                            0\n2_red_cards                                            0\nfaul_against_1                                        10\nfaul_against_2                                         8\n1_offsides                                             3\n2_offsides                                             1\n1_passes                                             540\n2_passes                                             466\n1_passes_compeletd                                   481\n2_passes_compeletd                                   391\n1_corners                                              7\n2_corners                                              1\n1_free_kicks                                           8\n2_free_kicks                                          11\n1_panelties_scored                                     0\n2_panelties_scored                                     1\n1_goal_prevented                                      11\n2_goal_prevented                                      16\n1_own_goal                                             0\n2_own_goal                                             0\n1_forced_turnovers                                    71\n2_forced_turnovers                                    64\n1_defensive_pressure_applied                         220\n2_defensive_pressure_applied                         297\nName: 50, dtype: object"
     },
     "execution_count": 10,
     "metadata": {},
     "output_type": "execute_result"
    }
   ],
   "source": [
    "first.iloc[50]"
   ],
   "metadata": {
    "collapsed": false,
    "pycharm": {
     "name": "#%%\n"
    }
   }
  },
  {
   "cell_type": "code",
   "execution_count": 11,
   "outputs": [
    {
     "data": {
      "text/plain": "    match  team1_possession  team2_possession  team1_completed_passes  \\\n0       1              47.0              53.0                   377.0   \n1       2              77.0              23.0                   740.0   \n2       3              46.0              54.0                   333.0   \n3       4              58.0              42.0                   524.0   \n4       5              69.0              31.0                   546.0   \n..    ...               ...               ...                     ...   \n58     59              27.0              73.0                   187.0   \n59     60              57.0              43.0                   463.0   \n60     61               NaN               NaN                     NaN   \n61     62               NaN               NaN                     NaN   \n62     63               NaN               NaN                     NaN   \n\n    team1_attempted_pases  team2_completed_passes  team2_attempted_pases  \\\n0                   469.0                   430.0                  522.0   \n1                   838.0                   162.0                  248.0   \n2                   427.0                   387.0                  494.0   \n3                   624.0                   335.0                  446.0   \n4                   659.0                   195.0                  294.0   \n..                    ...                     ...                    ...   \n58                  268.0                   606.0                  731.0   \n59                  543.0                   325.0                  409.0   \n60                    NaN                     NaN                    NaN   \n61                    NaN                     NaN                    NaN   \n62                    NaN                     NaN                    NaN   \n\n    team1_shots_on_target  team2_shots_on_target  team1_total_shots  ...  \\\n0                     0.0                    2.0                5.0  ...   \n1                     7.0                    2.0               13.0  ...   \n2                     4.0                    3.0               15.0  ...   \n3                     1.0                    2.0                6.0  ...   \n4                     5.0                    2.0               14.0  ...   \n..                    ...                    ...                ...  ...   \n58                    3.0                    3.0                9.0  ...   \n59                    6.0                    5.0               14.0  ...   \n60                    NaN                    NaN                NaN  ...   \n61                    NaN                    NaN                NaN  ...   \n62                    NaN                    NaN                NaN  ...   \n\n    team1_offsides  team2_offsides  penalties scored team1  \\\n0              3.0             4.0                     0.0   \n1              2.0             2.0                     0.0   \n2              2.0             1.0                     0.0   \n3              1.0             1.0                     0.0   \n4             10.0             1.0                     1.0   \n..             ...             ...                     ...   \n58             2.0             2.0                     0.0   \n59             1.0             2.0                     1.0   \n60             NaN             NaN                     NaN   \n61             NaN             NaN                     NaN   \n62             NaN             NaN                     NaN   \n\n    penalties scored team2  free kicks team1  free kicks team2  \\\n0                      1.0              19.0              17.0   \n1                      1.0              16.0              10.0   \n2                      0.0              14.0              14.0   \n3                      1.0              11.0              15.0   \n4                      0.0              22.0              16.0   \n..                     ...               ...               ...   \n58                     0.0              15.0               9.0   \n59                     0.0              10.0              14.0   \n60                     NaN               NaN               NaN   \n61                     NaN               NaN               NaN   \n62                     NaN               NaN               NaN   \n\n    yellow cards team1  yellow cards team2  red cards team1  red cards team2  \n0                  4.0                 2.0              0.0              0.0  \n1                  0.0                 2.0              0.0              0.0  \n2                  2.0                 1.0              0.0              0.0  \n3                  4.0                 2.0              0.0              0.0  \n4                  0.0                 6.0              0.0              0.0  \n..                 ...                 ...              ...              ...  \n58                 4.0                 1.0              1.0              0.0  \n59                 1.0                 3.0              0.0              0.0  \n60                 NaN                 NaN              NaN              NaN  \n61                 NaN                 NaN              NaN              NaN  \n62                 NaN                 NaN              NaN              NaN  \n\n[63 rows x 37 columns]",
      "text/html": "<div>\n<style scoped>\n    .dataframe tbody tr th:only-of-type {\n        vertical-align: middle;\n    }\n\n    .dataframe tbody tr th {\n        vertical-align: top;\n    }\n\n    .dataframe thead th {\n        text-align: right;\n    }\n</style>\n<table border=\"1\" class=\"dataframe\">\n  <thead>\n    <tr style=\"text-align: right;\">\n      <th></th>\n      <th>match</th>\n      <th>team1_possession</th>\n      <th>team2_possession</th>\n      <th>team1_completed_passes</th>\n      <th>team1_attempted_pases</th>\n      <th>team2_completed_passes</th>\n      <th>team2_attempted_pases</th>\n      <th>team1_shots_on_target</th>\n      <th>team2_shots_on_target</th>\n      <th>team1_total_shots</th>\n      <th>...</th>\n      <th>team1_offsides</th>\n      <th>team2_offsides</th>\n      <th>penalties scored team1</th>\n      <th>penalties scored team2</th>\n      <th>free kicks team1</th>\n      <th>free kicks team2</th>\n      <th>yellow cards team1</th>\n      <th>yellow cards team2</th>\n      <th>red cards team1</th>\n      <th>red cards team2</th>\n    </tr>\n  </thead>\n  <tbody>\n    <tr>\n      <th>0</th>\n      <td>1</td>\n      <td>47.0</td>\n      <td>53.0</td>\n      <td>377.0</td>\n      <td>469.0</td>\n      <td>430.0</td>\n      <td>522.0</td>\n      <td>0.0</td>\n      <td>2.0</td>\n      <td>5.0</td>\n      <td>...</td>\n      <td>3.0</td>\n      <td>4.0</td>\n      <td>0.0</td>\n      <td>1.0</td>\n      <td>19.0</td>\n      <td>17.0</td>\n      <td>4.0</td>\n      <td>2.0</td>\n      <td>0.0</td>\n      <td>0.0</td>\n    </tr>\n    <tr>\n      <th>1</th>\n      <td>2</td>\n      <td>77.0</td>\n      <td>23.0</td>\n      <td>740.0</td>\n      <td>838.0</td>\n      <td>162.0</td>\n      <td>248.0</td>\n      <td>7.0</td>\n      <td>2.0</td>\n      <td>13.0</td>\n      <td>...</td>\n      <td>2.0</td>\n      <td>2.0</td>\n      <td>0.0</td>\n      <td>1.0</td>\n      <td>16.0</td>\n      <td>10.0</td>\n      <td>0.0</td>\n      <td>2.0</td>\n      <td>0.0</td>\n      <td>0.0</td>\n    </tr>\n    <tr>\n      <th>2</th>\n      <td>3</td>\n      <td>46.0</td>\n      <td>54.0</td>\n      <td>333.0</td>\n      <td>427.0</td>\n      <td>387.0</td>\n      <td>494.0</td>\n      <td>4.0</td>\n      <td>3.0</td>\n      <td>15.0</td>\n      <td>...</td>\n      <td>2.0</td>\n      <td>1.0</td>\n      <td>0.0</td>\n      <td>0.0</td>\n      <td>14.0</td>\n      <td>14.0</td>\n      <td>2.0</td>\n      <td>1.0</td>\n      <td>0.0</td>\n      <td>0.0</td>\n    </tr>\n    <tr>\n      <th>3</th>\n      <td>4</td>\n      <td>58.0</td>\n      <td>42.0</td>\n      <td>524.0</td>\n      <td>624.0</td>\n      <td>335.0</td>\n      <td>446.0</td>\n      <td>1.0</td>\n      <td>2.0</td>\n      <td>6.0</td>\n      <td>...</td>\n      <td>1.0</td>\n      <td>1.0</td>\n      <td>0.0</td>\n      <td>1.0</td>\n      <td>11.0</td>\n      <td>15.0</td>\n      <td>4.0</td>\n      <td>2.0</td>\n      <td>0.0</td>\n      <td>0.0</td>\n    </tr>\n    <tr>\n      <th>4</th>\n      <td>5</td>\n      <td>69.0</td>\n      <td>31.0</td>\n      <td>546.0</td>\n      <td>659.0</td>\n      <td>195.0</td>\n      <td>294.0</td>\n      <td>5.0</td>\n      <td>2.0</td>\n      <td>14.0</td>\n      <td>...</td>\n      <td>10.0</td>\n      <td>1.0</td>\n      <td>1.0</td>\n      <td>0.0</td>\n      <td>22.0</td>\n      <td>16.0</td>\n      <td>0.0</td>\n      <td>6.0</td>\n      <td>0.0</td>\n      <td>0.0</td>\n    </tr>\n    <tr>\n      <th>...</th>\n      <td>...</td>\n      <td>...</td>\n      <td>...</td>\n      <td>...</td>\n      <td>...</td>\n      <td>...</td>\n      <td>...</td>\n      <td>...</td>\n      <td>...</td>\n      <td>...</td>\n      <td>...</td>\n      <td>...</td>\n      <td>...</td>\n      <td>...</td>\n      <td>...</td>\n      <td>...</td>\n      <td>...</td>\n      <td>...</td>\n      <td>...</td>\n      <td>...</td>\n      <td>...</td>\n    </tr>\n    <tr>\n      <th>58</th>\n      <td>59</td>\n      <td>27.0</td>\n      <td>73.0</td>\n      <td>187.0</td>\n      <td>268.0</td>\n      <td>606.0</td>\n      <td>731.0</td>\n      <td>3.0</td>\n      <td>3.0</td>\n      <td>9.0</td>\n      <td>...</td>\n      <td>2.0</td>\n      <td>2.0</td>\n      <td>0.0</td>\n      <td>0.0</td>\n      <td>15.0</td>\n      <td>9.0</td>\n      <td>4.0</td>\n      <td>1.0</td>\n      <td>1.0</td>\n      <td>0.0</td>\n    </tr>\n    <tr>\n      <th>59</th>\n      <td>60</td>\n      <td>57.0</td>\n      <td>43.0</td>\n      <td>463.0</td>\n      <td>543.0</td>\n      <td>325.0</td>\n      <td>409.0</td>\n      <td>6.0</td>\n      <td>5.0</td>\n      <td>14.0</td>\n      <td>...</td>\n      <td>1.0</td>\n      <td>2.0</td>\n      <td>1.0</td>\n      <td>0.0</td>\n      <td>10.0</td>\n      <td>14.0</td>\n      <td>1.0</td>\n      <td>3.0</td>\n      <td>0.0</td>\n      <td>0.0</td>\n    </tr>\n    <tr>\n      <th>60</th>\n      <td>61</td>\n      <td>NaN</td>\n      <td>NaN</td>\n      <td>NaN</td>\n      <td>NaN</td>\n      <td>NaN</td>\n      <td>NaN</td>\n      <td>NaN</td>\n      <td>NaN</td>\n      <td>NaN</td>\n      <td>...</td>\n      <td>NaN</td>\n      <td>NaN</td>\n      <td>NaN</td>\n      <td>NaN</td>\n      <td>NaN</td>\n      <td>NaN</td>\n      <td>NaN</td>\n      <td>NaN</td>\n      <td>NaN</td>\n      <td>NaN</td>\n    </tr>\n    <tr>\n      <th>61</th>\n      <td>62</td>\n      <td>NaN</td>\n      <td>NaN</td>\n      <td>NaN</td>\n      <td>NaN</td>\n      <td>NaN</td>\n      <td>NaN</td>\n      <td>NaN</td>\n      <td>NaN</td>\n      <td>NaN</td>\n      <td>...</td>\n      <td>NaN</td>\n      <td>NaN</td>\n      <td>NaN</td>\n      <td>NaN</td>\n      <td>NaN</td>\n      <td>NaN</td>\n      <td>NaN</td>\n      <td>NaN</td>\n      <td>NaN</td>\n      <td>NaN</td>\n    </tr>\n    <tr>\n      <th>62</th>\n      <td>63</td>\n      <td>NaN</td>\n      <td>NaN</td>\n      <td>NaN</td>\n      <td>NaN</td>\n      <td>NaN</td>\n      <td>NaN</td>\n      <td>NaN</td>\n      <td>NaN</td>\n      <td>NaN</td>\n      <td>...</td>\n      <td>NaN</td>\n      <td>NaN</td>\n      <td>NaN</td>\n      <td>NaN</td>\n      <td>NaN</td>\n      <td>NaN</td>\n      <td>NaN</td>\n      <td>NaN</td>\n      <td>NaN</td>\n      <td>NaN</td>\n    </tr>\n  </tbody>\n</table>\n<p>63 rows × 37 columns</p>\n</div>"
     },
     "execution_count": 11,
     "metadata": {},
     "output_type": "execute_result"
    }
   ],
   "source": [
    "#Drop more irrelevant columns\n",
    "second.drop(columns=['score','team1','team2','venue'],inplace=True)\n",
    "second"
   ],
   "metadata": {
    "collapsed": false,
    "pycharm": {
     "name": "#%%\n"
    }
   }
  },
  {
   "cell_type": "code",
   "execution_count": 12,
   "outputs": [
    {
     "data": {
      "text/plain": "    match_no day_of_week       date   hour                          venue  \\\n17        18         Fri  25-Nov-22  14:00             Al Thumama Stadium   \n6          7         Tue  22-Nov-22  17:00                    Stadium 974   \n38        39         Wed  30-Nov-22  20:00          Lusail Iconic Stadium   \n1          2         Mon  21-Nov-22  14:00  Khalifa International Stadium   \n3          4         Mon  21-Nov-22  20:00          Ahmed bin Ali Stadium   \n14        15         Thu  24-Nov-22  17:00                    Stadium 974   \n9         10         Wed  23-Nov-22  14:00  Khalifa International Stadium   \n0          1         Sun  20-Nov-22  17:00                Al Bayt Stadium   \n36        37         Wed  30-Nov-22  16:00              Al Janoub Stadium   \n44        45         Fri  02-Dec-22  16:00              Al Janoub Stadium   \n16        17         Fri  25-Nov-22  11:00          Ahmed bin Ali Stadium   \n50        51         Sun  04-Dec-22  16:00             Al Thumama Stadium   \n23        24         Sat  26-Nov-22  20:00          Lusail Iconic Stadium   \n13        14         Thu  24-Nov-22  14:00         Education City Stadium   \n4          5         Tue  22-Nov-22  11:00          Lusail Iconic Stadium   \n7          8         Tue  22-Nov-22  20:00              Al Janoub Stadium   \n12        13         Thu  24-Nov-22  11:00              Al Janoub Stadium   \n15        16         Thu  24-Nov-22  20:00          Lusail Iconic Stadium   \n31        32         Mon  28-Nov-22  20:00          Lusail Iconic Stadium   \n33        34         Tue  29-Nov-22  16:00                Al Bayt Stadium   \n\n                          referee        group              1               2  \\\n17            Antonio Mateu Lahoz      Group A          QATAR         SENEGAL   \n6                     Chris Beath      Group C         MEXICO          POLAND   \n38                 Michael Oliver      Group C         POLAND       ARGENTINA   \n1                   Raphael Claus      Group B        ENGLAND            IRAN   \n3   Abdulrahman Ibrahim Al Jassim      Group B  UNITED STATES           WALES   \n14                  Ismail Elfath      Group H       PORTUGAL           GHANA   \n9                     Ivan Barton      Group E        GERMANY           JAPAN   \n0                  Daniele Orsato      Group A          QATAR         ECUADOR   \n36               Mustapha Ghorbal      Group D      AUSTRALIA         DENMARK   \n44                 Daniel Siebert      Group H          GHANA         URUGUAY   \n16                  Mario Escobar      Group B          WALES            IRAN   \n50          Jesús Valenzuela Sáez  Round of 16         FRANCE          POLAND   \n23                 Daniele Orsato      Group C      ARGENTINA          MEXICO   \n13                 Clement Turpin      Group H        URUGUAY  KOREA REPUBLIC   \n4                   Slavko Vincic      Group C      ARGENTINA    SAUDI ARABIA   \n7                    Victor Gomes      Group D         FRANCE       AUSTRALIA   \n12                  Facundo Tello      Group G    SWITZERLAND        CAMEROON   \n15                Alireza Faghani      Group G         BRAZIL          SERBIA   \n31                Alireza Faghani      Group H       PORTUGAL         URUGUAY   \n33            Bakary Papa Gassama      Group A        ECUADOR         SENEGAL   \n\n    attendance  ...  1_panelties_scored  2_panelties_scored  1_goal_prevented  \\\n17       41797  ...                   0                   0                12   \n6        39369  ...                   0                   0                 8   \n38       84985  ...                   0                   0                25   \n1        45334  ...                   0                   1                 8   \n3        43418  ...                   0                   1                 7   \n14       42662  ...                   1                   0                 8   \n9        42608  ...                   1                   0                12   \n0        67372  ...                   0                   1                 6   \n36       41232  ...                   0                   0                14   \n44       43443  ...                   0                   0                12   \n16       40875  ...                   0                   0                21   \n50       40989  ...                   0                   1                11   \n23       88966  ...                   0                   0                 4   \n13       41663  ...                   0                   0                 6   \n4        88012  ...                   1                   0                 4   \n7        40875  ...                   0                   0                 4   \n12       39089  ...                   0                   0                 7   \n15       88103  ...                   0                   0                 4   \n31       88668  ...                   1                   0                11   \n33       66784  ...                   0                   1                15   \n\n    2_goal_prevented  1_own_goal  2_own_goal 1_forced_turnovers  \\\n17                11           0           0                 67   \n6                 15           0           0                 61   \n38                 4           0           0                 67   \n1                 13           0           0                 63   \n3                  7           0           0                 81   \n14                11           0           0                 70   \n9                 26           0           0                 55   \n0                  5           0           0                 52   \n36                 8           0           0                 90   \n44                 9           0           0                 92   \n16                 9           0           0                 89   \n50                16           0           0                 71   \n23                 5           0           0                 63   \n13                10           0           0                 65   \n4                 14           0           0                 65   \n7                 22           0           0                 64   \n12                 8           0           0                 64   \n15                24           0           0                 72   \n31                14           0           0                 68   \n33                 8           0           0                 59   \n\n    2_forced_turnovers  1_defensive_pressure_applied  \\\n17                  67                           308   \n6                   70                           193   \n38                  48                           438   \n1                   72                           139   \n3                   72                           242   \n14                  82                           286   \n9                   87                           164   \n0                   72                           256   \n36                  74                           341   \n44                  84                           248   \n16                  84                           161   \n50                  64                           220   \n23                  79                           220   \n13                  54                           240   \n4                   80                           163   \n7                   56                           250   \n12                  79                           313   \n15                  71                           236   \n31                  81                           226   \n33                  62                           190   \n\n    2_defensive_pressure_applied  \n17                           232  \n6                            290  \n38                           141  \n1                            416  \n3                            292  \n14                           326  \n9                            487  \n0                            279  \n36                           161  \n44                           293  \n16                           276  \n50                           297  \n23                           327  \n13                           231  \n4                            361  \n7                            316  \n12                           316  \n15                           338  \n31                           362  \n33                           243  \n\n[20 rows x 59 columns]",
      "text/html": "<div>\n<style scoped>\n    .dataframe tbody tr th:only-of-type {\n        vertical-align: middle;\n    }\n\n    .dataframe tbody tr th {\n        vertical-align: top;\n    }\n\n    .dataframe thead th {\n        text-align: right;\n    }\n</style>\n<table border=\"1\" class=\"dataframe\">\n  <thead>\n    <tr style=\"text-align: right;\">\n      <th></th>\n      <th>match_no</th>\n      <th>day_of_week</th>\n      <th>date</th>\n      <th>hour</th>\n      <th>venue</th>\n      <th>referee</th>\n      <th>group</th>\n      <th>1</th>\n      <th>2</th>\n      <th>attendance</th>\n      <th>...</th>\n      <th>1_panelties_scored</th>\n      <th>2_panelties_scored</th>\n      <th>1_goal_prevented</th>\n      <th>2_goal_prevented</th>\n      <th>1_own_goal</th>\n      <th>2_own_goal</th>\n      <th>1_forced_turnovers</th>\n      <th>2_forced_turnovers</th>\n      <th>1_defensive_pressure_applied</th>\n      <th>2_defensive_pressure_applied</th>\n    </tr>\n  </thead>\n  <tbody>\n    <tr>\n      <th>17</th>\n      <td>18</td>\n      <td>Fri</td>\n      <td>25-Nov-22</td>\n      <td>14:00</td>\n      <td>Al Thumama Stadium</td>\n      <td>Antonio Mateu Lahoz</td>\n      <td>Group A</td>\n      <td>QATAR</td>\n      <td>SENEGAL</td>\n      <td>41797</td>\n      <td>...</td>\n      <td>0</td>\n      <td>0</td>\n      <td>12</td>\n      <td>11</td>\n      <td>0</td>\n      <td>0</td>\n      <td>67</td>\n      <td>67</td>\n      <td>308</td>\n      <td>232</td>\n    </tr>\n    <tr>\n      <th>6</th>\n      <td>7</td>\n      <td>Tue</td>\n      <td>22-Nov-22</td>\n      <td>17:00</td>\n      <td>Stadium 974</td>\n      <td>Chris Beath</td>\n      <td>Group C</td>\n      <td>MEXICO</td>\n      <td>POLAND</td>\n      <td>39369</td>\n      <td>...</td>\n      <td>0</td>\n      <td>0</td>\n      <td>8</td>\n      <td>15</td>\n      <td>0</td>\n      <td>0</td>\n      <td>61</td>\n      <td>70</td>\n      <td>193</td>\n      <td>290</td>\n    </tr>\n    <tr>\n      <th>38</th>\n      <td>39</td>\n      <td>Wed</td>\n      <td>30-Nov-22</td>\n      <td>20:00</td>\n      <td>Lusail Iconic Stadium</td>\n      <td>Michael Oliver</td>\n      <td>Group C</td>\n      <td>POLAND</td>\n      <td>ARGENTINA</td>\n      <td>84985</td>\n      <td>...</td>\n      <td>0</td>\n      <td>0</td>\n      <td>25</td>\n      <td>4</td>\n      <td>0</td>\n      <td>0</td>\n      <td>67</td>\n      <td>48</td>\n      <td>438</td>\n      <td>141</td>\n    </tr>\n    <tr>\n      <th>1</th>\n      <td>2</td>\n      <td>Mon</td>\n      <td>21-Nov-22</td>\n      <td>14:00</td>\n      <td>Khalifa International Stadium</td>\n      <td>Raphael Claus</td>\n      <td>Group B</td>\n      <td>ENGLAND</td>\n      <td>IRAN</td>\n      <td>45334</td>\n      <td>...</td>\n      <td>0</td>\n      <td>1</td>\n      <td>8</td>\n      <td>13</td>\n      <td>0</td>\n      <td>0</td>\n      <td>63</td>\n      <td>72</td>\n      <td>139</td>\n      <td>416</td>\n    </tr>\n    <tr>\n      <th>3</th>\n      <td>4</td>\n      <td>Mon</td>\n      <td>21-Nov-22</td>\n      <td>20:00</td>\n      <td>Ahmed bin Ali Stadium</td>\n      <td>Abdulrahman Ibrahim Al Jassim</td>\n      <td>Group B</td>\n      <td>UNITED STATES</td>\n      <td>WALES</td>\n      <td>43418</td>\n      <td>...</td>\n      <td>0</td>\n      <td>1</td>\n      <td>7</td>\n      <td>7</td>\n      <td>0</td>\n      <td>0</td>\n      <td>81</td>\n      <td>72</td>\n      <td>242</td>\n      <td>292</td>\n    </tr>\n    <tr>\n      <th>14</th>\n      <td>15</td>\n      <td>Thu</td>\n      <td>24-Nov-22</td>\n      <td>17:00</td>\n      <td>Stadium 974</td>\n      <td>Ismail Elfath</td>\n      <td>Group H</td>\n      <td>PORTUGAL</td>\n      <td>GHANA</td>\n      <td>42662</td>\n      <td>...</td>\n      <td>1</td>\n      <td>0</td>\n      <td>8</td>\n      <td>11</td>\n      <td>0</td>\n      <td>0</td>\n      <td>70</td>\n      <td>82</td>\n      <td>286</td>\n      <td>326</td>\n    </tr>\n    <tr>\n      <th>9</th>\n      <td>10</td>\n      <td>Wed</td>\n      <td>23-Nov-22</td>\n      <td>14:00</td>\n      <td>Khalifa International Stadium</td>\n      <td>Ivan Barton</td>\n      <td>Group E</td>\n      <td>GERMANY</td>\n      <td>JAPAN</td>\n      <td>42608</td>\n      <td>...</td>\n      <td>1</td>\n      <td>0</td>\n      <td>12</td>\n      <td>26</td>\n      <td>0</td>\n      <td>0</td>\n      <td>55</td>\n      <td>87</td>\n      <td>164</td>\n      <td>487</td>\n    </tr>\n    <tr>\n      <th>0</th>\n      <td>1</td>\n      <td>Sun</td>\n      <td>20-Nov-22</td>\n      <td>17:00</td>\n      <td>Al Bayt Stadium</td>\n      <td>Daniele Orsato</td>\n      <td>Group A</td>\n      <td>QATAR</td>\n      <td>ECUADOR</td>\n      <td>67372</td>\n      <td>...</td>\n      <td>0</td>\n      <td>1</td>\n      <td>6</td>\n      <td>5</td>\n      <td>0</td>\n      <td>0</td>\n      <td>52</td>\n      <td>72</td>\n      <td>256</td>\n      <td>279</td>\n    </tr>\n    <tr>\n      <th>36</th>\n      <td>37</td>\n      <td>Wed</td>\n      <td>30-Nov-22</td>\n      <td>16:00</td>\n      <td>Al Janoub Stadium</td>\n      <td>Mustapha Ghorbal</td>\n      <td>Group D</td>\n      <td>AUSTRALIA</td>\n      <td>DENMARK</td>\n      <td>41232</td>\n      <td>...</td>\n      <td>0</td>\n      <td>0</td>\n      <td>14</td>\n      <td>8</td>\n      <td>0</td>\n      <td>0</td>\n      <td>90</td>\n      <td>74</td>\n      <td>341</td>\n      <td>161</td>\n    </tr>\n    <tr>\n      <th>44</th>\n      <td>45</td>\n      <td>Fri</td>\n      <td>02-Dec-22</td>\n      <td>16:00</td>\n      <td>Al Janoub Stadium</td>\n      <td>Daniel Siebert</td>\n      <td>Group H</td>\n      <td>GHANA</td>\n      <td>URUGUAY</td>\n      <td>43443</td>\n      <td>...</td>\n      <td>0</td>\n      <td>0</td>\n      <td>12</td>\n      <td>9</td>\n      <td>0</td>\n      <td>0</td>\n      <td>92</td>\n      <td>84</td>\n      <td>248</td>\n      <td>293</td>\n    </tr>\n    <tr>\n      <th>16</th>\n      <td>17</td>\n      <td>Fri</td>\n      <td>25-Nov-22</td>\n      <td>11:00</td>\n      <td>Ahmed bin Ali Stadium</td>\n      <td>Mario Escobar</td>\n      <td>Group B</td>\n      <td>WALES</td>\n      <td>IRAN</td>\n      <td>40875</td>\n      <td>...</td>\n      <td>0</td>\n      <td>0</td>\n      <td>21</td>\n      <td>9</td>\n      <td>0</td>\n      <td>0</td>\n      <td>89</td>\n      <td>84</td>\n      <td>161</td>\n      <td>276</td>\n    </tr>\n    <tr>\n      <th>50</th>\n      <td>51</td>\n      <td>Sun</td>\n      <td>04-Dec-22</td>\n      <td>16:00</td>\n      <td>Al Thumama Stadium</td>\n      <td>Jesús Valenzuela Sáez</td>\n      <td>Round of 16</td>\n      <td>FRANCE</td>\n      <td>POLAND</td>\n      <td>40989</td>\n      <td>...</td>\n      <td>0</td>\n      <td>1</td>\n      <td>11</td>\n      <td>16</td>\n      <td>0</td>\n      <td>0</td>\n      <td>71</td>\n      <td>64</td>\n      <td>220</td>\n      <td>297</td>\n    </tr>\n    <tr>\n      <th>23</th>\n      <td>24</td>\n      <td>Sat</td>\n      <td>26-Nov-22</td>\n      <td>20:00</td>\n      <td>Lusail Iconic Stadium</td>\n      <td>Daniele Orsato</td>\n      <td>Group C</td>\n      <td>ARGENTINA</td>\n      <td>MEXICO</td>\n      <td>88966</td>\n      <td>...</td>\n      <td>0</td>\n      <td>0</td>\n      <td>4</td>\n      <td>5</td>\n      <td>0</td>\n      <td>0</td>\n      <td>63</td>\n      <td>79</td>\n      <td>220</td>\n      <td>327</td>\n    </tr>\n    <tr>\n      <th>13</th>\n      <td>14</td>\n      <td>Thu</td>\n      <td>24-Nov-22</td>\n      <td>14:00</td>\n      <td>Education City Stadium</td>\n      <td>Clement Turpin</td>\n      <td>Group H</td>\n      <td>URUGUAY</td>\n      <td>KOREA REPUBLIC</td>\n      <td>41663</td>\n      <td>...</td>\n      <td>0</td>\n      <td>0</td>\n      <td>6</td>\n      <td>10</td>\n      <td>0</td>\n      <td>0</td>\n      <td>65</td>\n      <td>54</td>\n      <td>240</td>\n      <td>231</td>\n    </tr>\n    <tr>\n      <th>4</th>\n      <td>5</td>\n      <td>Tue</td>\n      <td>22-Nov-22</td>\n      <td>11:00</td>\n      <td>Lusail Iconic Stadium</td>\n      <td>Slavko Vincic</td>\n      <td>Group C</td>\n      <td>ARGENTINA</td>\n      <td>SAUDI ARABIA</td>\n      <td>88012</td>\n      <td>...</td>\n      <td>1</td>\n      <td>0</td>\n      <td>4</td>\n      <td>14</td>\n      <td>0</td>\n      <td>0</td>\n      <td>65</td>\n      <td>80</td>\n      <td>163</td>\n      <td>361</td>\n    </tr>\n    <tr>\n      <th>7</th>\n      <td>8</td>\n      <td>Tue</td>\n      <td>22-Nov-22</td>\n      <td>20:00</td>\n      <td>Al Janoub Stadium</td>\n      <td>Victor Gomes</td>\n      <td>Group D</td>\n      <td>FRANCE</td>\n      <td>AUSTRALIA</td>\n      <td>40875</td>\n      <td>...</td>\n      <td>0</td>\n      <td>0</td>\n      <td>4</td>\n      <td>22</td>\n      <td>0</td>\n      <td>0</td>\n      <td>64</td>\n      <td>56</td>\n      <td>250</td>\n      <td>316</td>\n    </tr>\n    <tr>\n      <th>12</th>\n      <td>13</td>\n      <td>Thu</td>\n      <td>24-Nov-22</td>\n      <td>11:00</td>\n      <td>Al Janoub Stadium</td>\n      <td>Facundo Tello</td>\n      <td>Group G</td>\n      <td>SWITZERLAND</td>\n      <td>CAMEROON</td>\n      <td>39089</td>\n      <td>...</td>\n      <td>0</td>\n      <td>0</td>\n      <td>7</td>\n      <td>8</td>\n      <td>0</td>\n      <td>0</td>\n      <td>64</td>\n      <td>79</td>\n      <td>313</td>\n      <td>316</td>\n    </tr>\n    <tr>\n      <th>15</th>\n      <td>16</td>\n      <td>Thu</td>\n      <td>24-Nov-22</td>\n      <td>20:00</td>\n      <td>Lusail Iconic Stadium</td>\n      <td>Alireza Faghani</td>\n      <td>Group G</td>\n      <td>BRAZIL</td>\n      <td>SERBIA</td>\n      <td>88103</td>\n      <td>...</td>\n      <td>0</td>\n      <td>0</td>\n      <td>4</td>\n      <td>24</td>\n      <td>0</td>\n      <td>0</td>\n      <td>72</td>\n      <td>71</td>\n      <td>236</td>\n      <td>338</td>\n    </tr>\n    <tr>\n      <th>31</th>\n      <td>32</td>\n      <td>Mon</td>\n      <td>28-Nov-22</td>\n      <td>20:00</td>\n      <td>Lusail Iconic Stadium</td>\n      <td>Alireza Faghani</td>\n      <td>Group H</td>\n      <td>PORTUGAL</td>\n      <td>URUGUAY</td>\n      <td>88668</td>\n      <td>...</td>\n      <td>1</td>\n      <td>0</td>\n      <td>11</td>\n      <td>14</td>\n      <td>0</td>\n      <td>0</td>\n      <td>68</td>\n      <td>81</td>\n      <td>226</td>\n      <td>362</td>\n    </tr>\n    <tr>\n      <th>33</th>\n      <td>34</td>\n      <td>Tue</td>\n      <td>29-Nov-22</td>\n      <td>16:00</td>\n      <td>Al Bayt Stadium</td>\n      <td>Bakary Papa Gassama</td>\n      <td>Group A</td>\n      <td>ECUADOR</td>\n      <td>SENEGAL</td>\n      <td>66784</td>\n      <td>...</td>\n      <td>0</td>\n      <td>1</td>\n      <td>15</td>\n      <td>8</td>\n      <td>0</td>\n      <td>0</td>\n      <td>59</td>\n      <td>62</td>\n      <td>190</td>\n      <td>243</td>\n    </tr>\n  </tbody>\n</table>\n<p>20 rows × 59 columns</p>\n</div>"
     },
     "execution_count": 12,
     "metadata": {},
     "output_type": "execute_result"
    }
   ],
   "source": [
    "first.sample(20)"
   ],
   "metadata": {
    "collapsed": false,
    "pycharm": {
     "name": "#%%\n"
    }
   }
  },
  {
   "cell_type": "code",
   "execution_count": 13,
   "outputs": [
    {
     "data": {
      "text/plain": "    match day_of_week       date   hour                          venue  \\\n0       1         Sun  20-Nov-22  17:00                Al Bayt Stadium   \n1       2         Mon  21-Nov-22  14:00  Khalifa International Stadium   \n2       3         Mon  21-Nov-22  17:00             Al Thumama Stadium   \n3       4         Mon  21-Nov-22  20:00          Ahmed bin Ali Stadium   \n4       5         Tue  22-Nov-22  11:00          Lusail Iconic Stadium   \n..    ...         ...        ...    ...                            ...   \n59     60         Sat  10-Dec-22  20:00                Al Bayt Stadium   \n60     61         Tue  13-Dec-22  20:00          Lusail Iconic Stadium   \n61     62         Wed  14-Dec-22  20:00                Al Bayt Stadium   \n62     63         Sat  17-Dec-22  16:00  Khalifa International Stadium   \n63     64         Sun  18-Dec-22  16:00          Lusail Iconic Stadium   \n\n                          referee                     group              1  \\\n0                  Daniele Orsato                   Group A          QATAR   \n1                   Raphael Claus                   Group B        ENGLAND   \n2                  Wilton Sampaio                   Group A        SENEGAL   \n3   Abdulrahman Ibrahim Al Jassim                   Group B  UNITED STATES   \n4                   Slavko Vincic                   Group C      ARGENTINA   \n..                            ...                       ...            ...   \n59                 Wilton Sampaio             Quarter-final        ENGLAND   \n60                 Daniele Orsato                Semi-Final      ARGENTINA   \n61                    Cesar Ramos                Semi-Final         FRANCE   \n62  Abdulrahman Ibrahim Al Jassim  Play-off for third place        CROATIA   \n63               Szymon Marciniak                     Final      ARGENTINA   \n\n               2  attendance  ...  1_panelties_scored  2_panelties_scored  \\\n0        ECUADOR       67372  ...                   0                   1   \n1           IRAN       45334  ...                   0                   1   \n2    NETHERLANDS       41721  ...                   0                   0   \n3          WALES       43418  ...                   0                   1   \n4   SAUDI ARABIA       88012  ...                   1                   0   \n..           ...         ...  ...                 ...                 ...   \n59        FRANCE       68895  ...                   1                   0   \n60       CROATIA       88966  ...                   1                   0   \n61       MOROCCO       68294  ...                   0                   0   \n62       MOROCCO       44137  ...                   0                   0   \n63        FRANCE       88966  ...                   1                   2   \n\n    1_goal_prevented  2_goal_prevented  1_own_goal  2_own_goal  \\\n0                  6                 5           0           0   \n1                  8                13           0           0   \n2                  9                15           0           0   \n3                  7                 7           0           0   \n4                  4                14           0           0   \n..               ...               ...         ...         ...   \n59                 9                15           0           0   \n60                12                10           0           0   \n61                13                14           0           0   \n62                 7                14           0           0   \n63                11                21           0           0   \n\n   1_forced_turnovers  2_forced_turnovers  1_defensive_pressure_applied  \\\n0                  52                  72                           256   \n1                  63                  72                           139   \n2                  63                  73                           263   \n3                  81                  72                           242   \n4                  65                  80                           163   \n..                ...                 ...                           ...   \n59                 49                  54                           193   \n60                 85                  63                           321   \n61                 72                  47                           328   \n62                 75                  72                           288   \n63                 87                 104                           280   \n\n    2_defensive_pressure_applied  \n0                            279  \n1                            416  \n2                            251  \n3                            292  \n4                            361  \n..                           ...  \n59                           308  \n60                           260  \n61                           218  \n62                           277  \n63                           409  \n\n[64 rows x 59 columns]",
      "text/html": "<div>\n<style scoped>\n    .dataframe tbody tr th:only-of-type {\n        vertical-align: middle;\n    }\n\n    .dataframe tbody tr th {\n        vertical-align: top;\n    }\n\n    .dataframe thead th {\n        text-align: right;\n    }\n</style>\n<table border=\"1\" class=\"dataframe\">\n  <thead>\n    <tr style=\"text-align: right;\">\n      <th></th>\n      <th>match</th>\n      <th>day_of_week</th>\n      <th>date</th>\n      <th>hour</th>\n      <th>venue</th>\n      <th>referee</th>\n      <th>group</th>\n      <th>1</th>\n      <th>2</th>\n      <th>attendance</th>\n      <th>...</th>\n      <th>1_panelties_scored</th>\n      <th>2_panelties_scored</th>\n      <th>1_goal_prevented</th>\n      <th>2_goal_prevented</th>\n      <th>1_own_goal</th>\n      <th>2_own_goal</th>\n      <th>1_forced_turnovers</th>\n      <th>2_forced_turnovers</th>\n      <th>1_defensive_pressure_applied</th>\n      <th>2_defensive_pressure_applied</th>\n    </tr>\n  </thead>\n  <tbody>\n    <tr>\n      <th>0</th>\n      <td>1</td>\n      <td>Sun</td>\n      <td>20-Nov-22</td>\n      <td>17:00</td>\n      <td>Al Bayt Stadium</td>\n      <td>Daniele Orsato</td>\n      <td>Group A</td>\n      <td>QATAR</td>\n      <td>ECUADOR</td>\n      <td>67372</td>\n      <td>...</td>\n      <td>0</td>\n      <td>1</td>\n      <td>6</td>\n      <td>5</td>\n      <td>0</td>\n      <td>0</td>\n      <td>52</td>\n      <td>72</td>\n      <td>256</td>\n      <td>279</td>\n    </tr>\n    <tr>\n      <th>1</th>\n      <td>2</td>\n      <td>Mon</td>\n      <td>21-Nov-22</td>\n      <td>14:00</td>\n      <td>Khalifa International Stadium</td>\n      <td>Raphael Claus</td>\n      <td>Group B</td>\n      <td>ENGLAND</td>\n      <td>IRAN</td>\n      <td>45334</td>\n      <td>...</td>\n      <td>0</td>\n      <td>1</td>\n      <td>8</td>\n      <td>13</td>\n      <td>0</td>\n      <td>0</td>\n      <td>63</td>\n      <td>72</td>\n      <td>139</td>\n      <td>416</td>\n    </tr>\n    <tr>\n      <th>2</th>\n      <td>3</td>\n      <td>Mon</td>\n      <td>21-Nov-22</td>\n      <td>17:00</td>\n      <td>Al Thumama Stadium</td>\n      <td>Wilton Sampaio</td>\n      <td>Group A</td>\n      <td>SENEGAL</td>\n      <td>NETHERLANDS</td>\n      <td>41721</td>\n      <td>...</td>\n      <td>0</td>\n      <td>0</td>\n      <td>9</td>\n      <td>15</td>\n      <td>0</td>\n      <td>0</td>\n      <td>63</td>\n      <td>73</td>\n      <td>263</td>\n      <td>251</td>\n    </tr>\n    <tr>\n      <th>3</th>\n      <td>4</td>\n      <td>Mon</td>\n      <td>21-Nov-22</td>\n      <td>20:00</td>\n      <td>Ahmed bin Ali Stadium</td>\n      <td>Abdulrahman Ibrahim Al Jassim</td>\n      <td>Group B</td>\n      <td>UNITED STATES</td>\n      <td>WALES</td>\n      <td>43418</td>\n      <td>...</td>\n      <td>0</td>\n      <td>1</td>\n      <td>7</td>\n      <td>7</td>\n      <td>0</td>\n      <td>0</td>\n      <td>81</td>\n      <td>72</td>\n      <td>242</td>\n      <td>292</td>\n    </tr>\n    <tr>\n      <th>4</th>\n      <td>5</td>\n      <td>Tue</td>\n      <td>22-Nov-22</td>\n      <td>11:00</td>\n      <td>Lusail Iconic Stadium</td>\n      <td>Slavko Vincic</td>\n      <td>Group C</td>\n      <td>ARGENTINA</td>\n      <td>SAUDI ARABIA</td>\n      <td>88012</td>\n      <td>...</td>\n      <td>1</td>\n      <td>0</td>\n      <td>4</td>\n      <td>14</td>\n      <td>0</td>\n      <td>0</td>\n      <td>65</td>\n      <td>80</td>\n      <td>163</td>\n      <td>361</td>\n    </tr>\n    <tr>\n      <th>...</th>\n      <td>...</td>\n      <td>...</td>\n      <td>...</td>\n      <td>...</td>\n      <td>...</td>\n      <td>...</td>\n      <td>...</td>\n      <td>...</td>\n      <td>...</td>\n      <td>...</td>\n      <td>...</td>\n      <td>...</td>\n      <td>...</td>\n      <td>...</td>\n      <td>...</td>\n      <td>...</td>\n      <td>...</td>\n      <td>...</td>\n      <td>...</td>\n      <td>...</td>\n      <td>...</td>\n    </tr>\n    <tr>\n      <th>59</th>\n      <td>60</td>\n      <td>Sat</td>\n      <td>10-Dec-22</td>\n      <td>20:00</td>\n      <td>Al Bayt Stadium</td>\n      <td>Wilton Sampaio</td>\n      <td>Quarter-final</td>\n      <td>ENGLAND</td>\n      <td>FRANCE</td>\n      <td>68895</td>\n      <td>...</td>\n      <td>1</td>\n      <td>0</td>\n      <td>9</td>\n      <td>15</td>\n      <td>0</td>\n      <td>0</td>\n      <td>49</td>\n      <td>54</td>\n      <td>193</td>\n      <td>308</td>\n    </tr>\n    <tr>\n      <th>60</th>\n      <td>61</td>\n      <td>Tue</td>\n      <td>13-Dec-22</td>\n      <td>20:00</td>\n      <td>Lusail Iconic Stadium</td>\n      <td>Daniele Orsato</td>\n      <td>Semi-Final</td>\n      <td>ARGENTINA</td>\n      <td>CROATIA</td>\n      <td>88966</td>\n      <td>...</td>\n      <td>1</td>\n      <td>0</td>\n      <td>12</td>\n      <td>10</td>\n      <td>0</td>\n      <td>0</td>\n      <td>85</td>\n      <td>63</td>\n      <td>321</td>\n      <td>260</td>\n    </tr>\n    <tr>\n      <th>61</th>\n      <td>62</td>\n      <td>Wed</td>\n      <td>14-Dec-22</td>\n      <td>20:00</td>\n      <td>Al Bayt Stadium</td>\n      <td>Cesar Ramos</td>\n      <td>Semi-Final</td>\n      <td>FRANCE</td>\n      <td>MOROCCO</td>\n      <td>68294</td>\n      <td>...</td>\n      <td>0</td>\n      <td>0</td>\n      <td>13</td>\n      <td>14</td>\n      <td>0</td>\n      <td>0</td>\n      <td>72</td>\n      <td>47</td>\n      <td>328</td>\n      <td>218</td>\n    </tr>\n    <tr>\n      <th>62</th>\n      <td>63</td>\n      <td>Sat</td>\n      <td>17-Dec-22</td>\n      <td>16:00</td>\n      <td>Khalifa International Stadium</td>\n      <td>Abdulrahman Ibrahim Al Jassim</td>\n      <td>Play-off for third place</td>\n      <td>CROATIA</td>\n      <td>MOROCCO</td>\n      <td>44137</td>\n      <td>...</td>\n      <td>0</td>\n      <td>0</td>\n      <td>7</td>\n      <td>14</td>\n      <td>0</td>\n      <td>0</td>\n      <td>75</td>\n      <td>72</td>\n      <td>288</td>\n      <td>277</td>\n    </tr>\n    <tr>\n      <th>63</th>\n      <td>64</td>\n      <td>Sun</td>\n      <td>18-Dec-22</td>\n      <td>16:00</td>\n      <td>Lusail Iconic Stadium</td>\n      <td>Szymon Marciniak</td>\n      <td>Final</td>\n      <td>ARGENTINA</td>\n      <td>FRANCE</td>\n      <td>88966</td>\n      <td>...</td>\n      <td>1</td>\n      <td>2</td>\n      <td>11</td>\n      <td>21</td>\n      <td>0</td>\n      <td>0</td>\n      <td>87</td>\n      <td>104</td>\n      <td>280</td>\n      <td>409</td>\n    </tr>\n  </tbody>\n</table>\n<p>64 rows × 59 columns</p>\n</div>"
     },
     "execution_count": 13,
     "metadata": {},
     "output_type": "execute_result"
    }
   ],
   "source": [
    "first.rename(columns={'match_no':'match'},inplace=True)\n",
    "first"
   ],
   "metadata": {
    "collapsed": false,
    "pycharm": {
     "name": "#%%\n"
    }
   }
  },
  {
   "cell_type": "code",
   "execution_count": 14,
   "outputs": [
    {
     "data": {
      "text/plain": "    match day_of_week       date   hour                          venue  \\\n0       1         Sun  20-Nov-22  17:00                Al Bayt Stadium   \n1       2         Mon  21-Nov-22  14:00  Khalifa International Stadium   \n2       3         Mon  21-Nov-22  17:00             Al Thumama Stadium   \n3       4         Mon  21-Nov-22  20:00          Ahmed bin Ali Stadium   \n4       5         Tue  22-Nov-22  11:00          Lusail Iconic Stadium   \n..    ...         ...        ...    ...                            ...   \n59     60         Sat  10-Dec-22  20:00                Al Bayt Stadium   \n60     61         Tue  13-Dec-22  20:00          Lusail Iconic Stadium   \n61     62         Wed  14-Dec-22  20:00                Al Bayt Stadium   \n62     63         Sat  17-Dec-22  16:00  Khalifa International Stadium   \n63     64         Sun  18-Dec-22  16:00          Lusail Iconic Stadium   \n\n                          referee                     group              1  \\\n0                  Daniele Orsato                   Group A          QATAR   \n1                   Raphael Claus                   Group B        ENGLAND   \n2                  Wilton Sampaio                   Group A        SENEGAL   \n3   Abdulrahman Ibrahim Al Jassim                   Group B  UNITED STATES   \n4                   Slavko Vincic                   Group C      ARGENTINA   \n..                            ...                       ...            ...   \n59                 Wilton Sampaio             Quarter-final        ENGLAND   \n60                 Daniele Orsato                Semi-Final      ARGENTINA   \n61                    Cesar Ramos                Semi-Final         FRANCE   \n62  Abdulrahman Ibrahim Al Jassim  Play-off for third place        CROATIA   \n63               Szymon Marciniak                     Final      ARGENTINA   \n\n               2  attendance  ...  team1_offsides  team2_offsides  \\\n0        ECUADOR       67372  ...             3.0             4.0   \n1           IRAN       45334  ...             2.0             2.0   \n2    NETHERLANDS       41721  ...             2.0             1.0   \n3          WALES       43418  ...             1.0             1.0   \n4   SAUDI ARABIA       88012  ...            10.0             1.0   \n..           ...         ...  ...             ...             ...   \n59        FRANCE       68895  ...             1.0             2.0   \n60       CROATIA       88966  ...             NaN             NaN   \n61       MOROCCO       68294  ...             NaN             NaN   \n62       MOROCCO       44137  ...             NaN             NaN   \n63        FRANCE       88966  ...             NaN             NaN   \n\n    penalties scored team1  penalties scored team2  free kicks team1  \\\n0                      0.0                     1.0              19.0   \n1                      0.0                     1.0              16.0   \n2                      0.0                     0.0              14.0   \n3                      0.0                     1.0              11.0   \n4                      1.0                     0.0              22.0   \n..                     ...                     ...               ...   \n59                     1.0                     0.0              10.0   \n60                     NaN                     NaN               NaN   \n61                     NaN                     NaN               NaN   \n62                     NaN                     NaN               NaN   \n63                     NaN                     NaN               NaN   \n\n    free kicks team2 yellow cards team1  yellow cards team2  red cards team1  \\\n0               17.0                4.0                 2.0              0.0   \n1               10.0                0.0                 2.0              0.0   \n2               14.0                2.0                 1.0              0.0   \n3               15.0                4.0                 2.0              0.0   \n4               16.0                0.0                 6.0              0.0   \n..               ...                ...                 ...              ...   \n59              14.0                1.0                 3.0              0.0   \n60               NaN                NaN                 NaN              NaN   \n61               NaN                NaN                 NaN              NaN   \n62               NaN                NaN                 NaN              NaN   \n63               NaN                NaN                 NaN              NaN   \n\n    red cards team2  \n0               0.0  \n1               0.0  \n2               0.0  \n3               0.0  \n4               0.0  \n..              ...  \n59              0.0  \n60              NaN  \n61              NaN  \n62              NaN  \n63              NaN  \n\n[64 rows x 95 columns]",
      "text/html": "<div>\n<style scoped>\n    .dataframe tbody tr th:only-of-type {\n        vertical-align: middle;\n    }\n\n    .dataframe tbody tr th {\n        vertical-align: top;\n    }\n\n    .dataframe thead th {\n        text-align: right;\n    }\n</style>\n<table border=\"1\" class=\"dataframe\">\n  <thead>\n    <tr style=\"text-align: right;\">\n      <th></th>\n      <th>match</th>\n      <th>day_of_week</th>\n      <th>date</th>\n      <th>hour</th>\n      <th>venue</th>\n      <th>referee</th>\n      <th>group</th>\n      <th>1</th>\n      <th>2</th>\n      <th>attendance</th>\n      <th>...</th>\n      <th>team1_offsides</th>\n      <th>team2_offsides</th>\n      <th>penalties scored team1</th>\n      <th>penalties scored team2</th>\n      <th>free kicks team1</th>\n      <th>free kicks team2</th>\n      <th>yellow cards team1</th>\n      <th>yellow cards team2</th>\n      <th>red cards team1</th>\n      <th>red cards team2</th>\n    </tr>\n  </thead>\n  <tbody>\n    <tr>\n      <th>0</th>\n      <td>1</td>\n      <td>Sun</td>\n      <td>20-Nov-22</td>\n      <td>17:00</td>\n      <td>Al Bayt Stadium</td>\n      <td>Daniele Orsato</td>\n      <td>Group A</td>\n      <td>QATAR</td>\n      <td>ECUADOR</td>\n      <td>67372</td>\n      <td>...</td>\n      <td>3.0</td>\n      <td>4.0</td>\n      <td>0.0</td>\n      <td>1.0</td>\n      <td>19.0</td>\n      <td>17.0</td>\n      <td>4.0</td>\n      <td>2.0</td>\n      <td>0.0</td>\n      <td>0.0</td>\n    </tr>\n    <tr>\n      <th>1</th>\n      <td>2</td>\n      <td>Mon</td>\n      <td>21-Nov-22</td>\n      <td>14:00</td>\n      <td>Khalifa International Stadium</td>\n      <td>Raphael Claus</td>\n      <td>Group B</td>\n      <td>ENGLAND</td>\n      <td>IRAN</td>\n      <td>45334</td>\n      <td>...</td>\n      <td>2.0</td>\n      <td>2.0</td>\n      <td>0.0</td>\n      <td>1.0</td>\n      <td>16.0</td>\n      <td>10.0</td>\n      <td>0.0</td>\n      <td>2.0</td>\n      <td>0.0</td>\n      <td>0.0</td>\n    </tr>\n    <tr>\n      <th>2</th>\n      <td>3</td>\n      <td>Mon</td>\n      <td>21-Nov-22</td>\n      <td>17:00</td>\n      <td>Al Thumama Stadium</td>\n      <td>Wilton Sampaio</td>\n      <td>Group A</td>\n      <td>SENEGAL</td>\n      <td>NETHERLANDS</td>\n      <td>41721</td>\n      <td>...</td>\n      <td>2.0</td>\n      <td>1.0</td>\n      <td>0.0</td>\n      <td>0.0</td>\n      <td>14.0</td>\n      <td>14.0</td>\n      <td>2.0</td>\n      <td>1.0</td>\n      <td>0.0</td>\n      <td>0.0</td>\n    </tr>\n    <tr>\n      <th>3</th>\n      <td>4</td>\n      <td>Mon</td>\n      <td>21-Nov-22</td>\n      <td>20:00</td>\n      <td>Ahmed bin Ali Stadium</td>\n      <td>Abdulrahman Ibrahim Al Jassim</td>\n      <td>Group B</td>\n      <td>UNITED STATES</td>\n      <td>WALES</td>\n      <td>43418</td>\n      <td>...</td>\n      <td>1.0</td>\n      <td>1.0</td>\n      <td>0.0</td>\n      <td>1.0</td>\n      <td>11.0</td>\n      <td>15.0</td>\n      <td>4.0</td>\n      <td>2.0</td>\n      <td>0.0</td>\n      <td>0.0</td>\n    </tr>\n    <tr>\n      <th>4</th>\n      <td>5</td>\n      <td>Tue</td>\n      <td>22-Nov-22</td>\n      <td>11:00</td>\n      <td>Lusail Iconic Stadium</td>\n      <td>Slavko Vincic</td>\n      <td>Group C</td>\n      <td>ARGENTINA</td>\n      <td>SAUDI ARABIA</td>\n      <td>88012</td>\n      <td>...</td>\n      <td>10.0</td>\n      <td>1.0</td>\n      <td>1.0</td>\n      <td>0.0</td>\n      <td>22.0</td>\n      <td>16.0</td>\n      <td>0.0</td>\n      <td>6.0</td>\n      <td>0.0</td>\n      <td>0.0</td>\n    </tr>\n    <tr>\n      <th>...</th>\n      <td>...</td>\n      <td>...</td>\n      <td>...</td>\n      <td>...</td>\n      <td>...</td>\n      <td>...</td>\n      <td>...</td>\n      <td>...</td>\n      <td>...</td>\n      <td>...</td>\n      <td>...</td>\n      <td>...</td>\n      <td>...</td>\n      <td>...</td>\n      <td>...</td>\n      <td>...</td>\n      <td>...</td>\n      <td>...</td>\n      <td>...</td>\n      <td>...</td>\n      <td>...</td>\n    </tr>\n    <tr>\n      <th>59</th>\n      <td>60</td>\n      <td>Sat</td>\n      <td>10-Dec-22</td>\n      <td>20:00</td>\n      <td>Al Bayt Stadium</td>\n      <td>Wilton Sampaio</td>\n      <td>Quarter-final</td>\n      <td>ENGLAND</td>\n      <td>FRANCE</td>\n      <td>68895</td>\n      <td>...</td>\n      <td>1.0</td>\n      <td>2.0</td>\n      <td>1.0</td>\n      <td>0.0</td>\n      <td>10.0</td>\n      <td>14.0</td>\n      <td>1.0</td>\n      <td>3.0</td>\n      <td>0.0</td>\n      <td>0.0</td>\n    </tr>\n    <tr>\n      <th>60</th>\n      <td>61</td>\n      <td>Tue</td>\n      <td>13-Dec-22</td>\n      <td>20:00</td>\n      <td>Lusail Iconic Stadium</td>\n      <td>Daniele Orsato</td>\n      <td>Semi-Final</td>\n      <td>ARGENTINA</td>\n      <td>CROATIA</td>\n      <td>88966</td>\n      <td>...</td>\n      <td>NaN</td>\n      <td>NaN</td>\n      <td>NaN</td>\n      <td>NaN</td>\n      <td>NaN</td>\n      <td>NaN</td>\n      <td>NaN</td>\n      <td>NaN</td>\n      <td>NaN</td>\n      <td>NaN</td>\n    </tr>\n    <tr>\n      <th>61</th>\n      <td>62</td>\n      <td>Wed</td>\n      <td>14-Dec-22</td>\n      <td>20:00</td>\n      <td>Al Bayt Stadium</td>\n      <td>Cesar Ramos</td>\n      <td>Semi-Final</td>\n      <td>FRANCE</td>\n      <td>MOROCCO</td>\n      <td>68294</td>\n      <td>...</td>\n      <td>NaN</td>\n      <td>NaN</td>\n      <td>NaN</td>\n      <td>NaN</td>\n      <td>NaN</td>\n      <td>NaN</td>\n      <td>NaN</td>\n      <td>NaN</td>\n      <td>NaN</td>\n      <td>NaN</td>\n    </tr>\n    <tr>\n      <th>62</th>\n      <td>63</td>\n      <td>Sat</td>\n      <td>17-Dec-22</td>\n      <td>16:00</td>\n      <td>Khalifa International Stadium</td>\n      <td>Abdulrahman Ibrahim Al Jassim</td>\n      <td>Play-off for third place</td>\n      <td>CROATIA</td>\n      <td>MOROCCO</td>\n      <td>44137</td>\n      <td>...</td>\n      <td>NaN</td>\n      <td>NaN</td>\n      <td>NaN</td>\n      <td>NaN</td>\n      <td>NaN</td>\n      <td>NaN</td>\n      <td>NaN</td>\n      <td>NaN</td>\n      <td>NaN</td>\n      <td>NaN</td>\n    </tr>\n    <tr>\n      <th>63</th>\n      <td>64</td>\n      <td>Sun</td>\n      <td>18-Dec-22</td>\n      <td>16:00</td>\n      <td>Lusail Iconic Stadium</td>\n      <td>Szymon Marciniak</td>\n      <td>Final</td>\n      <td>ARGENTINA</td>\n      <td>FRANCE</td>\n      <td>88966</td>\n      <td>...</td>\n      <td>NaN</td>\n      <td>NaN</td>\n      <td>NaN</td>\n      <td>NaN</td>\n      <td>NaN</td>\n      <td>NaN</td>\n      <td>NaN</td>\n      <td>NaN</td>\n      <td>NaN</td>\n      <td>NaN</td>\n    </tr>\n  </tbody>\n</table>\n<p>64 rows × 95 columns</p>\n</div>"
     },
     "execution_count": 14,
     "metadata": {},
     "output_type": "execute_result"
    }
   ],
   "source": [
    "master_df = first.merge(second,how=\"left\",on=\"match\")\n",
    "master_df"
   ],
   "metadata": {
    "collapsed": false,
    "pycharm": {
     "name": "#%%\n"
    }
   }
  },
  {
   "cell_type": "code",
   "execution_count": 15,
   "outputs": [
    {
     "data": {
      "text/plain": "    match day_of_week       date   hour                          venue  \\\n0       1         Sun  20-Nov-22  17:00                Al Bayt Stadium   \n1       2         Mon  21-Nov-22  14:00  Khalifa International Stadium   \n2       3         Mon  21-Nov-22  17:00             Al Thumama Stadium   \n3       4         Mon  21-Nov-22  20:00          Ahmed bin Ali Stadium   \n4       5         Tue  22-Nov-22  11:00          Lusail Iconic Stadium   \n..    ...         ...        ...    ...                            ...   \n59     60         Sat  10-Dec-22  20:00                Al Bayt Stadium   \n60     61         Tue  13-Dec-22  20:00          Lusail Iconic Stadium   \n61     62         Wed  14-Dec-22  20:00                Al Bayt Stadium   \n62     63         Sat  17-Dec-22  16:00  Khalifa International Stadium   \n63     64         Sun  18-Dec-22  16:00          Lusail Iconic Stadium   \n\n                          referee                     group              1  \\\n0                  Daniele Orsato                   Group A          QATAR   \n1                   Raphael Claus                   Group B        ENGLAND   \n2                  Wilton Sampaio                   Group A        SENEGAL   \n3   Abdulrahman Ibrahim Al Jassim                   Group B  UNITED STATES   \n4                   Slavko Vincic                   Group C      ARGENTINA   \n..                            ...                       ...            ...   \n59                 Wilton Sampaio             Quarter-final        ENGLAND   \n60                 Daniele Orsato                Semi-Final      ARGENTINA   \n61                    Cesar Ramos                Semi-Final         FRANCE   \n62  Abdulrahman Ibrahim Al Jassim  Play-off for third place        CROATIA   \n63               Szymon Marciniak                     Final      ARGENTINA   \n\n               2  attendance  ...  team1_offsides  team2_offsides  \\\n0        ECUADOR       67372  ...             3.0             4.0   \n1           IRAN       45334  ...             2.0             2.0   \n2    NETHERLANDS       41721  ...             2.0             1.0   \n3          WALES       43418  ...             1.0             1.0   \n4   SAUDI ARABIA       88012  ...            10.0             1.0   \n..           ...         ...  ...             ...             ...   \n59        FRANCE       68895  ...             1.0             2.0   \n60       CROATIA       88966  ...             NaN             NaN   \n61       MOROCCO       68294  ...             NaN             NaN   \n62       MOROCCO       44137  ...             NaN             NaN   \n63        FRANCE       88966  ...             NaN             NaN   \n\n    penalties scored team1  penalties scored team2  free kicks team1  \\\n0                      0.0                     1.0              19.0   \n1                      0.0                     1.0              16.0   \n2                      0.0                     0.0              14.0   \n3                      0.0                     1.0              11.0   \n4                      1.0                     0.0              22.0   \n..                     ...                     ...               ...   \n59                     1.0                     0.0              10.0   \n60                     NaN                     NaN               NaN   \n61                     NaN                     NaN               NaN   \n62                     NaN                     NaN               NaN   \n63                     NaN                     NaN               NaN   \n\n    free kicks team2  yellow cards team1  yellow cards team2  red cards team1  \\\n0               17.0                 4.0                 2.0              0.0   \n1               10.0                 0.0                 2.0              0.0   \n2               14.0                 2.0                 1.0              0.0   \n3               15.0                 4.0                 2.0              0.0   \n4               16.0                 0.0                 6.0              0.0   \n..               ...                 ...                 ...              ...   \n59              14.0                 1.0                 3.0              0.0   \n60               NaN                 NaN                 NaN              NaN   \n61               NaN                 NaN                 NaN              NaN   \n62               NaN                 NaN                 NaN              NaN   \n63               NaN                 NaN                 NaN              NaN   \n\n    red cards team2  \n0               0.0  \n1               0.0  \n2               0.0  \n3               0.0  \n4               0.0  \n..              ...  \n59              0.0  \n60              NaN  \n61              NaN  \n62              NaN  \n63              NaN  \n\n[64 rows x 78 columns]",
      "text/html": "<div>\n<style scoped>\n    .dataframe tbody tr th:only-of-type {\n        vertical-align: middle;\n    }\n\n    .dataframe tbody tr th {\n        vertical-align: top;\n    }\n\n    .dataframe thead th {\n        text-align: right;\n    }\n</style>\n<table border=\"1\" class=\"dataframe\">\n  <thead>\n    <tr style=\"text-align: right;\">\n      <th></th>\n      <th>match</th>\n      <th>day_of_week</th>\n      <th>date</th>\n      <th>hour</th>\n      <th>venue</th>\n      <th>referee</th>\n      <th>group</th>\n      <th>1</th>\n      <th>2</th>\n      <th>attendance</th>\n      <th>...</th>\n      <th>team1_offsides</th>\n      <th>team2_offsides</th>\n      <th>penalties scored team1</th>\n      <th>penalties scored team2</th>\n      <th>free kicks team1</th>\n      <th>free kicks team2</th>\n      <th>yellow cards team1</th>\n      <th>yellow cards team2</th>\n      <th>red cards team1</th>\n      <th>red cards team2</th>\n    </tr>\n  </thead>\n  <tbody>\n    <tr>\n      <th>0</th>\n      <td>1</td>\n      <td>Sun</td>\n      <td>20-Nov-22</td>\n      <td>17:00</td>\n      <td>Al Bayt Stadium</td>\n      <td>Daniele Orsato</td>\n      <td>Group A</td>\n      <td>QATAR</td>\n      <td>ECUADOR</td>\n      <td>67372</td>\n      <td>...</td>\n      <td>3.0</td>\n      <td>4.0</td>\n      <td>0.0</td>\n      <td>1.0</td>\n      <td>19.0</td>\n      <td>17.0</td>\n      <td>4.0</td>\n      <td>2.0</td>\n      <td>0.0</td>\n      <td>0.0</td>\n    </tr>\n    <tr>\n      <th>1</th>\n      <td>2</td>\n      <td>Mon</td>\n      <td>21-Nov-22</td>\n      <td>14:00</td>\n      <td>Khalifa International Stadium</td>\n      <td>Raphael Claus</td>\n      <td>Group B</td>\n      <td>ENGLAND</td>\n      <td>IRAN</td>\n      <td>45334</td>\n      <td>...</td>\n      <td>2.0</td>\n      <td>2.0</td>\n      <td>0.0</td>\n      <td>1.0</td>\n      <td>16.0</td>\n      <td>10.0</td>\n      <td>0.0</td>\n      <td>2.0</td>\n      <td>0.0</td>\n      <td>0.0</td>\n    </tr>\n    <tr>\n      <th>2</th>\n      <td>3</td>\n      <td>Mon</td>\n      <td>21-Nov-22</td>\n      <td>17:00</td>\n      <td>Al Thumama Stadium</td>\n      <td>Wilton Sampaio</td>\n      <td>Group A</td>\n      <td>SENEGAL</td>\n      <td>NETHERLANDS</td>\n      <td>41721</td>\n      <td>...</td>\n      <td>2.0</td>\n      <td>1.0</td>\n      <td>0.0</td>\n      <td>0.0</td>\n      <td>14.0</td>\n      <td>14.0</td>\n      <td>2.0</td>\n      <td>1.0</td>\n      <td>0.0</td>\n      <td>0.0</td>\n    </tr>\n    <tr>\n      <th>3</th>\n      <td>4</td>\n      <td>Mon</td>\n      <td>21-Nov-22</td>\n      <td>20:00</td>\n      <td>Ahmed bin Ali Stadium</td>\n      <td>Abdulrahman Ibrahim Al Jassim</td>\n      <td>Group B</td>\n      <td>UNITED STATES</td>\n      <td>WALES</td>\n      <td>43418</td>\n      <td>...</td>\n      <td>1.0</td>\n      <td>1.0</td>\n      <td>0.0</td>\n      <td>1.0</td>\n      <td>11.0</td>\n      <td>15.0</td>\n      <td>4.0</td>\n      <td>2.0</td>\n      <td>0.0</td>\n      <td>0.0</td>\n    </tr>\n    <tr>\n      <th>4</th>\n      <td>5</td>\n      <td>Tue</td>\n      <td>22-Nov-22</td>\n      <td>11:00</td>\n      <td>Lusail Iconic Stadium</td>\n      <td>Slavko Vincic</td>\n      <td>Group C</td>\n      <td>ARGENTINA</td>\n      <td>SAUDI ARABIA</td>\n      <td>88012</td>\n      <td>...</td>\n      <td>10.0</td>\n      <td>1.0</td>\n      <td>1.0</td>\n      <td>0.0</td>\n      <td>22.0</td>\n      <td>16.0</td>\n      <td>0.0</td>\n      <td>6.0</td>\n      <td>0.0</td>\n      <td>0.0</td>\n    </tr>\n    <tr>\n      <th>...</th>\n      <td>...</td>\n      <td>...</td>\n      <td>...</td>\n      <td>...</td>\n      <td>...</td>\n      <td>...</td>\n      <td>...</td>\n      <td>...</td>\n      <td>...</td>\n      <td>...</td>\n      <td>...</td>\n      <td>...</td>\n      <td>...</td>\n      <td>...</td>\n      <td>...</td>\n      <td>...</td>\n      <td>...</td>\n      <td>...</td>\n      <td>...</td>\n      <td>...</td>\n      <td>...</td>\n    </tr>\n    <tr>\n      <th>59</th>\n      <td>60</td>\n      <td>Sat</td>\n      <td>10-Dec-22</td>\n      <td>20:00</td>\n      <td>Al Bayt Stadium</td>\n      <td>Wilton Sampaio</td>\n      <td>Quarter-final</td>\n      <td>ENGLAND</td>\n      <td>FRANCE</td>\n      <td>68895</td>\n      <td>...</td>\n      <td>1.0</td>\n      <td>2.0</td>\n      <td>1.0</td>\n      <td>0.0</td>\n      <td>10.0</td>\n      <td>14.0</td>\n      <td>1.0</td>\n      <td>3.0</td>\n      <td>0.0</td>\n      <td>0.0</td>\n    </tr>\n    <tr>\n      <th>60</th>\n      <td>61</td>\n      <td>Tue</td>\n      <td>13-Dec-22</td>\n      <td>20:00</td>\n      <td>Lusail Iconic Stadium</td>\n      <td>Daniele Orsato</td>\n      <td>Semi-Final</td>\n      <td>ARGENTINA</td>\n      <td>CROATIA</td>\n      <td>88966</td>\n      <td>...</td>\n      <td>NaN</td>\n      <td>NaN</td>\n      <td>NaN</td>\n      <td>NaN</td>\n      <td>NaN</td>\n      <td>NaN</td>\n      <td>NaN</td>\n      <td>NaN</td>\n      <td>NaN</td>\n      <td>NaN</td>\n    </tr>\n    <tr>\n      <th>61</th>\n      <td>62</td>\n      <td>Wed</td>\n      <td>14-Dec-22</td>\n      <td>20:00</td>\n      <td>Al Bayt Stadium</td>\n      <td>Cesar Ramos</td>\n      <td>Semi-Final</td>\n      <td>FRANCE</td>\n      <td>MOROCCO</td>\n      <td>68294</td>\n      <td>...</td>\n      <td>NaN</td>\n      <td>NaN</td>\n      <td>NaN</td>\n      <td>NaN</td>\n      <td>NaN</td>\n      <td>NaN</td>\n      <td>NaN</td>\n      <td>NaN</td>\n      <td>NaN</td>\n      <td>NaN</td>\n    </tr>\n    <tr>\n      <th>62</th>\n      <td>63</td>\n      <td>Sat</td>\n      <td>17-Dec-22</td>\n      <td>16:00</td>\n      <td>Khalifa International Stadium</td>\n      <td>Abdulrahman Ibrahim Al Jassim</td>\n      <td>Play-off for third place</td>\n      <td>CROATIA</td>\n      <td>MOROCCO</td>\n      <td>44137</td>\n      <td>...</td>\n      <td>NaN</td>\n      <td>NaN</td>\n      <td>NaN</td>\n      <td>NaN</td>\n      <td>NaN</td>\n      <td>NaN</td>\n      <td>NaN</td>\n      <td>NaN</td>\n      <td>NaN</td>\n      <td>NaN</td>\n    </tr>\n    <tr>\n      <th>63</th>\n      <td>64</td>\n      <td>Sun</td>\n      <td>18-Dec-22</td>\n      <td>16:00</td>\n      <td>Lusail Iconic Stadium</td>\n      <td>Szymon Marciniak</td>\n      <td>Final</td>\n      <td>ARGENTINA</td>\n      <td>FRANCE</td>\n      <td>88966</td>\n      <td>...</td>\n      <td>NaN</td>\n      <td>NaN</td>\n      <td>NaN</td>\n      <td>NaN</td>\n      <td>NaN</td>\n      <td>NaN</td>\n      <td>NaN</td>\n      <td>NaN</td>\n      <td>NaN</td>\n      <td>NaN</td>\n    </tr>\n  </tbody>\n</table>\n<p>64 rows × 78 columns</p>\n</div>"
     },
     "execution_count": 15,
     "metadata": {},
     "output_type": "execute_result"
    }
   ],
   "source": [
    "master_df.drop(columns={'team1_possession','team2_possession','1_panelties_scored','2_panelties_scored','1_passes','2_passes','1_passes_compeletd','2_passes_compeletd','1_red_cards','2_red_cards','faul_against_1','faul_against_2','1_yellow_cards','2_yellow_cards','1_ontarget','2_ontarget','final_score'},inplace=True)\n",
    "master_df"
   ],
   "metadata": {
    "collapsed": false,
    "pycharm": {
     "name": "#%%\n"
    }
   }
  },
  {
   "cell_type": "code",
   "execution_count": 16,
   "outputs": [
    {
     "data": {
      "text/plain": "    match day_of_week       date   hour                          venue  \\\n0       1         Sun  20-Nov-22  17:00                Al Bayt Stadium   \n1       2         Mon  21-Nov-22  14:00  Khalifa International Stadium   \n2       3         Mon  21-Nov-22  17:00             Al Thumama Stadium   \n3       4         Mon  21-Nov-22  20:00          Ahmed bin Ali Stadium   \n4       5         Tue  22-Nov-22  11:00          Lusail Iconic Stadium   \n..    ...         ...        ...    ...                            ...   \n59     60         Sat  10-Dec-22  20:00                Al Bayt Stadium   \n60     61         Tue  13-Dec-22  20:00          Lusail Iconic Stadium   \n61     62         Wed  14-Dec-22  20:00                Al Bayt Stadium   \n62     63         Sat  17-Dec-22  16:00  Khalifa International Stadium   \n63     64         Sun  18-Dec-22  16:00          Lusail Iconic Stadium   \n\n                          referee                     group              1  \\\n0                  Daniele Orsato                   Group A          QATAR   \n1                   Raphael Claus                   Group B        ENGLAND   \n2                  Wilton Sampaio                   Group A        SENEGAL   \n3   Abdulrahman Ibrahim Al Jassim                   Group B  UNITED STATES   \n4                   Slavko Vincic                   Group C      ARGENTINA   \n..                            ...                       ...            ...   \n59                 Wilton Sampaio             Quarter-final        ENGLAND   \n60                 Daniele Orsato                Semi-Final      ARGENTINA   \n61                    Cesar Ramos                Semi-Final         FRANCE   \n62  Abdulrahman Ibrahim Al Jassim  Play-off for third place        CROATIA   \n63               Szymon Marciniak                     Final      ARGENTINA   \n\n               2  attendance  ...  team1_offsides  team2_offsides  \\\n0        ECUADOR       67372  ...             3.0             4.0   \n1           IRAN       45334  ...             2.0             2.0   \n2    NETHERLANDS       41721  ...             2.0             1.0   \n3          WALES       43418  ...             1.0             1.0   \n4   SAUDI ARABIA       88012  ...            10.0             1.0   \n..           ...         ...  ...             ...             ...   \n59        FRANCE       68895  ...             1.0             2.0   \n60       CROATIA       88966  ...             NaN             NaN   \n61       MOROCCO       68294  ...             NaN             NaN   \n62       MOROCCO       44137  ...             NaN             NaN   \n63        FRANCE       88966  ...             NaN             NaN   \n\n    penalties scored team1  penalties scored team2  free kicks team1  \\\n0                      0.0                     1.0              19.0   \n1                      0.0                     1.0              16.0   \n2                      0.0                     0.0              14.0   \n3                      0.0                     1.0              11.0   \n4                      1.0                     0.0              22.0   \n..                     ...                     ...               ...   \n59                     1.0                     0.0              10.0   \n60                     NaN                     NaN               NaN   \n61                     NaN                     NaN               NaN   \n62                     NaN                     NaN               NaN   \n63                     NaN                     NaN               NaN   \n\n    free kicks team2  yellow cards team1  yellow cards team2  red cards team1  \\\n0               17.0                 4.0                 2.0              0.0   \n1               10.0                 0.0                 2.0              0.0   \n2               14.0                 2.0                 1.0              0.0   \n3               15.0                 4.0                 2.0              0.0   \n4               16.0                 0.0                 6.0              0.0   \n..               ...                 ...                 ...              ...   \n59              14.0                 1.0                 3.0              0.0   \n60               NaN                 NaN                 NaN              NaN   \n61               NaN                 NaN                 NaN              NaN   \n62               NaN                 NaN                 NaN              NaN   \n63               NaN                 NaN                 NaN              NaN   \n\n    red cards team2  \n0               0.0  \n1               0.0  \n2               0.0  \n3               0.0  \n4               0.0  \n..              ...  \n59              0.0  \n60              NaN  \n61              NaN  \n62              NaN  \n63              NaN  \n\n[64 rows x 74 columns]",
      "text/html": "<div>\n<style scoped>\n    .dataframe tbody tr th:only-of-type {\n        vertical-align: middle;\n    }\n\n    .dataframe tbody tr th {\n        vertical-align: top;\n    }\n\n    .dataframe thead th {\n        text-align: right;\n    }\n</style>\n<table border=\"1\" class=\"dataframe\">\n  <thead>\n    <tr style=\"text-align: right;\">\n      <th></th>\n      <th>match</th>\n      <th>day_of_week</th>\n      <th>date</th>\n      <th>hour</th>\n      <th>venue</th>\n      <th>referee</th>\n      <th>group</th>\n      <th>1</th>\n      <th>2</th>\n      <th>attendance</th>\n      <th>...</th>\n      <th>team1_offsides</th>\n      <th>team2_offsides</th>\n      <th>penalties scored team1</th>\n      <th>penalties scored team2</th>\n      <th>free kicks team1</th>\n      <th>free kicks team2</th>\n      <th>yellow cards team1</th>\n      <th>yellow cards team2</th>\n      <th>red cards team1</th>\n      <th>red cards team2</th>\n    </tr>\n  </thead>\n  <tbody>\n    <tr>\n      <th>0</th>\n      <td>1</td>\n      <td>Sun</td>\n      <td>20-Nov-22</td>\n      <td>17:00</td>\n      <td>Al Bayt Stadium</td>\n      <td>Daniele Orsato</td>\n      <td>Group A</td>\n      <td>QATAR</td>\n      <td>ECUADOR</td>\n      <td>67372</td>\n      <td>...</td>\n      <td>3.0</td>\n      <td>4.0</td>\n      <td>0.0</td>\n      <td>1.0</td>\n      <td>19.0</td>\n      <td>17.0</td>\n      <td>4.0</td>\n      <td>2.0</td>\n      <td>0.0</td>\n      <td>0.0</td>\n    </tr>\n    <tr>\n      <th>1</th>\n      <td>2</td>\n      <td>Mon</td>\n      <td>21-Nov-22</td>\n      <td>14:00</td>\n      <td>Khalifa International Stadium</td>\n      <td>Raphael Claus</td>\n      <td>Group B</td>\n      <td>ENGLAND</td>\n      <td>IRAN</td>\n      <td>45334</td>\n      <td>...</td>\n      <td>2.0</td>\n      <td>2.0</td>\n      <td>0.0</td>\n      <td>1.0</td>\n      <td>16.0</td>\n      <td>10.0</td>\n      <td>0.0</td>\n      <td>2.0</td>\n      <td>0.0</td>\n      <td>0.0</td>\n    </tr>\n    <tr>\n      <th>2</th>\n      <td>3</td>\n      <td>Mon</td>\n      <td>21-Nov-22</td>\n      <td>17:00</td>\n      <td>Al Thumama Stadium</td>\n      <td>Wilton Sampaio</td>\n      <td>Group A</td>\n      <td>SENEGAL</td>\n      <td>NETHERLANDS</td>\n      <td>41721</td>\n      <td>...</td>\n      <td>2.0</td>\n      <td>1.0</td>\n      <td>0.0</td>\n      <td>0.0</td>\n      <td>14.0</td>\n      <td>14.0</td>\n      <td>2.0</td>\n      <td>1.0</td>\n      <td>0.0</td>\n      <td>0.0</td>\n    </tr>\n    <tr>\n      <th>3</th>\n      <td>4</td>\n      <td>Mon</td>\n      <td>21-Nov-22</td>\n      <td>20:00</td>\n      <td>Ahmed bin Ali Stadium</td>\n      <td>Abdulrahman Ibrahim Al Jassim</td>\n      <td>Group B</td>\n      <td>UNITED STATES</td>\n      <td>WALES</td>\n      <td>43418</td>\n      <td>...</td>\n      <td>1.0</td>\n      <td>1.0</td>\n      <td>0.0</td>\n      <td>1.0</td>\n      <td>11.0</td>\n      <td>15.0</td>\n      <td>4.0</td>\n      <td>2.0</td>\n      <td>0.0</td>\n      <td>0.0</td>\n    </tr>\n    <tr>\n      <th>4</th>\n      <td>5</td>\n      <td>Tue</td>\n      <td>22-Nov-22</td>\n      <td>11:00</td>\n      <td>Lusail Iconic Stadium</td>\n      <td>Slavko Vincic</td>\n      <td>Group C</td>\n      <td>ARGENTINA</td>\n      <td>SAUDI ARABIA</td>\n      <td>88012</td>\n      <td>...</td>\n      <td>10.0</td>\n      <td>1.0</td>\n      <td>1.0</td>\n      <td>0.0</td>\n      <td>22.0</td>\n      <td>16.0</td>\n      <td>0.0</td>\n      <td>6.0</td>\n      <td>0.0</td>\n      <td>0.0</td>\n    </tr>\n    <tr>\n      <th>...</th>\n      <td>...</td>\n      <td>...</td>\n      <td>...</td>\n      <td>...</td>\n      <td>...</td>\n      <td>...</td>\n      <td>...</td>\n      <td>...</td>\n      <td>...</td>\n      <td>...</td>\n      <td>...</td>\n      <td>...</td>\n      <td>...</td>\n      <td>...</td>\n      <td>...</td>\n      <td>...</td>\n      <td>...</td>\n      <td>...</td>\n      <td>...</td>\n      <td>...</td>\n      <td>...</td>\n    </tr>\n    <tr>\n      <th>59</th>\n      <td>60</td>\n      <td>Sat</td>\n      <td>10-Dec-22</td>\n      <td>20:00</td>\n      <td>Al Bayt Stadium</td>\n      <td>Wilton Sampaio</td>\n      <td>Quarter-final</td>\n      <td>ENGLAND</td>\n      <td>FRANCE</td>\n      <td>68895</td>\n      <td>...</td>\n      <td>1.0</td>\n      <td>2.0</td>\n      <td>1.0</td>\n      <td>0.0</td>\n      <td>10.0</td>\n      <td>14.0</td>\n      <td>1.0</td>\n      <td>3.0</td>\n      <td>0.0</td>\n      <td>0.0</td>\n    </tr>\n    <tr>\n      <th>60</th>\n      <td>61</td>\n      <td>Tue</td>\n      <td>13-Dec-22</td>\n      <td>20:00</td>\n      <td>Lusail Iconic Stadium</td>\n      <td>Daniele Orsato</td>\n      <td>Semi-Final</td>\n      <td>ARGENTINA</td>\n      <td>CROATIA</td>\n      <td>88966</td>\n      <td>...</td>\n      <td>NaN</td>\n      <td>NaN</td>\n      <td>NaN</td>\n      <td>NaN</td>\n      <td>NaN</td>\n      <td>NaN</td>\n      <td>NaN</td>\n      <td>NaN</td>\n      <td>NaN</td>\n      <td>NaN</td>\n    </tr>\n    <tr>\n      <th>61</th>\n      <td>62</td>\n      <td>Wed</td>\n      <td>14-Dec-22</td>\n      <td>20:00</td>\n      <td>Al Bayt Stadium</td>\n      <td>Cesar Ramos</td>\n      <td>Semi-Final</td>\n      <td>FRANCE</td>\n      <td>MOROCCO</td>\n      <td>68294</td>\n      <td>...</td>\n      <td>NaN</td>\n      <td>NaN</td>\n      <td>NaN</td>\n      <td>NaN</td>\n      <td>NaN</td>\n      <td>NaN</td>\n      <td>NaN</td>\n      <td>NaN</td>\n      <td>NaN</td>\n      <td>NaN</td>\n    </tr>\n    <tr>\n      <th>62</th>\n      <td>63</td>\n      <td>Sat</td>\n      <td>17-Dec-22</td>\n      <td>16:00</td>\n      <td>Khalifa International Stadium</td>\n      <td>Abdulrahman Ibrahim Al Jassim</td>\n      <td>Play-off for third place</td>\n      <td>CROATIA</td>\n      <td>MOROCCO</td>\n      <td>44137</td>\n      <td>...</td>\n      <td>NaN</td>\n      <td>NaN</td>\n      <td>NaN</td>\n      <td>NaN</td>\n      <td>NaN</td>\n      <td>NaN</td>\n      <td>NaN</td>\n      <td>NaN</td>\n      <td>NaN</td>\n      <td>NaN</td>\n    </tr>\n    <tr>\n      <th>63</th>\n      <td>64</td>\n      <td>Sun</td>\n      <td>18-Dec-22</td>\n      <td>16:00</td>\n      <td>Lusail Iconic Stadium</td>\n      <td>Szymon Marciniak</td>\n      <td>Final</td>\n      <td>ARGENTINA</td>\n      <td>FRANCE</td>\n      <td>88966</td>\n      <td>...</td>\n      <td>NaN</td>\n      <td>NaN</td>\n      <td>NaN</td>\n      <td>NaN</td>\n      <td>NaN</td>\n      <td>NaN</td>\n      <td>NaN</td>\n      <td>NaN</td>\n      <td>NaN</td>\n      <td>NaN</td>\n    </tr>\n  </tbody>\n</table>\n<p>64 rows × 74 columns</p>\n</div>"
     },
     "execution_count": 16,
     "metadata": {},
     "output_type": "execute_result"
    }
   ],
   "source": [
    "master_df.drop(columns={'2_corners','1_corners','1_free_kicks','2_free_kicks'},inplace=True)\n",
    "master_df"
   ],
   "metadata": {
    "collapsed": false,
    "pycharm": {
     "name": "#%%\n"
    }
   }
  },
  {
   "cell_type": "code",
   "execution_count": 17,
   "outputs": [],
   "source": [
    "#Store the data\n",
    "master_df.to_csv(\"fifa_dataset.csv\")"
   ],
   "metadata": {
    "collapsed": false,
    "pycharm": {
     "name": "#%%\n"
    }
   }
  },
  {
   "cell_type": "markdown",
   "source": [
    "## Visualizing performance statistics of teams that participated in the World Cup"
   ],
   "metadata": {
    "collapsed": false,
    "pycharm": {
     "name": "#%% md\n"
    }
   }
  },
  {
   "cell_type": "markdown",
   "source": [
    "**Questions**\n",
    "Fan Facts\n",
    "1.Which teams had the most goals ?\n",
    "2.Which stadiums were most games played at ?\n",
    "3.Which referees referred most games\n",
    "4.Which teams had the most passes ?\n",
    "5. Which teams had the most shots on target?\n",
    "6. How many yellow cards were given out during the word cup\n",
    "7. How many red cards were given out during the world cup ?\n",
    "8. Which teams had the most red cards and yellow cards?\n",
    "9. Which were the most attended games of the World Cup?\n",
    "10. Which games had the most penalties ?\n",
    "\n",
    "\n",
    "Behavioral/Inferential Questions\n",
    "1.Does the number of passes infleunce the outcome of the game?\n",
    "2.Does defensive pressure increase the likelihood of winning ?"
   ],
   "metadata": {
    "collapsed": false,
    "pycharm": {
     "name": "#%% md\n"
    }
   }
  },
  {
   "cell_type": "markdown",
   "source": [
    "# FAN FACTS"
   ],
   "metadata": {
    "collapsed": false,
    "pycharm": {
     "name": "#%% md\n"
    }
   }
  },
  {
   "cell_type": "code",
   "execution_count": 22,
   "outputs": [
    {
     "data": {
      "text/plain": "    match day_of_week       date   hour                          venue  \\\n0       1         Sun  20-Nov-22  17:00                Al Bayt Stadium   \n1       2         Mon  21-Nov-22  14:00  Khalifa International Stadium   \n2       3         Mon  21-Nov-22  17:00             Al Thumama Stadium   \n3       4         Mon  21-Nov-22  20:00          Ahmed bin Ali Stadium   \n4       5         Tue  22-Nov-22  11:00          Lusail Iconic Stadium   \n5       6         Tue  22-Nov-22  14:00         Education City Stadium   \n6       7         Tue  22-Nov-22  17:00                    Stadium 974   \n7       8         Tue  22-Nov-22  20:00              Al Janoub Stadium   \n8       9         Wed  23-Nov-22  11:00                Al Bayt Stadium   \n9      10         Wed  23-Nov-22  14:00  Khalifa International Stadium   \n10     11         Wed  23-Nov-22  17:00             Al Thumama Stadium   \n11     12         Wed  23-Nov-22  20:00          Ahmed bin Ali Stadium   \n12     13         Thu  24-Nov-22  11:00              Al Janoub Stadium   \n13     14         Thu  24-Nov-22  14:00         Education City Stadium   \n14     15         Thu  24-Nov-22  17:00                    Stadium 974   \n15     16         Thu  24-Nov-22  20:00          Lusail Iconic Stadium   \n16     17         Fri  25-Nov-22  11:00          Ahmed bin Ali Stadium   \n17     18         Fri  25-Nov-22  14:00             Al Thumama Stadium   \n18     19         Fri  25-Nov-22  17:00  Khalifa International Stadium   \n19     20         Fri  25-Nov-22  20:00                Al Bayt Stadium   \n\n                          referee    group              1               2  \\\n0                  Daniele Orsato  Group A          QATAR         ECUADOR   \n1                   Raphael Claus  Group B        ENGLAND            IRAN   \n2                  Wilton Sampaio  Group A        SENEGAL     NETHERLANDS   \n3   Abdulrahman Ibrahim Al Jassim  Group B  UNITED STATES           WALES   \n4                   Slavko Vincic  Group C      ARGENTINA    SAUDI ARABIA   \n5                     Cesar Ramos  Group D        DENMARK         TUNISIA   \n6                     Chris Beath  Group C         MEXICO          POLAND   \n7                    Victor Gomes  Group D         FRANCE       AUSTRALIA   \n8              Fernando Rapallini  Group F        MOROCCO         CROATIA   \n9                     Ivan Barton  Group E        GERMANY           JAPAN   \n10        Mohammed Abdulla Hassan  Group E          SPAIN      COSTA RICA   \n11                  Janny Sikazwe  Group F        BELGIUM          CANADA   \n12                  Facundo Tello  Group G    SWITZERLAND        CAMEROON   \n13                 Clement Turpin  Group H        URUGUAY  KOREA REPUBLIC   \n14                  Ismail Elfath  Group H       PORTUGAL           GHANA   \n15                Alireza Faghani  Group G         BRAZIL          SERBIA   \n16                  Mario Escobar  Group B          WALES            IRAN   \n17            Antonio Mateu Lahoz  Group A          QATAR         SENEGAL   \n18               Mustapha Ghorbal  Group A    NETHERLANDS         ECUADOR   \n19          Jesús Valenzuela Sáez  Group B        ENGLAND   UNITED STATES   \n\n    attendance  ...  team1_offsides  team2_offsides  penalties scored team1  \\\n0        67372  ...             3.0             4.0                     0.0   \n1        45334  ...             2.0             2.0                     0.0   \n2        41721  ...             2.0             1.0                     0.0   \n3        43418  ...             1.0             1.0                     0.0   \n4        88012  ...            10.0             1.0                     1.0   \n5        42925  ...             1.0             1.0                     0.0   \n6        39369  ...             3.0             0.0                     0.0   \n7        40875  ...             0.0             0.0                     0.0   \n8        59407  ...             0.0             1.0                     0.0   \n9        42608  ...             4.0             4.0                     1.0   \n10       40013  ...             3.0             7.0                     1.0   \n11       40432  ...             0.0             1.0                     0.0   \n12       39089  ...             2.0             2.0                     0.0   \n13       41663  ...             1.0             0.0                     0.0   \n14       42662  ...             1.0             1.0                     1.0   \n15       88103  ...             1.0             0.0                     0.0   \n16       40875  ...             2.0             2.0                     0.0   \n17       41797  ...             4.0             3.0                     0.0   \n18       44833  ...             1.0             4.0                     0.0   \n19       68463  ...             1.0             0.0                     0.0   \n\n    penalties scored team2  free kicks team1  free kicks team2  \\\n0                      1.0              19.0              17.0   \n1                      1.0              16.0              10.0   \n2                      0.0              14.0              14.0   \n3                      1.0              11.0              15.0   \n4                      0.0              22.0              16.0   \n5                      0.0              11.0              10.0   \n6                      0.0              16.0              16.0   \n7                      0.0              11.0               5.0   \n8                      0.0              12.0              17.0   \n9                      0.0              17.0              10.0   \n10                     0.0              18.0              11.0   \n11                     0.0              15.0              10.0   \n12                     0.0              11.0              14.0   \n13                     0.0              10.0               8.0   \n14                     0.0              19.0              15.0   \n15                     0.0              12.0               8.0   \n16                     0.0              12.0              11.0   \n17                     0.0              15.0              11.0   \n18                     0.0              16.0              16.0   \n19                     0.0              15.0              10.0   \n\n    yellow cards team1  yellow cards team2  red cards team1  red cards team2  \n0                  4.0                 2.0              0.0              0.0  \n1                  0.0                 2.0              0.0              0.0  \n2                  2.0                 1.0              0.0              0.0  \n3                  4.0                 2.0              0.0              0.0  \n4                  0.0                 6.0              0.0              0.0  \n5                  2.0                 1.0              0.0              0.0  \n6                  2.0                 1.0              0.0              0.0  \n7                  0.0                 3.0              0.0              0.0  \n8                  1.0                 0.0              0.0              0.0  \n9                  0.0                 0.0              0.0              0.0  \n10                 0.0                 2.0              0.0              0.0  \n11                 3.0                 2.0              0.0              0.0  \n12                 2.0                 1.0              0.0              0.0  \n13                 1.0                 1.0              0.0              0.0  \n14                 2.0                 4.0              0.0              0.0  \n15                 0.0                 3.0              0.0              0.0  \n16                 1.0                 2.0              1.0              0.0  \n17                 3.0                 3.0              0.0              0.0  \n18                 0.0                 1.0              0.0              0.0  \n19                 0.0                 0.0              0.0              0.0  \n\n[20 rows x 74 columns]",
      "text/html": "<div>\n<style scoped>\n    .dataframe tbody tr th:only-of-type {\n        vertical-align: middle;\n    }\n\n    .dataframe tbody tr th {\n        vertical-align: top;\n    }\n\n    .dataframe thead th {\n        text-align: right;\n    }\n</style>\n<table border=\"1\" class=\"dataframe\">\n  <thead>\n    <tr style=\"text-align: right;\">\n      <th></th>\n      <th>match</th>\n      <th>day_of_week</th>\n      <th>date</th>\n      <th>hour</th>\n      <th>venue</th>\n      <th>referee</th>\n      <th>group</th>\n      <th>1</th>\n      <th>2</th>\n      <th>attendance</th>\n      <th>...</th>\n      <th>team1_offsides</th>\n      <th>team2_offsides</th>\n      <th>penalties scored team1</th>\n      <th>penalties scored team2</th>\n      <th>free kicks team1</th>\n      <th>free kicks team2</th>\n      <th>yellow cards team1</th>\n      <th>yellow cards team2</th>\n      <th>red cards team1</th>\n      <th>red cards team2</th>\n    </tr>\n  </thead>\n  <tbody>\n    <tr>\n      <th>0</th>\n      <td>1</td>\n      <td>Sun</td>\n      <td>20-Nov-22</td>\n      <td>17:00</td>\n      <td>Al Bayt Stadium</td>\n      <td>Daniele Orsato</td>\n      <td>Group A</td>\n      <td>QATAR</td>\n      <td>ECUADOR</td>\n      <td>67372</td>\n      <td>...</td>\n      <td>3.0</td>\n      <td>4.0</td>\n      <td>0.0</td>\n      <td>1.0</td>\n      <td>19.0</td>\n      <td>17.0</td>\n      <td>4.0</td>\n      <td>2.0</td>\n      <td>0.0</td>\n      <td>0.0</td>\n    </tr>\n    <tr>\n      <th>1</th>\n      <td>2</td>\n      <td>Mon</td>\n      <td>21-Nov-22</td>\n      <td>14:00</td>\n      <td>Khalifa International Stadium</td>\n      <td>Raphael Claus</td>\n      <td>Group B</td>\n      <td>ENGLAND</td>\n      <td>IRAN</td>\n      <td>45334</td>\n      <td>...</td>\n      <td>2.0</td>\n      <td>2.0</td>\n      <td>0.0</td>\n      <td>1.0</td>\n      <td>16.0</td>\n      <td>10.0</td>\n      <td>0.0</td>\n      <td>2.0</td>\n      <td>0.0</td>\n      <td>0.0</td>\n    </tr>\n    <tr>\n      <th>2</th>\n      <td>3</td>\n      <td>Mon</td>\n      <td>21-Nov-22</td>\n      <td>17:00</td>\n      <td>Al Thumama Stadium</td>\n      <td>Wilton Sampaio</td>\n      <td>Group A</td>\n      <td>SENEGAL</td>\n      <td>NETHERLANDS</td>\n      <td>41721</td>\n      <td>...</td>\n      <td>2.0</td>\n      <td>1.0</td>\n      <td>0.0</td>\n      <td>0.0</td>\n      <td>14.0</td>\n      <td>14.0</td>\n      <td>2.0</td>\n      <td>1.0</td>\n      <td>0.0</td>\n      <td>0.0</td>\n    </tr>\n    <tr>\n      <th>3</th>\n      <td>4</td>\n      <td>Mon</td>\n      <td>21-Nov-22</td>\n      <td>20:00</td>\n      <td>Ahmed bin Ali Stadium</td>\n      <td>Abdulrahman Ibrahim Al Jassim</td>\n      <td>Group B</td>\n      <td>UNITED STATES</td>\n      <td>WALES</td>\n      <td>43418</td>\n      <td>...</td>\n      <td>1.0</td>\n      <td>1.0</td>\n      <td>0.0</td>\n      <td>1.0</td>\n      <td>11.0</td>\n      <td>15.0</td>\n      <td>4.0</td>\n      <td>2.0</td>\n      <td>0.0</td>\n      <td>0.0</td>\n    </tr>\n    <tr>\n      <th>4</th>\n      <td>5</td>\n      <td>Tue</td>\n      <td>22-Nov-22</td>\n      <td>11:00</td>\n      <td>Lusail Iconic Stadium</td>\n      <td>Slavko Vincic</td>\n      <td>Group C</td>\n      <td>ARGENTINA</td>\n      <td>SAUDI ARABIA</td>\n      <td>88012</td>\n      <td>...</td>\n      <td>10.0</td>\n      <td>1.0</td>\n      <td>1.0</td>\n      <td>0.0</td>\n      <td>22.0</td>\n      <td>16.0</td>\n      <td>0.0</td>\n      <td>6.0</td>\n      <td>0.0</td>\n      <td>0.0</td>\n    </tr>\n    <tr>\n      <th>5</th>\n      <td>6</td>\n      <td>Tue</td>\n      <td>22-Nov-22</td>\n      <td>14:00</td>\n      <td>Education City Stadium</td>\n      <td>Cesar Ramos</td>\n      <td>Group D</td>\n      <td>DENMARK</td>\n      <td>TUNISIA</td>\n      <td>42925</td>\n      <td>...</td>\n      <td>1.0</td>\n      <td>1.0</td>\n      <td>0.0</td>\n      <td>0.0</td>\n      <td>11.0</td>\n      <td>10.0</td>\n      <td>2.0</td>\n      <td>1.0</td>\n      <td>0.0</td>\n      <td>0.0</td>\n    </tr>\n    <tr>\n      <th>6</th>\n      <td>7</td>\n      <td>Tue</td>\n      <td>22-Nov-22</td>\n      <td>17:00</td>\n      <td>Stadium 974</td>\n      <td>Chris Beath</td>\n      <td>Group C</td>\n      <td>MEXICO</td>\n      <td>POLAND</td>\n      <td>39369</td>\n      <td>...</td>\n      <td>3.0</td>\n      <td>0.0</td>\n      <td>0.0</td>\n      <td>0.0</td>\n      <td>16.0</td>\n      <td>16.0</td>\n      <td>2.0</td>\n      <td>1.0</td>\n      <td>0.0</td>\n      <td>0.0</td>\n    </tr>\n    <tr>\n      <th>7</th>\n      <td>8</td>\n      <td>Tue</td>\n      <td>22-Nov-22</td>\n      <td>20:00</td>\n      <td>Al Janoub Stadium</td>\n      <td>Victor Gomes</td>\n      <td>Group D</td>\n      <td>FRANCE</td>\n      <td>AUSTRALIA</td>\n      <td>40875</td>\n      <td>...</td>\n      <td>0.0</td>\n      <td>0.0</td>\n      <td>0.0</td>\n      <td>0.0</td>\n      <td>11.0</td>\n      <td>5.0</td>\n      <td>0.0</td>\n      <td>3.0</td>\n      <td>0.0</td>\n      <td>0.0</td>\n    </tr>\n    <tr>\n      <th>8</th>\n      <td>9</td>\n      <td>Wed</td>\n      <td>23-Nov-22</td>\n      <td>11:00</td>\n      <td>Al Bayt Stadium</td>\n      <td>Fernando Rapallini</td>\n      <td>Group F</td>\n      <td>MOROCCO</td>\n      <td>CROATIA</td>\n      <td>59407</td>\n      <td>...</td>\n      <td>0.0</td>\n      <td>1.0</td>\n      <td>0.0</td>\n      <td>0.0</td>\n      <td>12.0</td>\n      <td>17.0</td>\n      <td>1.0</td>\n      <td>0.0</td>\n      <td>0.0</td>\n      <td>0.0</td>\n    </tr>\n    <tr>\n      <th>9</th>\n      <td>10</td>\n      <td>Wed</td>\n      <td>23-Nov-22</td>\n      <td>14:00</td>\n      <td>Khalifa International Stadium</td>\n      <td>Ivan Barton</td>\n      <td>Group E</td>\n      <td>GERMANY</td>\n      <td>JAPAN</td>\n      <td>42608</td>\n      <td>...</td>\n      <td>4.0</td>\n      <td>4.0</td>\n      <td>1.0</td>\n      <td>0.0</td>\n      <td>17.0</td>\n      <td>10.0</td>\n      <td>0.0</td>\n      <td>0.0</td>\n      <td>0.0</td>\n      <td>0.0</td>\n    </tr>\n    <tr>\n      <th>10</th>\n      <td>11</td>\n      <td>Wed</td>\n      <td>23-Nov-22</td>\n      <td>17:00</td>\n      <td>Al Thumama Stadium</td>\n      <td>Mohammed Abdulla Hassan</td>\n      <td>Group E</td>\n      <td>SPAIN</td>\n      <td>COSTA RICA</td>\n      <td>40013</td>\n      <td>...</td>\n      <td>3.0</td>\n      <td>7.0</td>\n      <td>1.0</td>\n      <td>0.0</td>\n      <td>18.0</td>\n      <td>11.0</td>\n      <td>0.0</td>\n      <td>2.0</td>\n      <td>0.0</td>\n      <td>0.0</td>\n    </tr>\n    <tr>\n      <th>11</th>\n      <td>12</td>\n      <td>Wed</td>\n      <td>23-Nov-22</td>\n      <td>20:00</td>\n      <td>Ahmed bin Ali Stadium</td>\n      <td>Janny Sikazwe</td>\n      <td>Group F</td>\n      <td>BELGIUM</td>\n      <td>CANADA</td>\n      <td>40432</td>\n      <td>...</td>\n      <td>0.0</td>\n      <td>1.0</td>\n      <td>0.0</td>\n      <td>0.0</td>\n      <td>15.0</td>\n      <td>10.0</td>\n      <td>3.0</td>\n      <td>2.0</td>\n      <td>0.0</td>\n      <td>0.0</td>\n    </tr>\n    <tr>\n      <th>12</th>\n      <td>13</td>\n      <td>Thu</td>\n      <td>24-Nov-22</td>\n      <td>11:00</td>\n      <td>Al Janoub Stadium</td>\n      <td>Facundo Tello</td>\n      <td>Group G</td>\n      <td>SWITZERLAND</td>\n      <td>CAMEROON</td>\n      <td>39089</td>\n      <td>...</td>\n      <td>2.0</td>\n      <td>2.0</td>\n      <td>0.0</td>\n      <td>0.0</td>\n      <td>11.0</td>\n      <td>14.0</td>\n      <td>2.0</td>\n      <td>1.0</td>\n      <td>0.0</td>\n      <td>0.0</td>\n    </tr>\n    <tr>\n      <th>13</th>\n      <td>14</td>\n      <td>Thu</td>\n      <td>24-Nov-22</td>\n      <td>14:00</td>\n      <td>Education City Stadium</td>\n      <td>Clement Turpin</td>\n      <td>Group H</td>\n      <td>URUGUAY</td>\n      <td>KOREA REPUBLIC</td>\n      <td>41663</td>\n      <td>...</td>\n      <td>1.0</td>\n      <td>0.0</td>\n      <td>0.0</td>\n      <td>0.0</td>\n      <td>10.0</td>\n      <td>8.0</td>\n      <td>1.0</td>\n      <td>1.0</td>\n      <td>0.0</td>\n      <td>0.0</td>\n    </tr>\n    <tr>\n      <th>14</th>\n      <td>15</td>\n      <td>Thu</td>\n      <td>24-Nov-22</td>\n      <td>17:00</td>\n      <td>Stadium 974</td>\n      <td>Ismail Elfath</td>\n      <td>Group H</td>\n      <td>PORTUGAL</td>\n      <td>GHANA</td>\n      <td>42662</td>\n      <td>...</td>\n      <td>1.0</td>\n      <td>1.0</td>\n      <td>1.0</td>\n      <td>0.0</td>\n      <td>19.0</td>\n      <td>15.0</td>\n      <td>2.0</td>\n      <td>4.0</td>\n      <td>0.0</td>\n      <td>0.0</td>\n    </tr>\n    <tr>\n      <th>15</th>\n      <td>16</td>\n      <td>Thu</td>\n      <td>24-Nov-22</td>\n      <td>20:00</td>\n      <td>Lusail Iconic Stadium</td>\n      <td>Alireza Faghani</td>\n      <td>Group G</td>\n      <td>BRAZIL</td>\n      <td>SERBIA</td>\n      <td>88103</td>\n      <td>...</td>\n      <td>1.0</td>\n      <td>0.0</td>\n      <td>0.0</td>\n      <td>0.0</td>\n      <td>12.0</td>\n      <td>8.0</td>\n      <td>0.0</td>\n      <td>3.0</td>\n      <td>0.0</td>\n      <td>0.0</td>\n    </tr>\n    <tr>\n      <th>16</th>\n      <td>17</td>\n      <td>Fri</td>\n      <td>25-Nov-22</td>\n      <td>11:00</td>\n      <td>Ahmed bin Ali Stadium</td>\n      <td>Mario Escobar</td>\n      <td>Group B</td>\n      <td>WALES</td>\n      <td>IRAN</td>\n      <td>40875</td>\n      <td>...</td>\n      <td>2.0</td>\n      <td>2.0</td>\n      <td>0.0</td>\n      <td>0.0</td>\n      <td>12.0</td>\n      <td>11.0</td>\n      <td>1.0</td>\n      <td>2.0</td>\n      <td>1.0</td>\n      <td>0.0</td>\n    </tr>\n    <tr>\n      <th>17</th>\n      <td>18</td>\n      <td>Fri</td>\n      <td>25-Nov-22</td>\n      <td>14:00</td>\n      <td>Al Thumama Stadium</td>\n      <td>Antonio Mateu Lahoz</td>\n      <td>Group A</td>\n      <td>QATAR</td>\n      <td>SENEGAL</td>\n      <td>41797</td>\n      <td>...</td>\n      <td>4.0</td>\n      <td>3.0</td>\n      <td>0.0</td>\n      <td>0.0</td>\n      <td>15.0</td>\n      <td>11.0</td>\n      <td>3.0</td>\n      <td>3.0</td>\n      <td>0.0</td>\n      <td>0.0</td>\n    </tr>\n    <tr>\n      <th>18</th>\n      <td>19</td>\n      <td>Fri</td>\n      <td>25-Nov-22</td>\n      <td>17:00</td>\n      <td>Khalifa International Stadium</td>\n      <td>Mustapha Ghorbal</td>\n      <td>Group A</td>\n      <td>NETHERLANDS</td>\n      <td>ECUADOR</td>\n      <td>44833</td>\n      <td>...</td>\n      <td>1.0</td>\n      <td>4.0</td>\n      <td>0.0</td>\n      <td>0.0</td>\n      <td>16.0</td>\n      <td>16.0</td>\n      <td>0.0</td>\n      <td>1.0</td>\n      <td>0.0</td>\n      <td>0.0</td>\n    </tr>\n    <tr>\n      <th>19</th>\n      <td>20</td>\n      <td>Fri</td>\n      <td>25-Nov-22</td>\n      <td>20:00</td>\n      <td>Al Bayt Stadium</td>\n      <td>Jesús Valenzuela Sáez</td>\n      <td>Group B</td>\n      <td>ENGLAND</td>\n      <td>UNITED STATES</td>\n      <td>68463</td>\n      <td>...</td>\n      <td>1.0</td>\n      <td>0.0</td>\n      <td>0.0</td>\n      <td>0.0</td>\n      <td>15.0</td>\n      <td>10.0</td>\n      <td>0.0</td>\n      <td>0.0</td>\n      <td>0.0</td>\n      <td>0.0</td>\n    </tr>\n  </tbody>\n</table>\n<p>20 rows × 74 columns</p>\n</div>"
     },
     "execution_count": 22,
     "metadata": {},
     "output_type": "execute_result"
    }
   ],
   "source": [
    "master_df.head(20)"
   ],
   "metadata": {
    "collapsed": false,
    "pycharm": {
     "name": "#%%\n"
    }
   }
  },
  {
   "cell_type": "markdown",
   "source": [],
   "metadata": {
    "collapsed": false,
    "pycharm": {
     "name": "#%% md\n"
    }
   }
  },
  {
   "cell_type": "markdown",
   "source": [
    "**Which stadiums were most games played at ?**"
   ],
   "metadata": {
    "collapsed": false,
    "pycharm": {
     "name": "#%% md\n"
    }
   }
  },
  {
   "cell_type": "code",
   "execution_count": null,
   "outputs": [],
   "source": [
    "master_df.sample(20)"
   ],
   "metadata": {
    "collapsed": false,
    "pycharm": {
     "name": "#%%\n"
    }
   }
  },
  {
   "cell_type": "code",
   "execution_count": null,
   "outputs": [],
   "source": [
    "stadiums = master_df[['venue','match']]\n",
    "stadiums.groupby('venue')\n",
    "stadiums['venue'].value_counts().sort_values(ascending=False).plot(figsize=(10,6),kind='bar');"
   ],
   "metadata": {
    "collapsed": false,
    "pycharm": {
     "name": "#%%\n"
    }
   }
  },
  {
   "cell_type": "code",
   "execution_count": null,
   "outputs": [],
   "source": [
    "stadiums['venue'].value_counts().sort_values(ascending=False)"
   ],
   "metadata": {
    "collapsed": false,
    "pycharm": {
     "name": "#%%\n"
    }
   }
  },
  {
   "cell_type": "markdown",
   "source": [
    "**Observation**\n",
    "Lusail Iconic Stadium  and Al Bayt Stadium had the most games played\n",
    "Most games had an equal amount of games being played at, this might suggest thatv they were used for different stages of the game"
   ],
   "metadata": {
    "collapsed": false,
    "pycharm": {
     "name": "#%% md\n"
    }
   }
  },
  {
   "cell_type": "code",
   "execution_count": null,
   "outputs": [],
   "source": [
    "stadiums['venue'].tail(10)"
   ],
   "metadata": {
    "collapsed": false,
    "pycharm": {
     "name": "#%%\n"
    }
   }
  },
  {
   "cell_type": "markdown",
   "source": [
    "**Observation**\n",
    "From this we see that the two stadiums might have had more games played at them because they were used in the final games of the competition otherwise most stadiums had an equal distribution of the number of games played at them"
   ],
   "metadata": {
    "collapsed": false,
    "pycharm": {
     "name": "#%% md\n"
    }
   }
  },
  {
   "cell_type": "markdown",
   "source": [
    "**Which referees referred most games**"
   ],
   "metadata": {
    "collapsed": false,
    "pycharm": {
     "name": "#%% md\n"
    }
   }
  },
  {
   "cell_type": "code",
   "execution_count": null,
   "outputs": [],
   "source": [
    "master_df['referee'].value_counts().sort_values(ascending=False)"
   ],
   "metadata": {
    "collapsed": false,
    "pycharm": {
     "name": "#%%\n"
    }
   }
  },
  {
   "cell_type": "markdown",
   "source": [
    "**Observation**\n",
    "Cesar Ramos and Wilton Sampaio referred the most games in the FIFA World Cup 2022"
   ],
   "metadata": {
    "collapsed": false,
    "pycharm": {
     "name": "#%% md\n"
    }
   }
  },
  {
   "cell_type": "markdown",
   "source": [
    "Which games did they referee"
   ],
   "metadata": {
    "collapsed": false,
    "pycharm": {
     "name": "#%% md\n"
    }
   }
  },
  {
   "cell_type": "code",
   "execution_count": null,
   "outputs": [],
   "source": [
    "ref_games = master_df.loc[( master_df['referee']=='Cesar Ramos') | ( master_df['referee']=='Wilton Sampaio'  )]\n",
    "ref_games = ref_games[['match','venue','referee','1','2']]\n",
    "ref_games"
   ],
   "metadata": {
    "collapsed": false,
    "pycharm": {
     "name": "#%%\n"
    }
   }
  },
  {
   "cell_type": "markdown",
   "source": [
    "**Obseravtions**\n",
    "They refereed early on in the game and later more games towards the end of the tornament"
   ],
   "metadata": {
    "collapsed": false,
    "pycharm": {
     "name": "#%% md\n"
    }
   }
  },
  {
   "cell_type": "code",
   "execution_count": null,
   "outputs": [],
   "source": [
    "##get a vs column to display the two teams\n",
    "ref_games['teams'] = ref_games.apply( lambda x : x['1'] + \" \" + \"vs\" + \" \" + x['2'],axis=1)\n",
    "ref_games.drop(columns={'1','2'}, inplace=True)\n",
    "ref_games"
   ],
   "metadata": {
    "collapsed": false,
    "pycharm": {
     "name": "#%%\n"
    }
   }
  },
  {
   "cell_type": "code",
   "execution_count": null,
   "outputs": [],
   "source": [
    "#get games by each referee\n",
    "wilton_games = ref_games.loc[ ref_games['referee']== \"Wilton Sampaio\"]\n",
    "cesar_games = ref_games.loc[ ref_games['referee']== \"Cesar Ramos\"]\n",
    "\n",
    "wilton_games"
   ],
   "metadata": {
    "collapsed": false,
    "pycharm": {
     "name": "#%%\n"
    }
   }
  },
  {
   "cell_type": "code",
   "execution_count": null,
   "outputs": [],
   "source": [
    "print(\"The games refereed by Wilton Sampaio are :\")\n",
    "for x in wilton_games['teams'] :\n",
    "    print(x)\n",
    "\n",
    "print(\"The games refereed by Cesar Ramos are :\")\n",
    "for x in cesar_games['teams'] :\n",
    "    print(x)\n"
   ],
   "metadata": {
    "collapsed": false,
    "pycharm": {
     "name": "#%%\n"
    }
   }
  },
  {
   "cell_type": "markdown",
   "source": [
    "**Observation**\n",
    "The games refereed by Wilton Sampaio are :\n",
    "SENEGAL vs NETHERLANDS\n",
    "POLAND vs SAUDI ARABIA\n",
    "NETHERLANDS vs UNITED STATES\n",
    "ENGLAND vs FRANCE\n",
    "**The games refereed by Cesar Ramos are :**\n",
    "DENMARK vs TUNISIA\n",
    "BELGIUM vs MOROCCO\n",
    "PORTUGAL vs SWITZERLAND\n",
    "FRANCE vs MOROCCO"
   ],
   "metadata": {
    "collapsed": false,
    "pycharm": {
     "name": "#%% md\n"
    }
   }
  },
  {
   "cell_type": "code",
   "execution_count": 23,
   "outputs": [
    {
     "data": {
      "text/plain": "     Unnamed: 0             Player  Match_played  Starts  Minutes_played  Gls  \\\n0             0  Emiliano Martínez             7       7             690    0   \n1             1       Lionel Messi             7       7             690    7   \n2             2   Nicolás Otamendi             7       7             690    0   \n3             3    Rodrigo De Paul             7       7             599    0   \n4             4      Nahuel Molina             7       6             567    1   \n..          ...                ...           ...     ...             ...  ...   \n675         675      Mohammed Waad             2       0              28    0   \n676         676      Ali Assadalla             1       0              27    0   \n677         677       Tarek Salman             1       0               8    0   \n678         678    Ahmed Alaaeldin             1       0               6    0   \n679         679       Musab Kheder             1       0               6    0   \n\n     Ast  Shots  shots_on_target  goals_per_shot  ...  penalty_kick_won  \\\n0      0      0                0             NaN  ...               0.0   \n1      3     27               13            0.11  ...               1.0   \n2      1      1                0            0.00  ...               0.0   \n3      0      7                3            0.00  ...               0.0   \n4      1      2                1            0.50  ...               0.0   \n..   ...    ...              ...             ...  ...               ...   \n675    0      0                0             NaN  ...               0.0   \n676    0      0                0             NaN  ...               0.0   \n677    0      0                0             NaN  ...               0.0   \n678    0      0                0             NaN  ...               0.0   \n679    0      0                0             NaN  ...               0.0   \n\n     penalty_kick_conceded  own_goal  aerial_duo_won  aerial_duo_lost    Pos  \\\n0                      0.0         0             2.0              0.0     GK   \n1                      0.0         0             2.0              7.0     FW   \n2                      1.0         0            21.0             13.0     DF   \n3                      0.0         0             2.0              3.0     MF   \n4                      0.0         0             0.0              6.0     DF   \n..                     ...       ...             ...              ...    ...   \n675                    0.0         0             0.0              0.0  MF,DF   \n676                    0.0         0             0.0              0.0     MF   \n677                    0.0         0             0.0              0.0     DF   \n678                    0.0         0             0.0              0.0     FW   \n679                    0.0         0             0.0              0.0     DF   \n\n     Age  Club_country                    Club       Team  \n0     29           eng             Aston Villa  Argentina  \n1     34            fr               Paris S-G  Argentina  \n2     34            pt                 Benfica  Argentina  \n3     28            es         Atlético Madrid  Argentina  \n4     24            es         Atlético Madrid  Argentina  \n..   ...           ...                     ...        ...  \n675   22            qa              Al Sadd SC      Qatar  \n676   29            qa              Al Sadd SC      Qatar  \n677   24            qa              Al Sadd SC      Qatar  \n678   29            qa  Al-Gharafa Sports Club      Qatar  \n679   28            qa              Al Sadd SC      Qatar  \n\n[680 rows x 42 columns]",
      "text/html": "<div>\n<style scoped>\n    .dataframe tbody tr th:only-of-type {\n        vertical-align: middle;\n    }\n\n    .dataframe tbody tr th {\n        vertical-align: top;\n    }\n\n    .dataframe thead th {\n        text-align: right;\n    }\n</style>\n<table border=\"1\" class=\"dataframe\">\n  <thead>\n    <tr style=\"text-align: right;\">\n      <th></th>\n      <th>Unnamed: 0</th>\n      <th>Player</th>\n      <th>Match_played</th>\n      <th>Starts</th>\n      <th>Minutes_played</th>\n      <th>Gls</th>\n      <th>Ast</th>\n      <th>Shots</th>\n      <th>shots_on_target</th>\n      <th>goals_per_shot</th>\n      <th>...</th>\n      <th>penalty_kick_won</th>\n      <th>penalty_kick_conceded</th>\n      <th>own_goal</th>\n      <th>aerial_duo_won</th>\n      <th>aerial_duo_lost</th>\n      <th>Pos</th>\n      <th>Age</th>\n      <th>Club_country</th>\n      <th>Club</th>\n      <th>Team</th>\n    </tr>\n  </thead>\n  <tbody>\n    <tr>\n      <th>0</th>\n      <td>0</td>\n      <td>Emiliano Martínez</td>\n      <td>7</td>\n      <td>7</td>\n      <td>690</td>\n      <td>0</td>\n      <td>0</td>\n      <td>0</td>\n      <td>0</td>\n      <td>NaN</td>\n      <td>...</td>\n      <td>0.0</td>\n      <td>0.0</td>\n      <td>0</td>\n      <td>2.0</td>\n      <td>0.0</td>\n      <td>GK</td>\n      <td>29</td>\n      <td>eng</td>\n      <td>Aston Villa</td>\n      <td>Argentina</td>\n    </tr>\n    <tr>\n      <th>1</th>\n      <td>1</td>\n      <td>Lionel Messi</td>\n      <td>7</td>\n      <td>7</td>\n      <td>690</td>\n      <td>7</td>\n      <td>3</td>\n      <td>27</td>\n      <td>13</td>\n      <td>0.11</td>\n      <td>...</td>\n      <td>1.0</td>\n      <td>0.0</td>\n      <td>0</td>\n      <td>2.0</td>\n      <td>7.0</td>\n      <td>FW</td>\n      <td>34</td>\n      <td>fr</td>\n      <td>Paris S-G</td>\n      <td>Argentina</td>\n    </tr>\n    <tr>\n      <th>2</th>\n      <td>2</td>\n      <td>Nicolás Otamendi</td>\n      <td>7</td>\n      <td>7</td>\n      <td>690</td>\n      <td>0</td>\n      <td>1</td>\n      <td>1</td>\n      <td>0</td>\n      <td>0.00</td>\n      <td>...</td>\n      <td>0.0</td>\n      <td>1.0</td>\n      <td>0</td>\n      <td>21.0</td>\n      <td>13.0</td>\n      <td>DF</td>\n      <td>34</td>\n      <td>pt</td>\n      <td>Benfica</td>\n      <td>Argentina</td>\n    </tr>\n    <tr>\n      <th>3</th>\n      <td>3</td>\n      <td>Rodrigo De Paul</td>\n      <td>7</td>\n      <td>7</td>\n      <td>599</td>\n      <td>0</td>\n      <td>0</td>\n      <td>7</td>\n      <td>3</td>\n      <td>0.00</td>\n      <td>...</td>\n      <td>0.0</td>\n      <td>0.0</td>\n      <td>0</td>\n      <td>2.0</td>\n      <td>3.0</td>\n      <td>MF</td>\n      <td>28</td>\n      <td>es</td>\n      <td>Atlético Madrid</td>\n      <td>Argentina</td>\n    </tr>\n    <tr>\n      <th>4</th>\n      <td>4</td>\n      <td>Nahuel Molina</td>\n      <td>7</td>\n      <td>6</td>\n      <td>567</td>\n      <td>1</td>\n      <td>1</td>\n      <td>2</td>\n      <td>1</td>\n      <td>0.50</td>\n      <td>...</td>\n      <td>0.0</td>\n      <td>0.0</td>\n      <td>0</td>\n      <td>0.0</td>\n      <td>6.0</td>\n      <td>DF</td>\n      <td>24</td>\n      <td>es</td>\n      <td>Atlético Madrid</td>\n      <td>Argentina</td>\n    </tr>\n    <tr>\n      <th>...</th>\n      <td>...</td>\n      <td>...</td>\n      <td>...</td>\n      <td>...</td>\n      <td>...</td>\n      <td>...</td>\n      <td>...</td>\n      <td>...</td>\n      <td>...</td>\n      <td>...</td>\n      <td>...</td>\n      <td>...</td>\n      <td>...</td>\n      <td>...</td>\n      <td>...</td>\n      <td>...</td>\n      <td>...</td>\n      <td>...</td>\n      <td>...</td>\n      <td>...</td>\n      <td>...</td>\n    </tr>\n    <tr>\n      <th>675</th>\n      <td>675</td>\n      <td>Mohammed Waad</td>\n      <td>2</td>\n      <td>0</td>\n      <td>28</td>\n      <td>0</td>\n      <td>0</td>\n      <td>0</td>\n      <td>0</td>\n      <td>NaN</td>\n      <td>...</td>\n      <td>0.0</td>\n      <td>0.0</td>\n      <td>0</td>\n      <td>0.0</td>\n      <td>0.0</td>\n      <td>MF,DF</td>\n      <td>22</td>\n      <td>qa</td>\n      <td>Al Sadd SC</td>\n      <td>Qatar</td>\n    </tr>\n    <tr>\n      <th>676</th>\n      <td>676</td>\n      <td>Ali Assadalla</td>\n      <td>1</td>\n      <td>0</td>\n      <td>27</td>\n      <td>0</td>\n      <td>0</td>\n      <td>0</td>\n      <td>0</td>\n      <td>NaN</td>\n      <td>...</td>\n      <td>0.0</td>\n      <td>0.0</td>\n      <td>0</td>\n      <td>0.0</td>\n      <td>0.0</td>\n      <td>MF</td>\n      <td>29</td>\n      <td>qa</td>\n      <td>Al Sadd SC</td>\n      <td>Qatar</td>\n    </tr>\n    <tr>\n      <th>677</th>\n      <td>677</td>\n      <td>Tarek Salman</td>\n      <td>1</td>\n      <td>0</td>\n      <td>8</td>\n      <td>0</td>\n      <td>0</td>\n      <td>0</td>\n      <td>0</td>\n      <td>NaN</td>\n      <td>...</td>\n      <td>0.0</td>\n      <td>0.0</td>\n      <td>0</td>\n      <td>0.0</td>\n      <td>0.0</td>\n      <td>DF</td>\n      <td>24</td>\n      <td>qa</td>\n      <td>Al Sadd SC</td>\n      <td>Qatar</td>\n    </tr>\n    <tr>\n      <th>678</th>\n      <td>678</td>\n      <td>Ahmed Alaaeldin</td>\n      <td>1</td>\n      <td>0</td>\n      <td>6</td>\n      <td>0</td>\n      <td>0</td>\n      <td>0</td>\n      <td>0</td>\n      <td>NaN</td>\n      <td>...</td>\n      <td>0.0</td>\n      <td>0.0</td>\n      <td>0</td>\n      <td>0.0</td>\n      <td>0.0</td>\n      <td>FW</td>\n      <td>29</td>\n      <td>qa</td>\n      <td>Al-Gharafa Sports Club</td>\n      <td>Qatar</td>\n    </tr>\n    <tr>\n      <th>679</th>\n      <td>679</td>\n      <td>Musab Kheder</td>\n      <td>1</td>\n      <td>0</td>\n      <td>6</td>\n      <td>0</td>\n      <td>0</td>\n      <td>0</td>\n      <td>0</td>\n      <td>NaN</td>\n      <td>...</td>\n      <td>0.0</td>\n      <td>0.0</td>\n      <td>0</td>\n      <td>0.0</td>\n      <td>0.0</td>\n      <td>DF</td>\n      <td>28</td>\n      <td>qa</td>\n      <td>Al Sadd SC</td>\n      <td>Qatar</td>\n    </tr>\n  </tbody>\n</table>\n<p>680 rows × 42 columns</p>\n</div>"
     },
     "execution_count": 23,
     "metadata": {},
     "output_type": "execute_result"
    }
   ],
   "source": [
    "##LOADING THE PLAYERS DATASET\n",
    "new_df= pd.read_csv(\"World_Cup_Players.csv\")\n",
    "new_df"
   ],
   "metadata": {
    "collapsed": false,
    "pycharm": {
     "name": "#%%\n"
    }
   }
  },
  {
   "cell_type": "code",
   "execution_count": 24,
   "outputs": [
    {
     "data": {
      "text/plain": "     Unnamed: 0             Player  Match_played  Starts  Minutes_played  Gls  \\\n111         111       Luuk de Jong             1       0              57    0   \n67           67       Ante Budimir             2       0              55    0   \n140         140        Richarlison             4       4             323    3   \n593         593  Andreas Cornelius             3       1              92    0   \n651         651         Cyle Larin             3       2             137    0   \n122         122        Bukayo Saka             4       4             288    3   \n665         665         Almoez Ali             3       3             224    0   \n403         403  Vincent Aboubakar             3       1             142    2   \n390         390   Djorkaeff Reasco             1       0              27    0   \n70           70       Hakim Ziyech             7       7             635    1   \n657         657    Lucas Cavallini             1       0              19    0   \n344         344         Na Sang-ho             2       1             119    0   \n425         425        Luis Suárez             3       2             146    0   \n382         382    Michael Estrada             3       3             225    0   \n184         184        André Silva             1       0              26    0   \n494         494        Loïs Openda             1       0              13    0   \n303         303        Haji Wright             4       1             137    1   \n291         291      Pablo Sarabia             1       0               3    0   \n92           92      Anass Zaroury             1       0              27    0   \n141         141           Raphinha             5       4             315    0   \n\n     Ast  Shots  shots_on_target  goals_per_shot  ...  penalty_kick_won  \\\n111    0      1                0            0.00  ...               0.0   \n67     0      1                0            0.00  ...               0.0   \n140    0      8                4            0.38  ...               1.0   \n593    0      5                2            0.00  ...               0.0   \n651    0      3                1            0.00  ...               0.0   \n122    0      7                5            0.43  ...               1.0   \n665    0      3                1            0.00  ...               0.0   \n403    1      6                3            0.33  ...               0.0   \n390    0      0                0             NaN  ...               0.0   \n70     1     10                2            0.10  ...               0.0   \n657    0      0                0             NaN  ...               0.0   \n344    0      1                1            0.00  ...               0.0   \n425    1      2                1            0.00  ...               0.0   \n382    0      3                0            0.00  ...               0.0   \n184    0      0                0             NaN  ...               0.0   \n494    0      0                0             NaN  ...               0.0   \n303    0      6                2            0.17  ...               0.0   \n291    0      1                0            0.00  ...               0.0   \n92     0      0                0             NaN  ...               0.0   \n141    1      8                6            0.00  ...               0.0   \n\n     penalty_kick_conceded  own_goal  aerial_duo_won  aerial_duo_lost  Pos  \\\n111                    0.0         0             3.0              3.0   FW   \n67                     0.0         0             2.0              4.0   FW   \n140                    0.0         0             4.0              8.0   FW   \n593                    0.0         0            11.0              8.0   FW   \n651                    0.0         0             2.0              1.0   FW   \n122                    0.0         0             1.0              1.0   FW   \n665                    0.0         0             2.0              9.0   FW   \n403                    0.0         0             2.0              3.0   FW   \n390                    0.0         0             0.0              0.0   FW   \n70                     0.0         0             3.0              6.0   FW   \n657                    0.0         0             0.0              1.0   FW   \n344                    0.0         0             3.0              3.0   FW   \n425                    0.0         0             2.0              4.0   FW   \n382                    0.0         0            13.0             14.0   FW   \n184                    0.0         0             1.0              2.0   FW   \n494                    0.0         0             0.0              1.0   FW   \n303                    0.0         0             6.0              7.0   FW   \n291                    0.0         0             0.0              0.0   FW   \n92                     0.0         0             0.0              0.0   FW   \n141                    0.0         0             0.0              6.0   FW   \n\n     Age  Club_country           Club            Team  \n111   31            nl  PSV Eindhoven     Netherlands  \n67    30            es        Osasuna         Croatia  \n140   25           eng      Tottenham          Brazil  \n593   29            dk  FC Copenhagen         Denmark  \n651   27            be    Club Brugge          Canada  \n122   20           eng        Arsenal         England  \n665   25            qa   Al Duhail SC           Qatar  \n403   30            sa       Al-Nassr        Cameroon  \n390   23            ar    Newell's OB         Ecuador  \n70    29           eng        Chelsea         Morocco  \n657   29            us      Vancouver          Canada  \n344   25            kr       FC Seoul  Korea Republic  \n425   35            uy       Nacional         Uruguay  \n382   26            mx      Cruz Azul         Ecuador  \n184   26            de     RB Leipzig        Portugal  \n494   22            fr           Lens         Belgium  \n303   24            tr    Antalyaspor   United States  \n291   30            fr      Paris S-G           Spain  \n92    21           eng        Burnley         Morocco  \n141   25            es      Barcelona          Brazil  \n\n[20 rows x 42 columns]",
      "text/html": "<div>\n<style scoped>\n    .dataframe tbody tr th:only-of-type {\n        vertical-align: middle;\n    }\n\n    .dataframe tbody tr th {\n        vertical-align: top;\n    }\n\n    .dataframe thead th {\n        text-align: right;\n    }\n</style>\n<table border=\"1\" class=\"dataframe\">\n  <thead>\n    <tr style=\"text-align: right;\">\n      <th></th>\n      <th>Unnamed: 0</th>\n      <th>Player</th>\n      <th>Match_played</th>\n      <th>Starts</th>\n      <th>Minutes_played</th>\n      <th>Gls</th>\n      <th>Ast</th>\n      <th>Shots</th>\n      <th>shots_on_target</th>\n      <th>goals_per_shot</th>\n      <th>...</th>\n      <th>penalty_kick_won</th>\n      <th>penalty_kick_conceded</th>\n      <th>own_goal</th>\n      <th>aerial_duo_won</th>\n      <th>aerial_duo_lost</th>\n      <th>Pos</th>\n      <th>Age</th>\n      <th>Club_country</th>\n      <th>Club</th>\n      <th>Team</th>\n    </tr>\n  </thead>\n  <tbody>\n    <tr>\n      <th>111</th>\n      <td>111</td>\n      <td>Luuk de Jong</td>\n      <td>1</td>\n      <td>0</td>\n      <td>57</td>\n      <td>0</td>\n      <td>0</td>\n      <td>1</td>\n      <td>0</td>\n      <td>0.00</td>\n      <td>...</td>\n      <td>0.0</td>\n      <td>0.0</td>\n      <td>0</td>\n      <td>3.0</td>\n      <td>3.0</td>\n      <td>FW</td>\n      <td>31</td>\n      <td>nl</td>\n      <td>PSV Eindhoven</td>\n      <td>Netherlands</td>\n    </tr>\n    <tr>\n      <th>67</th>\n      <td>67</td>\n      <td>Ante Budimir</td>\n      <td>2</td>\n      <td>0</td>\n      <td>55</td>\n      <td>0</td>\n      <td>0</td>\n      <td>1</td>\n      <td>0</td>\n      <td>0.00</td>\n      <td>...</td>\n      <td>0.0</td>\n      <td>0.0</td>\n      <td>0</td>\n      <td>2.0</td>\n      <td>4.0</td>\n      <td>FW</td>\n      <td>30</td>\n      <td>es</td>\n      <td>Osasuna</td>\n      <td>Croatia</td>\n    </tr>\n    <tr>\n      <th>140</th>\n      <td>140</td>\n      <td>Richarlison</td>\n      <td>4</td>\n      <td>4</td>\n      <td>323</td>\n      <td>3</td>\n      <td>0</td>\n      <td>8</td>\n      <td>4</td>\n      <td>0.38</td>\n      <td>...</td>\n      <td>1.0</td>\n      <td>0.0</td>\n      <td>0</td>\n      <td>4.0</td>\n      <td>8.0</td>\n      <td>FW</td>\n      <td>25</td>\n      <td>eng</td>\n      <td>Tottenham</td>\n      <td>Brazil</td>\n    </tr>\n    <tr>\n      <th>593</th>\n      <td>593</td>\n      <td>Andreas Cornelius</td>\n      <td>3</td>\n      <td>1</td>\n      <td>92</td>\n      <td>0</td>\n      <td>0</td>\n      <td>5</td>\n      <td>2</td>\n      <td>0.00</td>\n      <td>...</td>\n      <td>0.0</td>\n      <td>0.0</td>\n      <td>0</td>\n      <td>11.0</td>\n      <td>8.0</td>\n      <td>FW</td>\n      <td>29</td>\n      <td>dk</td>\n      <td>FC Copenhagen</td>\n      <td>Denmark</td>\n    </tr>\n    <tr>\n      <th>651</th>\n      <td>651</td>\n      <td>Cyle Larin</td>\n      <td>3</td>\n      <td>2</td>\n      <td>137</td>\n      <td>0</td>\n      <td>0</td>\n      <td>3</td>\n      <td>1</td>\n      <td>0.00</td>\n      <td>...</td>\n      <td>0.0</td>\n      <td>0.0</td>\n      <td>0</td>\n      <td>2.0</td>\n      <td>1.0</td>\n      <td>FW</td>\n      <td>27</td>\n      <td>be</td>\n      <td>Club Brugge</td>\n      <td>Canada</td>\n    </tr>\n    <tr>\n      <th>122</th>\n      <td>122</td>\n      <td>Bukayo Saka</td>\n      <td>4</td>\n      <td>4</td>\n      <td>288</td>\n      <td>3</td>\n      <td>0</td>\n      <td>7</td>\n      <td>5</td>\n      <td>0.43</td>\n      <td>...</td>\n      <td>1.0</td>\n      <td>0.0</td>\n      <td>0</td>\n      <td>1.0</td>\n      <td>1.0</td>\n      <td>FW</td>\n      <td>20</td>\n      <td>eng</td>\n      <td>Arsenal</td>\n      <td>England</td>\n    </tr>\n    <tr>\n      <th>665</th>\n      <td>665</td>\n      <td>Almoez Ali</td>\n      <td>3</td>\n      <td>3</td>\n      <td>224</td>\n      <td>0</td>\n      <td>0</td>\n      <td>3</td>\n      <td>1</td>\n      <td>0.00</td>\n      <td>...</td>\n      <td>0.0</td>\n      <td>0.0</td>\n      <td>0</td>\n      <td>2.0</td>\n      <td>9.0</td>\n      <td>FW</td>\n      <td>25</td>\n      <td>qa</td>\n      <td>Al Duhail SC</td>\n      <td>Qatar</td>\n    </tr>\n    <tr>\n      <th>403</th>\n      <td>403</td>\n      <td>Vincent Aboubakar</td>\n      <td>3</td>\n      <td>1</td>\n      <td>142</td>\n      <td>2</td>\n      <td>1</td>\n      <td>6</td>\n      <td>3</td>\n      <td>0.33</td>\n      <td>...</td>\n      <td>0.0</td>\n      <td>0.0</td>\n      <td>0</td>\n      <td>2.0</td>\n      <td>3.0</td>\n      <td>FW</td>\n      <td>30</td>\n      <td>sa</td>\n      <td>Al-Nassr</td>\n      <td>Cameroon</td>\n    </tr>\n    <tr>\n      <th>390</th>\n      <td>390</td>\n      <td>Djorkaeff Reasco</td>\n      <td>1</td>\n      <td>0</td>\n      <td>27</td>\n      <td>0</td>\n      <td>0</td>\n      <td>0</td>\n      <td>0</td>\n      <td>NaN</td>\n      <td>...</td>\n      <td>0.0</td>\n      <td>0.0</td>\n      <td>0</td>\n      <td>0.0</td>\n      <td>0.0</td>\n      <td>FW</td>\n      <td>23</td>\n      <td>ar</td>\n      <td>Newell's OB</td>\n      <td>Ecuador</td>\n    </tr>\n    <tr>\n      <th>70</th>\n      <td>70</td>\n      <td>Hakim Ziyech</td>\n      <td>7</td>\n      <td>7</td>\n      <td>635</td>\n      <td>1</td>\n      <td>1</td>\n      <td>10</td>\n      <td>2</td>\n      <td>0.10</td>\n      <td>...</td>\n      <td>0.0</td>\n      <td>0.0</td>\n      <td>0</td>\n      <td>3.0</td>\n      <td>6.0</td>\n      <td>FW</td>\n      <td>29</td>\n      <td>eng</td>\n      <td>Chelsea</td>\n      <td>Morocco</td>\n    </tr>\n    <tr>\n      <th>657</th>\n      <td>657</td>\n      <td>Lucas Cavallini</td>\n      <td>1</td>\n      <td>0</td>\n      <td>19</td>\n      <td>0</td>\n      <td>0</td>\n      <td>0</td>\n      <td>0</td>\n      <td>NaN</td>\n      <td>...</td>\n      <td>0.0</td>\n      <td>0.0</td>\n      <td>0</td>\n      <td>0.0</td>\n      <td>1.0</td>\n      <td>FW</td>\n      <td>29</td>\n      <td>us</td>\n      <td>Vancouver</td>\n      <td>Canada</td>\n    </tr>\n    <tr>\n      <th>344</th>\n      <td>344</td>\n      <td>Na Sang-ho</td>\n      <td>2</td>\n      <td>1</td>\n      <td>119</td>\n      <td>0</td>\n      <td>0</td>\n      <td>1</td>\n      <td>1</td>\n      <td>0.00</td>\n      <td>...</td>\n      <td>0.0</td>\n      <td>0.0</td>\n      <td>0</td>\n      <td>3.0</td>\n      <td>3.0</td>\n      <td>FW</td>\n      <td>25</td>\n      <td>kr</td>\n      <td>FC Seoul</td>\n      <td>Korea Republic</td>\n    </tr>\n    <tr>\n      <th>425</th>\n      <td>425</td>\n      <td>Luis Suárez</td>\n      <td>3</td>\n      <td>2</td>\n      <td>146</td>\n      <td>0</td>\n      <td>1</td>\n      <td>2</td>\n      <td>1</td>\n      <td>0.00</td>\n      <td>...</td>\n      <td>0.0</td>\n      <td>0.0</td>\n      <td>0</td>\n      <td>2.0</td>\n      <td>4.0</td>\n      <td>FW</td>\n      <td>35</td>\n      <td>uy</td>\n      <td>Nacional</td>\n      <td>Uruguay</td>\n    </tr>\n    <tr>\n      <th>382</th>\n      <td>382</td>\n      <td>Michael Estrada</td>\n      <td>3</td>\n      <td>3</td>\n      <td>225</td>\n      <td>0</td>\n      <td>0</td>\n      <td>3</td>\n      <td>0</td>\n      <td>0.00</td>\n      <td>...</td>\n      <td>0.0</td>\n      <td>0.0</td>\n      <td>0</td>\n      <td>13.0</td>\n      <td>14.0</td>\n      <td>FW</td>\n      <td>26</td>\n      <td>mx</td>\n      <td>Cruz Azul</td>\n      <td>Ecuador</td>\n    </tr>\n    <tr>\n      <th>184</th>\n      <td>184</td>\n      <td>André Silva</td>\n      <td>1</td>\n      <td>0</td>\n      <td>26</td>\n      <td>0</td>\n      <td>0</td>\n      <td>0</td>\n      <td>0</td>\n      <td>NaN</td>\n      <td>...</td>\n      <td>0.0</td>\n      <td>0.0</td>\n      <td>0</td>\n      <td>1.0</td>\n      <td>2.0</td>\n      <td>FW</td>\n      <td>26</td>\n      <td>de</td>\n      <td>RB Leipzig</td>\n      <td>Portugal</td>\n    </tr>\n    <tr>\n      <th>494</th>\n      <td>494</td>\n      <td>Loïs Openda</td>\n      <td>1</td>\n      <td>0</td>\n      <td>13</td>\n      <td>0</td>\n      <td>0</td>\n      <td>0</td>\n      <td>0</td>\n      <td>NaN</td>\n      <td>...</td>\n      <td>0.0</td>\n      <td>0.0</td>\n      <td>0</td>\n      <td>0.0</td>\n      <td>1.0</td>\n      <td>FW</td>\n      <td>22</td>\n      <td>fr</td>\n      <td>Lens</td>\n      <td>Belgium</td>\n    </tr>\n    <tr>\n      <th>303</th>\n      <td>303</td>\n      <td>Haji Wright</td>\n      <td>4</td>\n      <td>1</td>\n      <td>137</td>\n      <td>1</td>\n      <td>0</td>\n      <td>6</td>\n      <td>2</td>\n      <td>0.17</td>\n      <td>...</td>\n      <td>0.0</td>\n      <td>0.0</td>\n      <td>0</td>\n      <td>6.0</td>\n      <td>7.0</td>\n      <td>FW</td>\n      <td>24</td>\n      <td>tr</td>\n      <td>Antalyaspor</td>\n      <td>United States</td>\n    </tr>\n    <tr>\n      <th>291</th>\n      <td>291</td>\n      <td>Pablo Sarabia</td>\n      <td>1</td>\n      <td>0</td>\n      <td>3</td>\n      <td>0</td>\n      <td>0</td>\n      <td>1</td>\n      <td>0</td>\n      <td>0.00</td>\n      <td>...</td>\n      <td>0.0</td>\n      <td>0.0</td>\n      <td>0</td>\n      <td>0.0</td>\n      <td>0.0</td>\n      <td>FW</td>\n      <td>30</td>\n      <td>fr</td>\n      <td>Paris S-G</td>\n      <td>Spain</td>\n    </tr>\n    <tr>\n      <th>92</th>\n      <td>92</td>\n      <td>Anass Zaroury</td>\n      <td>1</td>\n      <td>0</td>\n      <td>27</td>\n      <td>0</td>\n      <td>0</td>\n      <td>0</td>\n      <td>0</td>\n      <td>NaN</td>\n      <td>...</td>\n      <td>0.0</td>\n      <td>0.0</td>\n      <td>0</td>\n      <td>0.0</td>\n      <td>0.0</td>\n      <td>FW</td>\n      <td>21</td>\n      <td>eng</td>\n      <td>Burnley</td>\n      <td>Morocco</td>\n    </tr>\n    <tr>\n      <th>141</th>\n      <td>141</td>\n      <td>Raphinha</td>\n      <td>5</td>\n      <td>4</td>\n      <td>315</td>\n      <td>0</td>\n      <td>1</td>\n      <td>8</td>\n      <td>6</td>\n      <td>0.00</td>\n      <td>...</td>\n      <td>0.0</td>\n      <td>0.0</td>\n      <td>0</td>\n      <td>0.0</td>\n      <td>6.0</td>\n      <td>FW</td>\n      <td>25</td>\n      <td>es</td>\n      <td>Barcelona</td>\n      <td>Brazil</td>\n    </tr>\n  </tbody>\n</table>\n<p>20 rows × 42 columns</p>\n</div>"
     },
     "execution_count": 24,
     "metadata": {},
     "output_type": "execute_result"
    }
   ],
   "source": [
    "strikers = new_df.loc[new_df[\"Pos\"]==\"FW\"]\n",
    "strikers.sample(20)"
   ],
   "metadata": {
    "collapsed": false,
    "pycharm": {
     "name": "#%%\n"
    }
   }
  },
  {
   "cell_type": "markdown",
   "source": [
    "### Which player position has a greater likelihood of being offside\n",
    "l need a dataframe with offside and player position.\n",
    "Then  l need to group each position by offside and sum"
   ],
   "metadata": {
    "collapsed": false,
    "pycharm": {
     "name": "#%% md\n"
    }
   }
  },
  {
   "cell_type": "code",
   "execution_count": 25,
   "outputs": [
    {
     "data": {
      "text/plain": "       Pos  offside\n0       GK        0\n1       FW        3\n2       DF        1\n3       MF        0\n4       DF        1\n..     ...      ...\n675  MF,DF        0\n676     MF        0\n677     DF        0\n678     FW        0\n679     DF        0\n\n[680 rows x 2 columns]",
      "text/html": "<div>\n<style scoped>\n    .dataframe tbody tr th:only-of-type {\n        vertical-align: middle;\n    }\n\n    .dataframe tbody tr th {\n        vertical-align: top;\n    }\n\n    .dataframe thead th {\n        text-align: right;\n    }\n</style>\n<table border=\"1\" class=\"dataframe\">\n  <thead>\n    <tr style=\"text-align: right;\">\n      <th></th>\n      <th>Pos</th>\n      <th>offside</th>\n    </tr>\n  </thead>\n  <tbody>\n    <tr>\n      <th>0</th>\n      <td>GK</td>\n      <td>0</td>\n    </tr>\n    <tr>\n      <th>1</th>\n      <td>FW</td>\n      <td>3</td>\n    </tr>\n    <tr>\n      <th>2</th>\n      <td>DF</td>\n      <td>1</td>\n    </tr>\n    <tr>\n      <th>3</th>\n      <td>MF</td>\n      <td>0</td>\n    </tr>\n    <tr>\n      <th>4</th>\n      <td>DF</td>\n      <td>1</td>\n    </tr>\n    <tr>\n      <th>...</th>\n      <td>...</td>\n      <td>...</td>\n    </tr>\n    <tr>\n      <th>675</th>\n      <td>MF,DF</td>\n      <td>0</td>\n    </tr>\n    <tr>\n      <th>676</th>\n      <td>MF</td>\n      <td>0</td>\n    </tr>\n    <tr>\n      <th>677</th>\n      <td>DF</td>\n      <td>0</td>\n    </tr>\n    <tr>\n      <th>678</th>\n      <td>FW</td>\n      <td>0</td>\n    </tr>\n    <tr>\n      <th>679</th>\n      <td>DF</td>\n      <td>0</td>\n    </tr>\n  </tbody>\n</table>\n<p>680 rows × 2 columns</p>\n</div>"
     },
     "execution_count": 25,
     "metadata": {},
     "output_type": "execute_result"
    }
   ],
   "source": [
    "cols= [\"Pos\",\"offside\"]\n",
    "offside = new_df[cols]\n",
    "offside"
   ],
   "metadata": {
    "collapsed": false,
    "pycharm": {
     "name": "#%%\n"
    }
   }
  },
  {
   "cell_type": "code",
   "execution_count": 28,
   "outputs": [
    {
     "data": {
      "text/plain": "       offside\nPos           \nDF          36\nDF,FW        0\nDF,MF        5\nFW         126\nFW,DF        4\nFW,MF       50\nGK           0\nMF          17\nMF,DF        3\nMF,FW       13",
      "text/html": "<div>\n<style scoped>\n    .dataframe tbody tr th:only-of-type {\n        vertical-align: middle;\n    }\n\n    .dataframe tbody tr th {\n        vertical-align: top;\n    }\n\n    .dataframe thead th {\n        text-align: right;\n    }\n</style>\n<table border=\"1\" class=\"dataframe\">\n  <thead>\n    <tr style=\"text-align: right;\">\n      <th></th>\n      <th>offside</th>\n    </tr>\n    <tr>\n      <th>Pos</th>\n      <th></th>\n    </tr>\n  </thead>\n  <tbody>\n    <tr>\n      <th>DF</th>\n      <td>36</td>\n    </tr>\n    <tr>\n      <th>DF,FW</th>\n      <td>0</td>\n    </tr>\n    <tr>\n      <th>DF,MF</th>\n      <td>5</td>\n    </tr>\n    <tr>\n      <th>FW</th>\n      <td>126</td>\n    </tr>\n    <tr>\n      <th>FW,DF</th>\n      <td>4</td>\n    </tr>\n    <tr>\n      <th>FW,MF</th>\n      <td>50</td>\n    </tr>\n    <tr>\n      <th>GK</th>\n      <td>0</td>\n    </tr>\n    <tr>\n      <th>MF</th>\n      <td>17</td>\n    </tr>\n    <tr>\n      <th>MF,DF</th>\n      <td>3</td>\n    </tr>\n    <tr>\n      <th>MF,FW</th>\n      <td>13</td>\n    </tr>\n  </tbody>\n</table>\n</div>"
     },
     "execution_count": 28,
     "metadata": {},
     "output_type": "execute_result"
    }
   ],
   "source": [
    "offside = offside.groupby(\"Pos\").sum()\n",
    "offside"
   ],
   "metadata": {
    "collapsed": false,
    "pycharm": {
     "name": "#%%\n"
    }
   }
  },
  {
   "cell_type": "code",
   "execution_count": 31,
   "outputs": [
    {
     "data": {
      "text/plain": "<AxesSubplot:xlabel='Pos', ylabel='offside'>"
     },
     "execution_count": 31,
     "metadata": {},
     "output_type": "execute_result"
    },
    {
     "data": {
      "text/plain": "<Figure size 432x288 with 1 Axes>",
      "image/png": "[encoded data removed]"
     },
     "metadata": {
      "needs_background": "light"
     },
     "output_type": "display_data"
    }
   ],
   "source": [
    "sb.barplot(data=new_df,x=\"Pos\",y=\"offside\");"
   ],
   "metadata": {
    "collapsed": false,
    "pycharm": {
     "name": "#%%\n"
    }
   }
  },
  {
   "cell_type": "markdown",
   "source": [
    "**Observations**\n",
    "The FW position has a high occurances of being offside\n",
    "The top three offside positions are FW , ( FW,MF ) and (FW,DF)"
   ],
   "metadata": {
    "collapsed": false,
    "pycharm": {
     "name": "#%% md\n"
    }
   }
  },
  {
   "cell_type": "markdown",
   "source": [
    "**Hypothesis**\n",
    "H_0 : Strikers on get more than the average number of offsides\n",
    "H_1 : Strikers get less than the average number of offsides\n",
    "Confidence = 0.05"
   ],
   "metadata": {
    "collapsed": false,
    "pycharm": {
     "name": "#%% md\n"
    }
   }
  },
  {
   "cell_type": "code",
   "execution_count": 33,
   "outputs": [
    {
     "data": {
      "text/plain": "25.4"
     },
     "execution_count": 33,
     "metadata": {},
     "output_type": "execute_result"
    }
   ],
   "source": [
    "#get the mean average of offsides\n",
    "offside_mean = offside.offside.mean()\n",
    "offside_mean"
   ],
   "metadata": {
    "collapsed": false,
    "pycharm": {
     "name": "#%%\n"
    }
   }
  },
  {
   "cell_type": "code",
   "execution_count": 34,
   "outputs": [
    {
     "data": {
      "text/plain": "     Unnamed: 0            Player  Match_played  Starts  Minutes_played  Gls  \\\n1             1      Lionel Messi             7       7             690    7   \n8             8    Julián Álvarez             7       5             464    4   \n10           10    Ángel Di María             5       4             288    1   \n13           13  Lautaro Martínez             6       2             241    0   \n20           20      Paulo Dybala             2       0              18    0   \n..          ...               ...           ...     ...             ...  ...   \n660         660        Akram Afif             3       3             270    0   \n665         665        Almoez Ali             3       3             224    0   \n670         670    Ismail Mohamad             2       2             174    0   \n674         674  Mohammed Muntari             3       0              63    1   \n678         678   Ahmed Alaaeldin             1       0               6    0   \n\n     Ast  Shots  shots_on_target  goals_per_shot  ...  penalty_kick_won  \\\n1      3     27               13            0.11  ...               1.0   \n8      0     11                8            0.36  ...               1.0   \n10     1      6                3            0.17  ...               1.0   \n13     0     14                4            0.00  ...               0.0   \n20     0      0                0             NaN  ...               0.0   \n..   ...    ...              ...             ...  ...               ...   \n660    0      2                0            0.00  ...               0.0   \n665    0      3                1            0.00  ...               0.0   \n670    1      2                2            0.00  ...               NaN   \n674    0      3                1            0.33  ...               0.0   \n678    0      0                0             NaN  ...               0.0   \n\n     penalty_kick_conceded  own_goal  aerial_duo_won  aerial_duo_lost    Pos  \\\n1                      0.0         0             2.0              7.0     FW   \n8                      0.0         0             2.0              9.0     FW   \n10                     0.0         0             0.0              1.0     FW   \n13                     0.0         0             6.0              6.0     FW   \n20                     0.0         0             3.0              1.0     FW   \n..                     ...       ...             ...              ...    ...   \n660                    0.0         0             1.0              1.0     FW   \n665                    0.0         0             2.0              9.0     FW   \n670                    NaN         0             NaN              NaN     FW   \n674                    0.0         0             3.0              1.0  FW,MF   \n678                    0.0         0             0.0              0.0     FW   \n\n     Age  Club_country                    Club       Team  \n1     34            fr               Paris S-G  Argentina  \n8     22           eng         Manchester City  Argentina  \n10    34            it                Juventus  Argentina  \n13    24            it                   Inter  Argentina  \n20    28            it                    Roma  Argentina  \n..   ...           ...                     ...        ...  \n660   25            qa              Al Sadd SC      Qatar  \n665   25            qa            Al Duhail SC      Qatar  \n670   32            qa            Al Duhail SC      Qatar  \n674   28            qa            Al Duhail SC      Qatar  \n678   29            qa  Al-Gharafa Sports Club      Qatar  \n\n[186 rows x 42 columns]",
      "text/html": "<div>\n<style scoped>\n    .dataframe tbody tr th:only-of-type {\n        vertical-align: middle;\n    }\n\n    .dataframe tbody tr th {\n        vertical-align: top;\n    }\n\n    .dataframe thead th {\n        text-align: right;\n    }\n</style>\n<table border=\"1\" class=\"dataframe\">\n  <thead>\n    <tr style=\"text-align: right;\">\n      <th></th>\n      <th>Unnamed: 0</th>\n      <th>Player</th>\n      <th>Match_played</th>\n      <th>Starts</th>\n      <th>Minutes_played</th>\n      <th>Gls</th>\n      <th>Ast</th>\n      <th>Shots</th>\n      <th>shots_on_target</th>\n      <th>goals_per_shot</th>\n      <th>...</th>\n      <th>penalty_kick_won</th>\n      <th>penalty_kick_conceded</th>\n      <th>own_goal</th>\n      <th>aerial_duo_won</th>\n      <th>aerial_duo_lost</th>\n      <th>Pos</th>\n      <th>Age</th>\n      <th>Club_country</th>\n      <th>Club</th>\n      <th>Team</th>\n    </tr>\n  </thead>\n  <tbody>\n    <tr>\n      <th>1</th>\n      <td>1</td>\n      <td>Lionel Messi</td>\n      <td>7</td>\n      <td>7</td>\n      <td>690</td>\n      <td>7</td>\n      <td>3</td>\n      <td>27</td>\n      <td>13</td>\n      <td>0.11</td>\n      <td>...</td>\n      <td>1.0</td>\n      <td>0.0</td>\n      <td>0</td>\n      <td>2.0</td>\n      <td>7.0</td>\n      <td>FW</td>\n      <td>34</td>\n      <td>fr</td>\n      <td>Paris S-G</td>\n      <td>Argentina</td>\n    </tr>\n    <tr>\n      <th>8</th>\n      <td>8</td>\n      <td>Julián Álvarez</td>\n      <td>7</td>\n      <td>5</td>\n      <td>464</td>\n      <td>4</td>\n      <td>0</td>\n      <td>11</td>\n      <td>8</td>\n      <td>0.36</td>\n      <td>...</td>\n      <td>1.0</td>\n      <td>0.0</td>\n      <td>0</td>\n      <td>2.0</td>\n      <td>9.0</td>\n      <td>FW</td>\n      <td>22</td>\n      <td>eng</td>\n      <td>Manchester City</td>\n      <td>Argentina</td>\n    </tr>\n    <tr>\n      <th>10</th>\n      <td>10</td>\n      <td>Ángel Di María</td>\n      <td>5</td>\n      <td>4</td>\n      <td>288</td>\n      <td>1</td>\n      <td>1</td>\n      <td>6</td>\n      <td>3</td>\n      <td>0.17</td>\n      <td>...</td>\n      <td>1.0</td>\n      <td>0.0</td>\n      <td>0</td>\n      <td>0.0</td>\n      <td>1.0</td>\n      <td>FW</td>\n      <td>34</td>\n      <td>it</td>\n      <td>Juventus</td>\n      <td>Argentina</td>\n    </tr>\n    <tr>\n      <th>13</th>\n      <td>13</td>\n      <td>Lautaro Martínez</td>\n      <td>6</td>\n      <td>2</td>\n      <td>241</td>\n      <td>0</td>\n      <td>0</td>\n      <td>14</td>\n      <td>4</td>\n      <td>0.00</td>\n      <td>...</td>\n      <td>0.0</td>\n      <td>0.0</td>\n      <td>0</td>\n      <td>6.0</td>\n      <td>6.0</td>\n      <td>FW</td>\n      <td>24</td>\n      <td>it</td>\n      <td>Inter</td>\n      <td>Argentina</td>\n    </tr>\n    <tr>\n      <th>20</th>\n      <td>20</td>\n      <td>Paulo Dybala</td>\n      <td>2</td>\n      <td>0</td>\n      <td>18</td>\n      <td>0</td>\n      <td>0</td>\n      <td>0</td>\n      <td>0</td>\n      <td>NaN</td>\n      <td>...</td>\n      <td>0.0</td>\n      <td>0.0</td>\n      <td>0</td>\n      <td>3.0</td>\n      <td>1.0</td>\n      <td>FW</td>\n      <td>28</td>\n      <td>it</td>\n      <td>Roma</td>\n      <td>Argentina</td>\n    </tr>\n    <tr>\n      <th>...</th>\n      <td>...</td>\n      <td>...</td>\n      <td>...</td>\n      <td>...</td>\n      <td>...</td>\n      <td>...</td>\n      <td>...</td>\n      <td>...</td>\n      <td>...</td>\n      <td>...</td>\n      <td>...</td>\n      <td>...</td>\n      <td>...</td>\n      <td>...</td>\n      <td>...</td>\n      <td>...</td>\n      <td>...</td>\n      <td>...</td>\n      <td>...</td>\n      <td>...</td>\n      <td>...</td>\n    </tr>\n    <tr>\n      <th>660</th>\n      <td>660</td>\n      <td>Akram Afif</td>\n      <td>3</td>\n      <td>3</td>\n      <td>270</td>\n      <td>0</td>\n      <td>0</td>\n      <td>2</td>\n      <td>0</td>\n      <td>0.00</td>\n      <td>...</td>\n      <td>0.0</td>\n      <td>0.0</td>\n      <td>0</td>\n      <td>1.0</td>\n      <td>1.0</td>\n      <td>FW</td>\n      <td>25</td>\n      <td>qa</td>\n      <td>Al Sadd SC</td>\n      <td>Qatar</td>\n    </tr>\n    <tr>\n      <th>665</th>\n      <td>665</td>\n      <td>Almoez Ali</td>\n      <td>3</td>\n      <td>3</td>\n      <td>224</td>\n      <td>0</td>\n      <td>0</td>\n      <td>3</td>\n      <td>1</td>\n      <td>0.00</td>\n      <td>...</td>\n      <td>0.0</td>\n      <td>0.0</td>\n      <td>0</td>\n      <td>2.0</td>\n      <td>9.0</td>\n      <td>FW</td>\n      <td>25</td>\n      <td>qa</td>\n      <td>Al Duhail SC</td>\n      <td>Qatar</td>\n    </tr>\n    <tr>\n      <th>670</th>\n      <td>670</td>\n      <td>Ismail Mohamad</td>\n      <td>2</td>\n      <td>2</td>\n      <td>174</td>\n      <td>0</td>\n      <td>1</td>\n      <td>2</td>\n      <td>2</td>\n      <td>0.00</td>\n      <td>...</td>\n      <td>NaN</td>\n      <td>NaN</td>\n      <td>0</td>\n      <td>NaN</td>\n      <td>NaN</td>\n      <td>FW</td>\n      <td>32</td>\n      <td>qa</td>\n      <td>Al Duhail SC</td>\n      <td>Qatar</td>\n    </tr>\n    <tr>\n      <th>674</th>\n      <td>674</td>\n      <td>Mohammed Muntari</td>\n      <td>3</td>\n      <td>0</td>\n      <td>63</td>\n      <td>1</td>\n      <td>0</td>\n      <td>3</td>\n      <td>1</td>\n      <td>0.33</td>\n      <td>...</td>\n      <td>0.0</td>\n      <td>0.0</td>\n      <td>0</td>\n      <td>3.0</td>\n      <td>1.0</td>\n      <td>FW,MF</td>\n      <td>28</td>\n      <td>qa</td>\n      <td>Al Duhail SC</td>\n      <td>Qatar</td>\n    </tr>\n    <tr>\n      <th>678</th>\n      <td>678</td>\n      <td>Ahmed Alaaeldin</td>\n      <td>1</td>\n      <td>0</td>\n      <td>6</td>\n      <td>0</td>\n      <td>0</td>\n      <td>0</td>\n      <td>0</td>\n      <td>NaN</td>\n      <td>...</td>\n      <td>0.0</td>\n      <td>0.0</td>\n      <td>0</td>\n      <td>0.0</td>\n      <td>0.0</td>\n      <td>FW</td>\n      <td>29</td>\n      <td>qa</td>\n      <td>Al-Gharafa Sports Club</td>\n      <td>Qatar</td>\n    </tr>\n  </tbody>\n</table>\n<p>186 rows × 42 columns</p>\n</div>"
     },
     "execution_count": 34,
     "metadata": {},
     "output_type": "execute_result"
    }
   ],
   "source": [
    "#get players who are strikers or have the FW position\n",
    "strikers_only = new_df[(new_df[\"Pos\"]==\"FW\") | (new_df[\"Pos\"]==\"FW,MF\") | (new_df[\"Pos\"]==\"FW,DF\")]\n",
    "strikers_only"
   ],
   "metadata": {
    "collapsed": false,
    "pycharm": {
     "name": "#%%\n"
    }
   }
  },
  {
   "cell_type": "code",
   "execution_count": 35,
   "outputs": [
    {
     "data": {
      "text/plain": "1      3\n8      5\n10     5\n13     5\n20     0\n      ..\n660    1\n665    3\n670    1\n674    0\n678    0\nName: offside, Length: 186, dtype: int64"
     },
     "execution_count": 35,
     "metadata": {},
     "output_type": "execute_result"
    }
   ],
   "source": [
    "#get the offside column\n",
    "striker_offsides = strikers_only[\"offside\"]\n",
    "striker_offsides"
   ],
   "metadata": {
    "collapsed": false,
    "pycharm": {
     "name": "#%%\n"
    }
   }
  },
  {
   "cell_type": "code",
   "execution_count": 36,
   "outputs": [
    {
     "name": "stdout",
     "output_type": "stream",
     "text": [
      "Reject the null hypothesis - the mean is greater than 25.4\n"
     ]
    }
   ],
   "source": [
    "#conduct a 1 sample t test\n",
    "from scipy.stats import ttest_1samp\n",
    "\n",
    "test_statistic, p_value = ttest_1samp(striker_offsides,offside_mean)\n",
    "if p_value < 0.05:\n",
    "    print(\"Reject the null hypothesis - the mean is greater than\", offside_mean)\n",
    "else:\n",
    "    print(\"Fail to reject the null hypothesis - the mean is not greater than\", offside_mean)"
   ],
   "metadata": {
    "collapsed": false,
    "pycharm": {
     "name": "#%%\n"
    }
   }
  },
  {
   "cell_type": "markdown",
   "source": [
    "**Observation**\n",
    "From the above we reject the null hypothesis and conclude that the result that fowards have on average a greater chance to be offside is statistically insignificant"
   ],
   "metadata": {
    "collapsed": false,
    "pycharm": {
     "name": "#%% md\n"
    }
   }
  },
  {
   "cell_type": "markdown",
   "source": [
    "### Does the number of passes influence the outcome of the game?"
   ],
   "metadata": {
    "collapsed": false,
    "pycharm": {
     "name": "#%% md\n"
    }
   }
  },
  {
   "cell_type": "markdown",
   "source": [
    "l need to find the correlation between came outcome and number of passes\n",
    "so l need these columns number of passes and  game outcome\n",
    "I will also need to combine some columns so l need the team1_goals and team2_goals , the team1_passes and team2_passes to form win column"
   ],
   "metadata": {
    "collapsed": false,
    "pycharm": {
     "name": "#%% md\n"
    }
   }
  },
  {
   "cell_type": "code",
   "execution_count": 55,
   "outputs": [
    {
     "data": {
      "text/plain": "    1_goals  2_goals  team1_completed_passes  team2_completed_passes\n0         0        2                   377.0                   430.0\n1         6        2                   740.0                   162.0\n2         0        2                   333.0                   387.0\n3         1        1                   524.0                   335.0\n4         1        2                   546.0                   195.0\n..      ...      ...                     ...                     ...\n59        1        2                   463.0                   325.0\n60        3        0                     NaN                     NaN\n61        2        0                     NaN                     NaN\n62        2        1                     NaN                     NaN\n63        3        3                     NaN                     NaN\n\n[64 rows x 4 columns]",
      "text/html": "<div>\n<style scoped>\n    .dataframe tbody tr th:only-of-type {\n        vertical-align: middle;\n    }\n\n    .dataframe tbody tr th {\n        vertical-align: top;\n    }\n\n    .dataframe thead th {\n        text-align: right;\n    }\n</style>\n<table border=\"1\" class=\"dataframe\">\n  <thead>\n    <tr style=\"text-align: right;\">\n      <th></th>\n      <th>1_goals</th>\n      <th>2_goals</th>\n      <th>team1_completed_passes</th>\n      <th>team2_completed_passes</th>\n    </tr>\n  </thead>\n  <tbody>\n    <tr>\n      <th>0</th>\n      <td>0</td>\n      <td>2</td>\n      <td>377.0</td>\n      <td>430.0</td>\n    </tr>\n    <tr>\n      <th>1</th>\n      <td>6</td>\n      <td>2</td>\n      <td>740.0</td>\n      <td>162.0</td>\n    </tr>\n    <tr>\n      <th>2</th>\n      <td>0</td>\n      <td>2</td>\n      <td>333.0</td>\n      <td>387.0</td>\n    </tr>\n    <tr>\n      <th>3</th>\n      <td>1</td>\n      <td>1</td>\n      <td>524.0</td>\n      <td>335.0</td>\n    </tr>\n    <tr>\n      <th>4</th>\n      <td>1</td>\n      <td>2</td>\n      <td>546.0</td>\n      <td>195.0</td>\n    </tr>\n    <tr>\n      <th>...</th>\n      <td>...</td>\n      <td>...</td>\n      <td>...</td>\n      <td>...</td>\n    </tr>\n    <tr>\n      <th>59</th>\n      <td>1</td>\n      <td>2</td>\n      <td>463.0</td>\n      <td>325.0</td>\n    </tr>\n    <tr>\n      <th>60</th>\n      <td>3</td>\n      <td>0</td>\n      <td>NaN</td>\n      <td>NaN</td>\n    </tr>\n    <tr>\n      <th>61</th>\n      <td>2</td>\n      <td>0</td>\n      <td>NaN</td>\n      <td>NaN</td>\n    </tr>\n    <tr>\n      <th>62</th>\n      <td>2</td>\n      <td>1</td>\n      <td>NaN</td>\n      <td>NaN</td>\n    </tr>\n    <tr>\n      <th>63</th>\n      <td>3</td>\n      <td>3</td>\n      <td>NaN</td>\n      <td>NaN</td>\n    </tr>\n  </tbody>\n</table>\n<p>64 rows × 4 columns</p>\n</div>"
     },
     "execution_count": 55,
     "metadata": {},
     "output_type": "execute_result"
    }
   ],
   "source": [
    "#get the neccessary columns\n",
    "passes = master_df[[\"1_goals\",\"2_goals\",\"team1_completed_passes\",\"team2_completed_passes\"]]\n",
    "passes"
   ],
   "metadata": {
    "collapsed": false,
    "pycharm": {
     "name": "#%%\n"
    }
   }
  },
  {
   "cell_type": "code",
   "execution_count": 56,
   "outputs": [
    {
     "data": {
      "text/plain": "    1_goals  2_goals  team1_completed_passes  team2_completed_passes  \\\n0         0        2                   377.0                   430.0   \n1         6        2                   740.0                   162.0   \n2         0        2                   333.0                   387.0   \n3         1        1                   524.0                   335.0   \n4         1        2                   546.0                   195.0   \n..      ...      ...                     ...                     ...   \n59        1        2                   463.0                   325.0   \n60        3        0                     NaN                     NaN   \n61        2        0                     NaN                     NaN   \n62        2        1                     NaN                     NaN   \n63        3        3                     NaN                     NaN   \n\n   game_outcome  \n0        Team 2  \n1        Team 1  \n2        Team 2  \n3        Team 2  \n4        Team 2  \n..          ...  \n59       Team 2  \n60       Team 1  \n61       Team 1  \n62       Team 1  \n63       Team 2  \n\n[64 rows x 5 columns]",
      "text/html": "<div>\n<style scoped>\n    .dataframe tbody tr th:only-of-type {\n        vertical-align: middle;\n    }\n\n    .dataframe tbody tr th {\n        vertical-align: top;\n    }\n\n    .dataframe thead th {\n        text-align: right;\n    }\n</style>\n<table border=\"1\" class=\"dataframe\">\n  <thead>\n    <tr style=\"text-align: right;\">\n      <th></th>\n      <th>1_goals</th>\n      <th>2_goals</th>\n      <th>team1_completed_passes</th>\n      <th>team2_completed_passes</th>\n      <th>game_outcome</th>\n    </tr>\n  </thead>\n  <tbody>\n    <tr>\n      <th>0</th>\n      <td>0</td>\n      <td>2</td>\n      <td>377.0</td>\n      <td>430.0</td>\n      <td>Team 2</td>\n    </tr>\n    <tr>\n      <th>1</th>\n      <td>6</td>\n      <td>2</td>\n      <td>740.0</td>\n      <td>162.0</td>\n      <td>Team 1</td>\n    </tr>\n    <tr>\n      <th>2</th>\n      <td>0</td>\n      <td>2</td>\n      <td>333.0</td>\n      <td>387.0</td>\n      <td>Team 2</td>\n    </tr>\n    <tr>\n      <th>3</th>\n      <td>1</td>\n      <td>1</td>\n      <td>524.0</td>\n      <td>335.0</td>\n      <td>Team 2</td>\n    </tr>\n    <tr>\n      <th>4</th>\n      <td>1</td>\n      <td>2</td>\n      <td>546.0</td>\n      <td>195.0</td>\n      <td>Team 2</td>\n    </tr>\n    <tr>\n      <th>...</th>\n      <td>...</td>\n      <td>...</td>\n      <td>...</td>\n      <td>...</td>\n      <td>...</td>\n    </tr>\n    <tr>\n      <th>59</th>\n      <td>1</td>\n      <td>2</td>\n      <td>463.0</td>\n      <td>325.0</td>\n      <td>Team 2</td>\n    </tr>\n    <tr>\n      <th>60</th>\n      <td>3</td>\n      <td>0</td>\n      <td>NaN</td>\n      <td>NaN</td>\n      <td>Team 1</td>\n    </tr>\n    <tr>\n      <th>61</th>\n      <td>2</td>\n      <td>0</td>\n      <td>NaN</td>\n      <td>NaN</td>\n      <td>Team 1</td>\n    </tr>\n    <tr>\n      <th>62</th>\n      <td>2</td>\n      <td>1</td>\n      <td>NaN</td>\n      <td>NaN</td>\n      <td>Team 1</td>\n    </tr>\n    <tr>\n      <th>63</th>\n      <td>3</td>\n      <td>3</td>\n      <td>NaN</td>\n      <td>NaN</td>\n      <td>Team 2</td>\n    </tr>\n  </tbody>\n</table>\n<p>64 rows × 5 columns</p>\n</div>"
     },
     "execution_count": 56,
     "metadata": {},
     "output_type": "execute_result"
    }
   ],
   "source": [
    "#form game_outcome column\n",
    "passes['game_outcome'] = ['Team 1' if x > y else ' Team 2' for x, y in zip(passes['1_goals'], passes['2_goals'])]\n",
    "passes"
   ],
   "metadata": {
    "collapsed": false,
    "pycharm": {
     "name": "#%%\n"
    }
   }
  },
  {
   "cell_type": "code",
   "execution_count": 57,
   "outputs": [
    {
     "data": {
      "text/plain": "    1_goals  2_goals  team1_completed_passes  team2_completed_passes  \\\n0         0        2                   377.0                   430.0   \n1         6        2                   740.0                   162.0   \n2         0        2                   333.0                   387.0   \n3         1        1                   524.0                   335.0   \n4         1        2                   546.0                   195.0   \n..      ...      ...                     ...                     ...   \n59        1        2                   463.0                   325.0   \n60        3        0                     NaN                     NaN   \n61        2        0                     NaN                     NaN   \n62        2        1                     NaN                     NaN   \n63        3        3                     NaN                     NaN   \n\n   game_outcome most_passes  \n0        Team 2      Team 2  \n1        Team 1      Team 1  \n2        Team 2      Team 2  \n3        Team 2      Team 1  \n4        Team 2      Team 1  \n..          ...         ...  \n59       Team 2      Team 1  \n60       Team 1      Team 2  \n61       Team 1      Team 2  \n62       Team 1      Team 2  \n63       Team 2      Team 2  \n\n[64 rows x 6 columns]",
      "text/html": "<div>\n<style scoped>\n    .dataframe tbody tr th:only-of-type {\n        vertical-align: middle;\n    }\n\n    .dataframe tbody tr th {\n        vertical-align: top;\n    }\n\n    .dataframe thead th {\n        text-align: right;\n    }\n</style>\n<table border=\"1\" class=\"dataframe\">\n  <thead>\n    <tr style=\"text-align: right;\">\n      <th></th>\n      <th>1_goals</th>\n      <th>2_goals</th>\n      <th>team1_completed_passes</th>\n      <th>team2_completed_passes</th>\n      <th>game_outcome</th>\n      <th>most_passes</th>\n    </tr>\n  </thead>\n  <tbody>\n    <tr>\n      <th>0</th>\n      <td>0</td>\n      <td>2</td>\n      <td>377.0</td>\n      <td>430.0</td>\n      <td>Team 2</td>\n      <td>Team 2</td>\n    </tr>\n    <tr>\n      <th>1</th>\n      <td>6</td>\n      <td>2</td>\n      <td>740.0</td>\n      <td>162.0</td>\n      <td>Team 1</td>\n      <td>Team 1</td>\n    </tr>\n    <tr>\n      <th>2</th>\n      <td>0</td>\n      <td>2</td>\n      <td>333.0</td>\n      <td>387.0</td>\n      <td>Team 2</td>\n      <td>Team 2</td>\n    </tr>\n    <tr>\n      <th>3</th>\n      <td>1</td>\n      <td>1</td>\n      <td>524.0</td>\n      <td>335.0</td>\n      <td>Team 2</td>\n      <td>Team 1</td>\n    </tr>\n    <tr>\n      <th>4</th>\n      <td>1</td>\n      <td>2</td>\n      <td>546.0</td>\n      <td>195.0</td>\n      <td>Team 2</td>\n      <td>Team 1</td>\n    </tr>\n    <tr>\n      <th>...</th>\n      <td>...</td>\n      <td>...</td>\n      <td>...</td>\n      <td>...</td>\n      <td>...</td>\n      <td>...</td>\n    </tr>\n    <tr>\n      <th>59</th>\n      <td>1</td>\n      <td>2</td>\n      <td>463.0</td>\n      <td>325.0</td>\n      <td>Team 2</td>\n      <td>Team 1</td>\n    </tr>\n    <tr>\n      <th>60</th>\n      <td>3</td>\n      <td>0</td>\n      <td>NaN</td>\n      <td>NaN</td>\n      <td>Team 1</td>\n      <td>Team 2</td>\n    </tr>\n    <tr>\n      <th>61</th>\n      <td>2</td>\n      <td>0</td>\n      <td>NaN</td>\n      <td>NaN</td>\n      <td>Team 1</td>\n      <td>Team 2</td>\n    </tr>\n    <tr>\n      <th>62</th>\n      <td>2</td>\n      <td>1</td>\n      <td>NaN</td>\n      <td>NaN</td>\n      <td>Team 1</td>\n      <td>Team 2</td>\n    </tr>\n    <tr>\n      <th>63</th>\n      <td>3</td>\n      <td>3</td>\n      <td>NaN</td>\n      <td>NaN</td>\n      <td>Team 2</td>\n      <td>Team 2</td>\n    </tr>\n  </tbody>\n</table>\n<p>64 rows × 6 columns</p>\n</div>"
     },
     "execution_count": 57,
     "metadata": {},
     "output_type": "execute_result"
    }
   ],
   "source": [
    "#get team with most passes\n",
    "passes['most_passes'] = ['Team 1' if x > y else ' Team 2' for x, y in zip(passes['team1_completed_passes'], passes['team2_completed_passes'])]\n",
    "passes"
   ],
   "metadata": {
    "collapsed": false,
    "pycharm": {
     "name": "#%%\n"
    }
   }
  },
  {
   "cell_type": "code",
   "execution_count": 58,
   "outputs": [
    {
     "data": {
      "text/plain": "   game_outcome most_passes\n0        Team 2      Team 2\n1        Team 1      Team 1\n2        Team 2      Team 2\n3        Team 2      Team 1\n4        Team 2      Team 1\n..          ...         ...\n59       Team 2      Team 1\n60       Team 1      Team 2\n61       Team 1      Team 2\n62       Team 1      Team 2\n63       Team 2      Team 2\n\n[64 rows x 2 columns]",
      "text/html": "<div>\n<style scoped>\n    .dataframe tbody tr th:only-of-type {\n        vertical-align: middle;\n    }\n\n    .dataframe tbody tr th {\n        vertical-align: top;\n    }\n\n    .dataframe thead th {\n        text-align: right;\n    }\n</style>\n<table border=\"1\" class=\"dataframe\">\n  <thead>\n    <tr style=\"text-align: right;\">\n      <th></th>\n      <th>game_outcome</th>\n      <th>most_passes</th>\n    </tr>\n  </thead>\n  <tbody>\n    <tr>\n      <th>0</th>\n      <td>Team 2</td>\n      <td>Team 2</td>\n    </tr>\n    <tr>\n      <th>1</th>\n      <td>Team 1</td>\n      <td>Team 1</td>\n    </tr>\n    <tr>\n      <th>2</th>\n      <td>Team 2</td>\n      <td>Team 2</td>\n    </tr>\n    <tr>\n      <th>3</th>\n      <td>Team 2</td>\n      <td>Team 1</td>\n    </tr>\n    <tr>\n      <th>4</th>\n      <td>Team 2</td>\n      <td>Team 1</td>\n    </tr>\n    <tr>\n      <th>...</th>\n      <td>...</td>\n      <td>...</td>\n    </tr>\n    <tr>\n      <th>59</th>\n      <td>Team 2</td>\n      <td>Team 1</td>\n    </tr>\n    <tr>\n      <th>60</th>\n      <td>Team 1</td>\n      <td>Team 2</td>\n    </tr>\n    <tr>\n      <th>61</th>\n      <td>Team 1</td>\n      <td>Team 2</td>\n    </tr>\n    <tr>\n      <th>62</th>\n      <td>Team 1</td>\n      <td>Team 2</td>\n    </tr>\n    <tr>\n      <th>63</th>\n      <td>Team 2</td>\n      <td>Team 2</td>\n    </tr>\n  </tbody>\n</table>\n<p>64 rows × 2 columns</p>\n</div>"
     },
     "execution_count": 58,
     "metadata": {},
     "output_type": "execute_result"
    }
   ],
   "source": [
    "##Now select on the two important columns\n",
    "passes_final= passes[[\"game_outcome\",\"most_passes\"]]\n",
    "passes_final"
   ],
   "metadata": {
    "collapsed": false,
    "pycharm": {
     "name": "#%%\n"
    }
   }
  },
  {
   "cell_type": "code",
   "execution_count": 59,
   "outputs": [
    {
     "data": {
      "text/plain": "   game_outcome most_passes  pass_success\n0        Team 2      Team 2             1\n1        Team 1      Team 1             1\n2        Team 2      Team 2             1\n3        Team 2      Team 1             0\n4        Team 2      Team 1             0\n..          ...         ...           ...\n59       Team 2      Team 1             0\n60       Team 1      Team 2             0\n61       Team 1      Team 2             0\n62       Team 1      Team 2             0\n63       Team 2      Team 2             1\n\n[64 rows x 3 columns]",
      "text/html": "<div>\n<style scoped>\n    .dataframe tbody tr th:only-of-type {\n        vertical-align: middle;\n    }\n\n    .dataframe tbody tr th {\n        vertical-align: top;\n    }\n\n    .dataframe thead th {\n        text-align: right;\n    }\n</style>\n<table border=\"1\" class=\"dataframe\">\n  <thead>\n    <tr style=\"text-align: right;\">\n      <th></th>\n      <th>game_outcome</th>\n      <th>most_passes</th>\n      <th>pass_success</th>\n    </tr>\n  </thead>\n  <tbody>\n    <tr>\n      <th>0</th>\n      <td>Team 2</td>\n      <td>Team 2</td>\n      <td>1</td>\n    </tr>\n    <tr>\n      <th>1</th>\n      <td>Team 1</td>\n      <td>Team 1</td>\n      <td>1</td>\n    </tr>\n    <tr>\n      <th>2</th>\n      <td>Team 2</td>\n      <td>Team 2</td>\n      <td>1</td>\n    </tr>\n    <tr>\n      <th>3</th>\n      <td>Team 2</td>\n      <td>Team 1</td>\n      <td>0</td>\n    </tr>\n    <tr>\n      <th>4</th>\n      <td>Team 2</td>\n      <td>Team 1</td>\n      <td>0</td>\n    </tr>\n    <tr>\n      <th>...</th>\n      <td>...</td>\n      <td>...</td>\n      <td>...</td>\n    </tr>\n    <tr>\n      <th>59</th>\n      <td>Team 2</td>\n      <td>Team 1</td>\n      <td>0</td>\n    </tr>\n    <tr>\n      <th>60</th>\n      <td>Team 1</td>\n      <td>Team 2</td>\n      <td>0</td>\n    </tr>\n    <tr>\n      <th>61</th>\n      <td>Team 1</td>\n      <td>Team 2</td>\n      <td>0</td>\n    </tr>\n    <tr>\n      <th>62</th>\n      <td>Team 1</td>\n      <td>Team 2</td>\n      <td>0</td>\n    </tr>\n    <tr>\n      <th>63</th>\n      <td>Team 2</td>\n      <td>Team 2</td>\n      <td>1</td>\n    </tr>\n  </tbody>\n</table>\n<p>64 rows × 3 columns</p>\n</div>"
     },
     "execution_count": 59,
     "metadata": {},
     "output_type": "execute_result"
    }
   ],
   "source": [
    "#create new column based whether the team with more passes won or lost\n",
    "passes_final['pass_success'] = [1 if x == y else 0 for x, y in zip(passes_final['game_outcome'], passes_final['most_passes'])]\n",
    "passes_final"
   ],
   "metadata": {
    "collapsed": false,
    "pycharm": {
     "name": "#%%\n"
    }
   }
  },
  {
   "cell_type": "code",
   "execution_count": 60,
   "outputs": [
    {
     "data": {
      "text/plain": "0    34\n1    30\nName: pass_success, dtype: int64"
     },
     "execution_count": 60,
     "metadata": {},
     "output_type": "execute_result"
    }
   ],
   "source": [
    "#count the occurance of each\n",
    "passes_final['pass_success'].value_counts()"
   ],
   "metadata": {
    "collapsed": false,
    "pycharm": {
     "name": "#%%\n"
    }
   }
  },
  {
   "cell_type": "code",
   "execution_count": 52,
   "outputs": [
    {
     "data": {
      "text/plain": "<Figure size 432x288 with 1 Axes>",
      "image/png": "[encoded data removed]"
     },
     "metadata": {
      "needs_background": "light"
     },
     "output_type": "display_data"
    }
   ],
   "source": [
    "passes.value_counts().plot(kind=\"bar\");"
   ],
   "metadata": {
    "collapsed": false,
    "pycharm": {
     "name": "#%%\n"
    }
   }
  },
  {
   "cell_type": "markdown",
   "source": [
    "**Observations**\n",
    "From the above we see that teams with the highest number of passes didnt always win, infact there are more teams which had fewer passes but still won the game"
   ],
   "metadata": {
    "collapsed": false,
    "pycharm": {
     "name": "#%% md\n"
    }
   }
  },
  {
   "cell_type": "markdown",
   "source": [
    "### Which games were the most attended in the World Cup"
   ],
   "metadata": {
    "collapsed": false,
    "pycharm": {
     "name": "#%% md\n"
    }
   }
  },
  {
   "cell_type": "code",
   "execution_count": 67,
   "outputs": [
    {
     "data": {
      "text/plain": "    match day_of_week       date   hour                          venue  \\\n0       1         Sun  20-Nov-22  17:00                Al Bayt Stadium   \n1       2         Mon  21-Nov-22  14:00  Khalifa International Stadium   \n2       3         Mon  21-Nov-22  17:00             Al Thumama Stadium   \n3       4         Mon  21-Nov-22  20:00          Ahmed bin Ali Stadium   \n4       5         Tue  22-Nov-22  11:00          Lusail Iconic Stadium   \n..    ...         ...        ...    ...                            ...   \n59     60         Sat  10-Dec-22  20:00                Al Bayt Stadium   \n60     61         Tue  13-Dec-22  20:00          Lusail Iconic Stadium   \n61     62         Wed  14-Dec-22  20:00                Al Bayt Stadium   \n62     63         Sat  17-Dec-22  16:00  Khalifa International Stadium   \n63     64         Sun  18-Dec-22  16:00          Lusail Iconic Stadium   \n\n                          referee                     group              1  \\\n0                  Daniele Orsato                   Group A          QATAR   \n1                   Raphael Claus                   Group B        ENGLAND   \n2                  Wilton Sampaio                   Group A        SENEGAL   \n3   Abdulrahman Ibrahim Al Jassim                   Group B  UNITED STATES   \n4                   Slavko Vincic                   Group C      ARGENTINA   \n..                            ...                       ...            ...   \n59                 Wilton Sampaio             Quarter-final        ENGLAND   \n60                 Daniele Orsato                Semi-Final      ARGENTINA   \n61                    Cesar Ramos                Semi-Final         FRANCE   \n62  Abdulrahman Ibrahim Al Jassim  Play-off for third place        CROATIA   \n63               Szymon Marciniak                     Final      ARGENTINA   \n\n               2  attendance  ...  team2_offsides  penalties scored team1  \\\n0        ECUADOR       67372  ...             4.0                     0.0   \n1           IRAN       45334  ...             2.0                     0.0   \n2    NETHERLANDS       41721  ...             1.0                     0.0   \n3          WALES       43418  ...             1.0                     0.0   \n4   SAUDI ARABIA       88012  ...             1.0                     1.0   \n..           ...         ...  ...             ...                     ...   \n59        FRANCE       68895  ...             2.0                     1.0   \n60       CROATIA       88966  ...             NaN                     NaN   \n61       MOROCCO       68294  ...             NaN                     NaN   \n62       MOROCCO       44137  ...             NaN                     NaN   \n63        FRANCE       88966  ...             NaN                     NaN   \n\n    penalties scored team2  free kicks team1  free kicks team2  \\\n0                      1.0              19.0              17.0   \n1                      1.0              16.0              10.0   \n2                      0.0              14.0              14.0   \n3                      1.0              11.0              15.0   \n4                      0.0              22.0              16.0   \n..                     ...               ...               ...   \n59                     0.0              10.0              14.0   \n60                     NaN               NaN               NaN   \n61                     NaN               NaN               NaN   \n62                     NaN               NaN               NaN   \n63                     NaN               NaN               NaN   \n\n    yellow cards team1  yellow cards team2  red cards team1  red cards team2  \\\n0                  4.0                 2.0              0.0              0.0   \n1                  0.0                 2.0              0.0              0.0   \n2                  2.0                 1.0              0.0              0.0   \n3                  4.0                 2.0              0.0              0.0   \n4                  0.0                 6.0              0.0              0.0   \n..                 ...                 ...              ...              ...   \n59                 1.0                 3.0              0.0              0.0   \n60                 NaN                 NaN              NaN              NaN   \n61                 NaN                 NaN              NaN              NaN   \n62                 NaN                 NaN              NaN              NaN   \n63                 NaN                 NaN              NaN              NaN   \n\n                        teams  \n0            QATAR vs ECUADOR  \n1             ENGLAND vs IRAN  \n2      SENEGAL vs NETHERLANDS  \n3      UNITED STATES vs WALES  \n4   ARGENTINA vs SAUDI ARABIA  \n..                        ...  \n59          ENGLAND vs FRANCE  \n60       ARGENTINA vs CROATIA  \n61          FRANCE vs MOROCCO  \n62         CROATIA vs MOROCCO  \n63        ARGENTINA vs FRANCE  \n\n[64 rows x 75 columns]",
      "text/html": "<div>\n<style scoped>\n    .dataframe tbody tr th:only-of-type {\n        vertical-align: middle;\n    }\n\n    .dataframe tbody tr th {\n        vertical-align: top;\n    }\n\n    .dataframe thead th {\n        text-align: right;\n    }\n</style>\n<table border=\"1\" class=\"dataframe\">\n  <thead>\n    <tr style=\"text-align: right;\">\n      <th></th>\n      <th>match</th>\n      <th>day_of_week</th>\n      <th>date</th>\n      <th>hour</th>\n      <th>venue</th>\n      <th>referee</th>\n      <th>group</th>\n      <th>1</th>\n      <th>2</th>\n      <th>attendance</th>\n      <th>...</th>\n      <th>team2_offsides</th>\n      <th>penalties scored team1</th>\n      <th>penalties scored team2</th>\n      <th>free kicks team1</th>\n      <th>free kicks team2</th>\n      <th>yellow cards team1</th>\n      <th>yellow cards team2</th>\n      <th>red cards team1</th>\n      <th>red cards team2</th>\n      <th>teams</th>\n    </tr>\n  </thead>\n  <tbody>\n    <tr>\n      <th>0</th>\n      <td>1</td>\n      <td>Sun</td>\n      <td>20-Nov-22</td>\n      <td>17:00</td>\n      <td>Al Bayt Stadium</td>\n      <td>Daniele Orsato</td>\n      <td>Group A</td>\n      <td>QATAR</td>\n      <td>ECUADOR</td>\n      <td>67372</td>\n      <td>...</td>\n      <td>4.0</td>\n      <td>0.0</td>\n      <td>1.0</td>\n      <td>19.0</td>\n      <td>17.0</td>\n      <td>4.0</td>\n      <td>2.0</td>\n      <td>0.0</td>\n      <td>0.0</td>\n      <td>QATAR vs ECUADOR</td>\n    </tr>\n    <tr>\n      <th>1</th>\n      <td>2</td>\n      <td>Mon</td>\n      <td>21-Nov-22</td>\n      <td>14:00</td>\n      <td>Khalifa International Stadium</td>\n      <td>Raphael Claus</td>\n      <td>Group B</td>\n      <td>ENGLAND</td>\n      <td>IRAN</td>\n      <td>45334</td>\n      <td>...</td>\n      <td>2.0</td>\n      <td>0.0</td>\n      <td>1.0</td>\n      <td>16.0</td>\n      <td>10.0</td>\n      <td>0.0</td>\n      <td>2.0</td>\n      <td>0.0</td>\n      <td>0.0</td>\n      <td>ENGLAND vs IRAN</td>\n    </tr>\n    <tr>\n      <th>2</th>\n      <td>3</td>\n      <td>Mon</td>\n      <td>21-Nov-22</td>\n      <td>17:00</td>\n      <td>Al Thumama Stadium</td>\n      <td>Wilton Sampaio</td>\n      <td>Group A</td>\n      <td>SENEGAL</td>\n      <td>NETHERLANDS</td>\n      <td>41721</td>\n      <td>...</td>\n      <td>1.0</td>\n      <td>0.0</td>\n      <td>0.0</td>\n      <td>14.0</td>\n      <td>14.0</td>\n      <td>2.0</td>\n      <td>1.0</td>\n      <td>0.0</td>\n      <td>0.0</td>\n      <td>SENEGAL vs NETHERLANDS</td>\n    </tr>\n    <tr>\n      <th>3</th>\n      <td>4</td>\n      <td>Mon</td>\n      <td>21-Nov-22</td>\n      <td>20:00</td>\n      <td>Ahmed bin Ali Stadium</td>\n      <td>Abdulrahman Ibrahim Al Jassim</td>\n      <td>Group B</td>\n      <td>UNITED STATES</td>\n      <td>WALES</td>\n      <td>43418</td>\n      <td>...</td>\n      <td>1.0</td>\n      <td>0.0</td>\n      <td>1.0</td>\n      <td>11.0</td>\n      <td>15.0</td>\n      <td>4.0</td>\n      <td>2.0</td>\n      <td>0.0</td>\n      <td>0.0</td>\n      <td>UNITED STATES vs WALES</td>\n    </tr>\n    <tr>\n      <th>4</th>\n      <td>5</td>\n      <td>Tue</td>\n      <td>22-Nov-22</td>\n      <td>11:00</td>\n      <td>Lusail Iconic Stadium</td>\n      <td>Slavko Vincic</td>\n      <td>Group C</td>\n      <td>ARGENTINA</td>\n      <td>SAUDI ARABIA</td>\n      <td>88012</td>\n      <td>...</td>\n      <td>1.0</td>\n      <td>1.0</td>\n      <td>0.0</td>\n      <td>22.0</td>\n      <td>16.0</td>\n      <td>0.0</td>\n      <td>6.0</td>\n      <td>0.0</td>\n      <td>0.0</td>\n      <td>ARGENTINA vs SAUDI ARABIA</td>\n    </tr>\n    <tr>\n      <th>...</th>\n      <td>...</td>\n      <td>...</td>\n      <td>...</td>\n      <td>...</td>\n      <td>...</td>\n      <td>...</td>\n      <td>...</td>\n      <td>...</td>\n      <td>...</td>\n      <td>...</td>\n      <td>...</td>\n      <td>...</td>\n      <td>...</td>\n      <td>...</td>\n      <td>...</td>\n      <td>...</td>\n      <td>...</td>\n      <td>...</td>\n      <td>...</td>\n      <td>...</td>\n      <td>...</td>\n    </tr>\n    <tr>\n      <th>59</th>\n      <td>60</td>\n      <td>Sat</td>\n      <td>10-Dec-22</td>\n      <td>20:00</td>\n      <td>Al Bayt Stadium</td>\n      <td>Wilton Sampaio</td>\n      <td>Quarter-final</td>\n      <td>ENGLAND</td>\n      <td>FRANCE</td>\n      <td>68895</td>\n      <td>...</td>\n      <td>2.0</td>\n      <td>1.0</td>\n      <td>0.0</td>\n      <td>10.0</td>\n      <td>14.0</td>\n      <td>1.0</td>\n      <td>3.0</td>\n      <td>0.0</td>\n      <td>0.0</td>\n      <td>ENGLAND vs FRANCE</td>\n    </tr>\n    <tr>\n      <th>60</th>\n      <td>61</td>\n      <td>Tue</td>\n      <td>13-Dec-22</td>\n      <td>20:00</td>\n      <td>Lusail Iconic Stadium</td>\n      <td>Daniele Orsato</td>\n      <td>Semi-Final</td>\n      <td>ARGENTINA</td>\n      <td>CROATIA</td>\n      <td>88966</td>\n      <td>...</td>\n      <td>NaN</td>\n      <td>NaN</td>\n      <td>NaN</td>\n      <td>NaN</td>\n      <td>NaN</td>\n      <td>NaN</td>\n      <td>NaN</td>\n      <td>NaN</td>\n      <td>NaN</td>\n      <td>ARGENTINA vs CROATIA</td>\n    </tr>\n    <tr>\n      <th>61</th>\n      <td>62</td>\n      <td>Wed</td>\n      <td>14-Dec-22</td>\n      <td>20:00</td>\n      <td>Al Bayt Stadium</td>\n      <td>Cesar Ramos</td>\n      <td>Semi-Final</td>\n      <td>FRANCE</td>\n      <td>MOROCCO</td>\n      <td>68294</td>\n      <td>...</td>\n      <td>NaN</td>\n      <td>NaN</td>\n      <td>NaN</td>\n      <td>NaN</td>\n      <td>NaN</td>\n      <td>NaN</td>\n      <td>NaN</td>\n      <td>NaN</td>\n      <td>NaN</td>\n      <td>FRANCE vs MOROCCO</td>\n    </tr>\n    <tr>\n      <th>62</th>\n      <td>63</td>\n      <td>Sat</td>\n      <td>17-Dec-22</td>\n      <td>16:00</td>\n      <td>Khalifa International Stadium</td>\n      <td>Abdulrahman Ibrahim Al Jassim</td>\n      <td>Play-off for third place</td>\n      <td>CROATIA</td>\n      <td>MOROCCO</td>\n      <td>44137</td>\n      <td>...</td>\n      <td>NaN</td>\n      <td>NaN</td>\n      <td>NaN</td>\n      <td>NaN</td>\n      <td>NaN</td>\n      <td>NaN</td>\n      <td>NaN</td>\n      <td>NaN</td>\n      <td>NaN</td>\n      <td>CROATIA vs MOROCCO</td>\n    </tr>\n    <tr>\n      <th>63</th>\n      <td>64</td>\n      <td>Sun</td>\n      <td>18-Dec-22</td>\n      <td>16:00</td>\n      <td>Lusail Iconic Stadium</td>\n      <td>Szymon Marciniak</td>\n      <td>Final</td>\n      <td>ARGENTINA</td>\n      <td>FRANCE</td>\n      <td>88966</td>\n      <td>...</td>\n      <td>NaN</td>\n      <td>NaN</td>\n      <td>NaN</td>\n      <td>NaN</td>\n      <td>NaN</td>\n      <td>NaN</td>\n      <td>NaN</td>\n      <td>NaN</td>\n      <td>NaN</td>\n      <td>ARGENTINA vs FRANCE</td>\n    </tr>\n  </tbody>\n</table>\n<p>64 rows × 75 columns</p>\n</div>"
     },
     "execution_count": 67,
     "metadata": {},
     "output_type": "execute_result"
    }
   ],
   "source": [
    "#form new column which has the two teams playing against each other\n",
    "master_df[\"teams\"]=  master_df.apply( lambda x : x['1'] + \" \" + \"vs\" + \" \" + x['2'],axis=1)\n",
    "master_df"
   ],
   "metadata": {
    "collapsed": false,
    "pycharm": {
     "name": "#%%\n"
    }
   }
  },
  {
   "cell_type": "code",
   "execution_count": 69,
   "outputs": [
    {
     "data": {
      "text/plain": "                        teams                          venue  attendance\n0            QATAR vs ECUADOR                Al Bayt Stadium       67372\n1             ENGLAND vs IRAN  Khalifa International Stadium       45334\n2      SENEGAL vs NETHERLANDS             Al Thumama Stadium       41721\n3      UNITED STATES vs WALES          Ahmed bin Ali Stadium       43418\n4   ARGENTINA vs SAUDI ARABIA          Lusail Iconic Stadium       88012\n..                        ...                            ...         ...\n59          ENGLAND vs FRANCE                Al Bayt Stadium       68895\n60       ARGENTINA vs CROATIA          Lusail Iconic Stadium       88966\n61          FRANCE vs MOROCCO                Al Bayt Stadium       68294\n62         CROATIA vs MOROCCO  Khalifa International Stadium       44137\n63        ARGENTINA vs FRANCE          Lusail Iconic Stadium       88966\n\n[64 rows x 3 columns]",
      "text/html": "<div>\n<style scoped>\n    .dataframe tbody tr th:only-of-type {\n        vertical-align: middle;\n    }\n\n    .dataframe tbody tr th {\n        vertical-align: top;\n    }\n\n    .dataframe thead th {\n        text-align: right;\n    }\n</style>\n<table border=\"1\" class=\"dataframe\">\n  <thead>\n    <tr style=\"text-align: right;\">\n      <th></th>\n      <th>teams</th>\n      <th>venue</th>\n      <th>attendance</th>\n    </tr>\n  </thead>\n  <tbody>\n    <tr>\n      <th>0</th>\n      <td>QATAR vs ECUADOR</td>\n      <td>Al Bayt Stadium</td>\n      <td>67372</td>\n    </tr>\n    <tr>\n      <th>1</th>\n      <td>ENGLAND vs IRAN</td>\n      <td>Khalifa International Stadium</td>\n      <td>45334</td>\n    </tr>\n    <tr>\n      <th>2</th>\n      <td>SENEGAL vs NETHERLANDS</td>\n      <td>Al Thumama Stadium</td>\n      <td>41721</td>\n    </tr>\n    <tr>\n      <th>3</th>\n      <td>UNITED STATES vs WALES</td>\n      <td>Ahmed bin Ali Stadium</td>\n      <td>43418</td>\n    </tr>\n    <tr>\n      <th>4</th>\n      <td>ARGENTINA vs SAUDI ARABIA</td>\n      <td>Lusail Iconic Stadium</td>\n      <td>88012</td>\n    </tr>\n    <tr>\n      <th>...</th>\n      <td>...</td>\n      <td>...</td>\n      <td>...</td>\n    </tr>\n    <tr>\n      <th>59</th>\n      <td>ENGLAND vs FRANCE</td>\n      <td>Al Bayt Stadium</td>\n      <td>68895</td>\n    </tr>\n    <tr>\n      <th>60</th>\n      <td>ARGENTINA vs CROATIA</td>\n      <td>Lusail Iconic Stadium</td>\n      <td>88966</td>\n    </tr>\n    <tr>\n      <th>61</th>\n      <td>FRANCE vs MOROCCO</td>\n      <td>Al Bayt Stadium</td>\n      <td>68294</td>\n    </tr>\n    <tr>\n      <th>62</th>\n      <td>CROATIA vs MOROCCO</td>\n      <td>Khalifa International Stadium</td>\n      <td>44137</td>\n    </tr>\n    <tr>\n      <th>63</th>\n      <td>ARGENTINA vs FRANCE</td>\n      <td>Lusail Iconic Stadium</td>\n      <td>88966</td>\n    </tr>\n  </tbody>\n</table>\n<p>64 rows × 3 columns</p>\n</div>"
     },
     "execution_count": 69,
     "metadata": {},
     "output_type": "execute_result"
    }
   ],
   "source": [
    "#create a new dataframe with only relevant columns\n",
    "most_attended = master_df[[\"teams\",\"venue\",\"attendance\"]]\n",
    "most_attended"
   ],
   "metadata": {
    "collapsed": false,
    "pycharm": {
     "name": "#%%\n"
    }
   }
  },
  {
   "cell_type": "code",
   "execution_count": 71,
   "outputs": [
    {
     "data": {
      "text/plain": "                       teams                  venue  attendance\n63       ARGENTINA vs FRANCE  Lusail Iconic Stadium       88966\n60      ARGENTINA vs CROATIA  Lusail Iconic Stadium       88966\n23       ARGENTINA vs MEXICO  Lusail Iconic Stadium       88966\n31       PORTUGAL vs URUGUAY  Lusail Iconic Stadium       88668\n57  NETHERLANDS vs ARGENTINA  Lusail Iconic Stadium       88235\n..                       ...                    ...         ...\n11         BELGIUM vs CANADA  Ahmed bin Ali Stadium       40432\n10       SPAIN vs COSTA RICA     Al Thumama Stadium       40013\n28        CAMEROON vs SERBIA      Al Janoub Stadium       39789\n6           MEXICO vs POLAND            Stadium 974       39369\n12   SWITZERLAND vs CAMEROON      Al Janoub Stadium       39089\n\n[64 rows x 3 columns]",
      "text/html": "<div>\n<style scoped>\n    .dataframe tbody tr th:only-of-type {\n        vertical-align: middle;\n    }\n\n    .dataframe tbody tr th {\n        vertical-align: top;\n    }\n\n    .dataframe thead th {\n        text-align: right;\n    }\n</style>\n<table border=\"1\" class=\"dataframe\">\n  <thead>\n    <tr style=\"text-align: right;\">\n      <th></th>\n      <th>teams</th>\n      <th>venue</th>\n      <th>attendance</th>\n    </tr>\n  </thead>\n  <tbody>\n    <tr>\n      <th>63</th>\n      <td>ARGENTINA vs FRANCE</td>\n      <td>Lusail Iconic Stadium</td>\n      <td>88966</td>\n    </tr>\n    <tr>\n      <th>60</th>\n      <td>ARGENTINA vs CROATIA</td>\n      <td>Lusail Iconic Stadium</td>\n      <td>88966</td>\n    </tr>\n    <tr>\n      <th>23</th>\n      <td>ARGENTINA vs MEXICO</td>\n      <td>Lusail Iconic Stadium</td>\n      <td>88966</td>\n    </tr>\n    <tr>\n      <th>31</th>\n      <td>PORTUGAL vs URUGUAY</td>\n      <td>Lusail Iconic Stadium</td>\n      <td>88668</td>\n    </tr>\n    <tr>\n      <th>57</th>\n      <td>NETHERLANDS vs ARGENTINA</td>\n      <td>Lusail Iconic Stadium</td>\n      <td>88235</td>\n    </tr>\n    <tr>\n      <th>...</th>\n      <td>...</td>\n      <td>...</td>\n      <td>...</td>\n    </tr>\n    <tr>\n      <th>11</th>\n      <td>BELGIUM vs CANADA</td>\n      <td>Ahmed bin Ali Stadium</td>\n      <td>40432</td>\n    </tr>\n    <tr>\n      <th>10</th>\n      <td>SPAIN vs COSTA RICA</td>\n      <td>Al Thumama Stadium</td>\n      <td>40013</td>\n    </tr>\n    <tr>\n      <th>28</th>\n      <td>CAMEROON vs SERBIA</td>\n      <td>Al Janoub Stadium</td>\n      <td>39789</td>\n    </tr>\n    <tr>\n      <th>6</th>\n      <td>MEXICO vs POLAND</td>\n      <td>Stadium 974</td>\n      <td>39369</td>\n    </tr>\n    <tr>\n      <th>12</th>\n      <td>SWITZERLAND vs CAMEROON</td>\n      <td>Al Janoub Stadium</td>\n      <td>39089</td>\n    </tr>\n  </tbody>\n</table>\n<p>64 rows × 3 columns</p>\n</div>"
     },
     "execution_count": 71,
     "metadata": {},
     "output_type": "execute_result"
    }
   ],
   "source": [
    "#sort the values in ascending order\n",
    "most_attended = most_attended.sort_values('attendance',ascending=False)\n",
    "most_attended"
   ],
   "metadata": {
    "collapsed": false,
    "pycharm": {
     "name": "#%%\n"
    }
   }
  },
  {
   "cell_type": "code",
   "execution_count": 75,
   "outputs": [
    {
     "data": {
      "text/plain": "                  Stadium  Capacity\n0          Lusail Stadium     80000\n1         Al Bayt Stadium     60000\n2  Education City Stadium     40000\n3     Khalifa Int Stadium     40000\n4             Stadium 974     40000\n5      Al Janoub  Stadium     40000\n6   Ahmad Bin Ali Stadium     40000\n7      Al Thumama Stadium     40000",
      "text/html": "<div>\n<style scoped>\n    .dataframe tbody tr th:only-of-type {\n        vertical-align: middle;\n    }\n\n    .dataframe tbody tr th {\n        vertical-align: top;\n    }\n\n    .dataframe thead th {\n        text-align: right;\n    }\n</style>\n<table border=\"1\" class=\"dataframe\">\n  <thead>\n    <tr style=\"text-align: right;\">\n      <th></th>\n      <th>Stadium</th>\n      <th>Capacity</th>\n    </tr>\n  </thead>\n  <tbody>\n    <tr>\n      <th>0</th>\n      <td>Lusail Stadium</td>\n      <td>80000</td>\n    </tr>\n    <tr>\n      <th>1</th>\n      <td>Al Bayt Stadium</td>\n      <td>60000</td>\n    </tr>\n    <tr>\n      <th>2</th>\n      <td>Education City Stadium</td>\n      <td>40000</td>\n    </tr>\n    <tr>\n      <th>3</th>\n      <td>Khalifa Int Stadium</td>\n      <td>40000</td>\n    </tr>\n    <tr>\n      <th>4</th>\n      <td>Stadium 974</td>\n      <td>40000</td>\n    </tr>\n    <tr>\n      <th>5</th>\n      <td>Al Janoub  Stadium</td>\n      <td>40000</td>\n    </tr>\n    <tr>\n      <th>6</th>\n      <td>Ahmad Bin Ali Stadium</td>\n      <td>40000</td>\n    </tr>\n    <tr>\n      <th>7</th>\n      <td>Al Thumama Stadium</td>\n      <td>40000</td>\n    </tr>\n  </tbody>\n</table>\n</div>"
     },
     "execution_count": 75,
     "metadata": {},
     "output_type": "execute_result"
    }
   ],
   "source": [
    "#DATA obtained from statista : https://www.statista.com/statistics/1298103/fifa-world-cup-qatar-stadium-capacities/\n",
    "\n",
    "#create new dataframe from stadium maximum capacities\n",
    "stadium_capacities = pd.DataFrame(\n",
    "    {\n",
    "        \"Stadium\" : [\"Lusail Stadium\", \"Al Bayt Stadium\",\"Education City Stadium\",\"Khalifa Int Stadium\",\"Stadium 974\",\"Al Janoub  Stadium\",\"Ahmad Bin Ali Stadium\",\"Al Thumama Stadium\"],\n",
    "        \"Capacity\" : [80000,60000,40000,40000,40000,40000,40000,40000,]\n",
    "    }\n",
    ")\n",
    "stadium_capacities"
   ],
   "metadata": {
    "collapsed": false,
    "pycharm": {
     "name": "#%%\n"
    }
   }
  },
  {
   "cell_type": "code",
   "execution_count": 79,
   "outputs": [],
   "source": [
    "#create function to calculate percentage capacity\n",
    "def percentages(stadium,attendance) :\n",
    "    if(stadium ==\"Lusail Iconic Stadium\"):\n",
    "        return round(attendance/80000 * 100,2)\n",
    "    elif ( stadium==\"Al Bayt Stadium\"):\n",
    "        return  round(attendance/60000 *100,2)\n",
    "    else :\n",
    "        return round(attendance/40000 * 100,2)"
   ],
   "metadata": {
    "collapsed": false,
    "pycharm": {
     "name": "#%%\n"
    }
   }
  },
  {
   "cell_type": "code",
   "execution_count": 80,
   "outputs": [
    {
     "data": {
      "text/plain": "                       teams                  venue  attendance  \\\n63       ARGENTINA vs FRANCE  Lusail Iconic Stadium       88966   \n60      ARGENTINA vs CROATIA  Lusail Iconic Stadium       88966   \n23       ARGENTINA vs MEXICO  Lusail Iconic Stadium       88966   \n31       PORTUGAL vs URUGUAY  Lusail Iconic Stadium       88668   \n57  NETHERLANDS vs ARGENTINA  Lusail Iconic Stadium       88235   \n..                       ...                    ...         ...   \n11         BELGIUM vs CANADA  Ahmed bin Ali Stadium       40432   \n10       SPAIN vs COSTA RICA     Al Thumama Stadium       40013   \n28        CAMEROON vs SERBIA      Al Janoub Stadium       39789   \n6           MEXICO vs POLAND            Stadium 974       39369   \n12   SWITZERLAND vs CAMEROON      Al Janoub Stadium       39089   \n\n    percentage_capacity  \n63               111.21  \n60               111.21  \n23               111.21  \n31               110.83  \n57               110.29  \n..                  ...  \n11               101.08  \n10               100.03  \n28                99.47  \n6                 98.42  \n12                97.72  \n\n[64 rows x 4 columns]",
      "text/html": "<div>\n<style scoped>\n    .dataframe tbody tr th:only-of-type {\n        vertical-align: middle;\n    }\n\n    .dataframe tbody tr th {\n        vertical-align: top;\n    }\n\n    .dataframe thead th {\n        text-align: right;\n    }\n</style>\n<table border=\"1\" class=\"dataframe\">\n  <thead>\n    <tr style=\"text-align: right;\">\n      <th></th>\n      <th>teams</th>\n      <th>venue</th>\n      <th>attendance</th>\n      <th>percentage_capacity</th>\n    </tr>\n  </thead>\n  <tbody>\n    <tr>\n      <th>63</th>\n      <td>ARGENTINA vs FRANCE</td>\n      <td>Lusail Iconic Stadium</td>\n      <td>88966</td>\n      <td>111.21</td>\n    </tr>\n    <tr>\n      <th>60</th>\n      <td>ARGENTINA vs CROATIA</td>\n      <td>Lusail Iconic Stadium</td>\n      <td>88966</td>\n      <td>111.21</td>\n    </tr>\n    <tr>\n      <th>23</th>\n      <td>ARGENTINA vs MEXICO</td>\n      <td>Lusail Iconic Stadium</td>\n      <td>88966</td>\n      <td>111.21</td>\n    </tr>\n    <tr>\n      <th>31</th>\n      <td>PORTUGAL vs URUGUAY</td>\n      <td>Lusail Iconic Stadium</td>\n      <td>88668</td>\n      <td>110.83</td>\n    </tr>\n    <tr>\n      <th>57</th>\n      <td>NETHERLANDS vs ARGENTINA</td>\n      <td>Lusail Iconic Stadium</td>\n      <td>88235</td>\n      <td>110.29</td>\n    </tr>\n    <tr>\n      <th>...</th>\n      <td>...</td>\n      <td>...</td>\n      <td>...</td>\n      <td>...</td>\n    </tr>\n    <tr>\n      <th>11</th>\n      <td>BELGIUM vs CANADA</td>\n      <td>Ahmed bin Ali Stadium</td>\n      <td>40432</td>\n      <td>101.08</td>\n    </tr>\n    <tr>\n      <th>10</th>\n      <td>SPAIN vs COSTA RICA</td>\n      <td>Al Thumama Stadium</td>\n      <td>40013</td>\n      <td>100.03</td>\n    </tr>\n    <tr>\n      <th>28</th>\n      <td>CAMEROON vs SERBIA</td>\n      <td>Al Janoub Stadium</td>\n      <td>39789</td>\n      <td>99.47</td>\n    </tr>\n    <tr>\n      <th>6</th>\n      <td>MEXICO vs POLAND</td>\n      <td>Stadium 974</td>\n      <td>39369</td>\n      <td>98.42</td>\n    </tr>\n    <tr>\n      <th>12</th>\n      <td>SWITZERLAND vs CAMEROON</td>\n      <td>Al Janoub Stadium</td>\n      <td>39089</td>\n      <td>97.72</td>\n    </tr>\n  </tbody>\n</table>\n<p>64 rows × 4 columns</p>\n</div>"
     },
     "execution_count": 80,
     "metadata": {},
     "output_type": "execute_result"
    }
   ],
   "source": [
    "#apply the function to new column\n",
    "most_attended[\"percentage_capacity\"] = most_attended.apply( lambda x : percentages(x[\"venue\"],x[\"attendance\"]), axis =1)\n",
    "most_attended"
   ],
   "metadata": {
    "collapsed": false,
    "pycharm": {
     "name": "#%%\n"
    }
   }
  },
  {
   "cell_type": "code",
   "execution_count": 82,
   "outputs": [
    {
     "data": {
      "text/plain": "                           teams                          venue  attendance  \\\n63           ARGENTINA vs FRANCE          Lusail Iconic Stadium       88966   \n60          ARGENTINA vs CROATIA          Lusail Iconic Stadium       88966   \n23           ARGENTINA vs MEXICO          Lusail Iconic Stadium       88966   \n31           PORTUGAL vs URUGUAY          Lusail Iconic Stadium       88668   \n57      NETHERLANDS vs ARGENTINA          Lusail Iconic Stadium       88235   \n15              BRAZIL vs SERBIA          Lusail Iconic Stadium       88103   \n4      ARGENTINA vs SAUDI ARABIA          Lusail Iconic Stadium       88012   \n47            CAMEROON vs BRAZIL          Lusail Iconic Stadium       85986   \n38           POLAND vs ARGENTINA          Lusail Iconic Stadium       84985   \n55       PORTUGAL vs SWITZERLAND          Lusail Iconic Stadium       83720   \n59             ENGLAND vs FRANCE                Al Bayt Stadium       68895   \n27              SPAIN vs GERMANY                Al Bayt Stadium       68895   \n19      ENGLAND vs UNITED STATES                Al Bayt Stadium       68463   \n61             FRANCE vs MOROCCO                Al Bayt Stadium       68294   \n0               QATAR vs ECUADOR                Al Bayt Stadium       67372   \n43         COSTA RICA vs GERMANY                Al Bayt Stadium       67054   \n33            ECUADOR vs SENEGAL                Al Bayt Stadium       66784   \n51            ENGLAND vs SENEGAL                Al Bayt Stadium       65985   \n1                ENGLAND vs IRAN  Khalifa International Stadium       45334   \n49        ARGENTINA vs AUSTRALIA          Ahmed bin Ali Stadium       45032   \n42                JAPAN vs SPAIN  Khalifa International Stadium       44851   \n48  NETHERLANDS vs UNITED STATES  Khalifa International Stadium       44846   \n18        NETHERLANDS vs ECUADOR  Khalifa International Stadium       44833   \n54              MOROCCO vs SPAIN         Education City Stadium       44667   \n32          NETHERLANDS vs QATAR  Khalifa International Stadium       44569   \n26             CROATIA vs CANADA  Khalifa International Stadium       44374   \n34              WALES vs ENGLAND          Ahmed bin Ali Stadium       44297   \n21        POLAND vs SAUDI ARABIA         Education City Stadium       44259   \n58           MOROCCO vs PORTUGAL             Al Thumama Stadium       44198   \n62            CROATIA vs MOROCCO  Khalifa International Stadium       44137   \n45    KOREA REPUBLIC vs PORTUGAL         Education City Stadium       44097   \n39        SAUDI ARABIA vs MEXICO                    Stadium 974       44089   \n41             CANADA vs MOROCCO          Ahmed bin Ali Stadium       43984   \n29       KOREA REPUBLIC vs GHANA         Education City Stadium       43983   \n56             CROATIA vs BRAZIL         Education City Stadium       43893   \n53      BRAZIL vs KOREA REPUBLIC                    Stadium 974       43847   \n25            BELGIUM vs MOROCCO             Al Thumama Stadium       43738   \n30         BRAZIL vs SWITZERLAND                    Stadium 974       43649   \n37             TUNISIA vs FRANCE         Education City Stadium       43627   \n44              GHANA vs URUGUAY              Al Janoub Stadium       43443   \n3         UNITED STATES vs WALES          Ahmed bin Ali Stadium       43418   \n40            CROATIA vs BELGIUM             Al Thumama Stadium       43102   \n5             DENMARK vs TUNISIA         Education City Stadium       42925   \n22             FRANCE vs DENMARK                    Stadium 974       42860   \n14             PORTUGAL vs GHANA                    Stadium 974       42662   \n9               GERMANY vs JAPAN  Khalifa International Stadium       42608   \n52              JAPAN vs CROATIA              Al Janoub Stadium       42523   \n35         IRAN vs UNITED STATES             Al Thumama Stadium       42127   \n20          TUNISIA vs AUSTRALIA              Al Janoub Stadium       41823   \n17              QATAR vs SENEGAL             Al Thumama Stadium       41797   \n2         SENEGAL vs NETHERLANDS             Al Thumama Stadium       41721   \n13     URUGUAY vs KOREA REPUBLIC         Education City Stadium       41663   \n24           JAPAN vs COSTA RICA          Ahmed bin Ali Stadium       41479   \n46         SERBIA vs SWITZERLAND                    Stadium 974       41378   \n36          AUSTRALIA vs DENMARK              Al Janoub Stadium       41232   \n50              FRANCE vs POLAND             Al Thumama Stadium       40989   \n7            FRANCE vs AUSTRALIA              Al Janoub Stadium       40875   \n16                 WALES vs IRAN          Ahmed bin Ali Stadium       40875   \n11             BELGIUM vs CANADA          Ahmed bin Ali Stadium       40432   \n10           SPAIN vs COSTA RICA             Al Thumama Stadium       40013   \n\n    percentage_capacity  \n63               111.21  \n60               111.21  \n23               111.21  \n31               110.83  \n57               110.29  \n15               110.13  \n4                110.02  \n47               107.48  \n38               106.23  \n55               104.65  \n59               114.83  \n27               114.83  \n19               114.10  \n61               113.82  \n0                112.29  \n43               111.76  \n33               111.31  \n51               109.97  \n1                113.34  \n49               112.58  \n42               112.13  \n48               112.12  \n18               112.08  \n54               111.67  \n32               111.42  \n26               110.94  \n34               110.74  \n21               110.65  \n58               110.50  \n62               110.34  \n45               110.24  \n39               110.22  \n41               109.96  \n29               109.96  \n56               109.73  \n53               109.62  \n25               109.34  \n30               109.12  \n37               109.07  \n44               108.61  \n3                108.55  \n40               107.75  \n5                107.31  \n22               107.15  \n14               106.66  \n9                106.52  \n52               106.31  \n35               105.32  \n20               104.56  \n17               104.49  \n2                104.30  \n13               104.16  \n24               103.70  \n46               103.45  \n36               103.08  \n50               102.47  \n7                102.19  \n16               102.19  \n11               101.08  \n10               100.03  ",
      "text/html": "<div>\n<style scoped>\n    .dataframe tbody tr th:only-of-type {\n        vertical-align: middle;\n    }\n\n    .dataframe tbody tr th {\n        vertical-align: top;\n    }\n\n    .dataframe thead th {\n        text-align: right;\n    }\n</style>\n<table border=\"1\" class=\"dataframe\">\n  <thead>\n    <tr style=\"text-align: right;\">\n      <th></th>\n      <th>teams</th>\n      <th>venue</th>\n      <th>attendance</th>\n      <th>percentage_capacity</th>\n    </tr>\n  </thead>\n  <tbody>\n    <tr>\n      <th>63</th>\n      <td>ARGENTINA vs FRANCE</td>\n      <td>Lusail Iconic Stadium</td>\n      <td>88966</td>\n      <td>111.21</td>\n    </tr>\n    <tr>\n      <th>60</th>\n      <td>ARGENTINA vs CROATIA</td>\n      <td>Lusail Iconic Stadium</td>\n      <td>88966</td>\n      <td>111.21</td>\n    </tr>\n    <tr>\n      <th>23</th>\n      <td>ARGENTINA vs MEXICO</td>\n      <td>Lusail Iconic Stadium</td>\n      <td>88966</td>\n      <td>111.21</td>\n    </tr>\n    <tr>\n      <th>31</th>\n      <td>PORTUGAL vs URUGUAY</td>\n      <td>Lusail Iconic Stadium</td>\n      <td>88668</td>\n      <td>110.83</td>\n    </tr>\n    <tr>\n      <th>57</th>\n      <td>NETHERLANDS vs ARGENTINA</td>\n      <td>Lusail Iconic Stadium</td>\n      <td>88235</td>\n      <td>110.29</td>\n    </tr>\n    <tr>\n      <th>15</th>\n      <td>BRAZIL vs SERBIA</td>\n      <td>Lusail Iconic Stadium</td>\n      <td>88103</td>\n      <td>110.13</td>\n    </tr>\n    <tr>\n      <th>4</th>\n      <td>ARGENTINA vs SAUDI ARABIA</td>\n      <td>Lusail Iconic Stadium</td>\n      <td>88012</td>\n      <td>110.02</td>\n    </tr>\n    <tr>\n      <th>47</th>\n      <td>CAMEROON vs BRAZIL</td>\n      <td>Lusail Iconic Stadium</td>\n      <td>85986</td>\n      <td>107.48</td>\n    </tr>\n    <tr>\n      <th>38</th>\n      <td>POLAND vs ARGENTINA</td>\n      <td>Lusail Iconic Stadium</td>\n      <td>84985</td>\n      <td>106.23</td>\n    </tr>\n    <tr>\n      <th>55</th>\n      <td>PORTUGAL vs SWITZERLAND</td>\n      <td>Lusail Iconic Stadium</td>\n      <td>83720</td>\n      <td>104.65</td>\n    </tr>\n    <tr>\n      <th>59</th>\n      <td>ENGLAND vs FRANCE</td>\n      <td>Al Bayt Stadium</td>\n      <td>68895</td>\n      <td>114.83</td>\n    </tr>\n    <tr>\n      <th>27</th>\n      <td>SPAIN vs GERMANY</td>\n      <td>Al Bayt Stadium</td>\n      <td>68895</td>\n      <td>114.83</td>\n    </tr>\n    <tr>\n      <th>19</th>\n      <td>ENGLAND vs UNITED STATES</td>\n      <td>Al Bayt Stadium</td>\n      <td>68463</td>\n      <td>114.10</td>\n    </tr>\n    <tr>\n      <th>61</th>\n      <td>FRANCE vs MOROCCO</td>\n      <td>Al Bayt Stadium</td>\n      <td>68294</td>\n      <td>113.82</td>\n    </tr>\n    <tr>\n      <th>0</th>\n      <td>QATAR vs ECUADOR</td>\n      <td>Al Bayt Stadium</td>\n      <td>67372</td>\n      <td>112.29</td>\n    </tr>\n    <tr>\n      <th>43</th>\n      <td>COSTA RICA vs GERMANY</td>\n      <td>Al Bayt Stadium</td>\n      <td>67054</td>\n      <td>111.76</td>\n    </tr>\n    <tr>\n      <th>33</th>\n      <td>ECUADOR vs SENEGAL</td>\n      <td>Al Bayt Stadium</td>\n      <td>66784</td>\n      <td>111.31</td>\n    </tr>\n    <tr>\n      <th>51</th>\n      <td>ENGLAND vs SENEGAL</td>\n      <td>Al Bayt Stadium</td>\n      <td>65985</td>\n      <td>109.97</td>\n    </tr>\n    <tr>\n      <th>1</th>\n      <td>ENGLAND vs IRAN</td>\n      <td>Khalifa International Stadium</td>\n      <td>45334</td>\n      <td>113.34</td>\n    </tr>\n    <tr>\n      <th>49</th>\n      <td>ARGENTINA vs AUSTRALIA</td>\n      <td>Ahmed bin Ali Stadium</td>\n      <td>45032</td>\n      <td>112.58</td>\n    </tr>\n    <tr>\n      <th>42</th>\n      <td>JAPAN vs SPAIN</td>\n      <td>Khalifa International Stadium</td>\n      <td>44851</td>\n      <td>112.13</td>\n    </tr>\n    <tr>\n      <th>48</th>\n      <td>NETHERLANDS vs UNITED STATES</td>\n      <td>Khalifa International Stadium</td>\n      <td>44846</td>\n      <td>112.12</td>\n    </tr>\n    <tr>\n      <th>18</th>\n      <td>NETHERLANDS vs ECUADOR</td>\n      <td>Khalifa International Stadium</td>\n      <td>44833</td>\n      <td>112.08</td>\n    </tr>\n    <tr>\n      <th>54</th>\n      <td>MOROCCO vs SPAIN</td>\n      <td>Education City Stadium</td>\n      <td>44667</td>\n      <td>111.67</td>\n    </tr>\n    <tr>\n      <th>32</th>\n      <td>NETHERLANDS vs QATAR</td>\n      <td>Khalifa International Stadium</td>\n      <td>44569</td>\n      <td>111.42</td>\n    </tr>\n    <tr>\n      <th>26</th>\n      <td>CROATIA vs CANADA</td>\n      <td>Khalifa International Stadium</td>\n      <td>44374</td>\n      <td>110.94</td>\n    </tr>\n    <tr>\n      <th>34</th>\n      <td>WALES vs ENGLAND</td>\n      <td>Ahmed bin Ali Stadium</td>\n      <td>44297</td>\n      <td>110.74</td>\n    </tr>\n    <tr>\n      <th>21</th>\n      <td>POLAND vs SAUDI ARABIA</td>\n      <td>Education City Stadium</td>\n      <td>44259</td>\n      <td>110.65</td>\n    </tr>\n    <tr>\n      <th>58</th>\n      <td>MOROCCO vs PORTUGAL</td>\n      <td>Al Thumama Stadium</td>\n      <td>44198</td>\n      <td>110.50</td>\n    </tr>\n    <tr>\n      <th>62</th>\n      <td>CROATIA vs MOROCCO</td>\n      <td>Khalifa International Stadium</td>\n      <td>44137</td>\n      <td>110.34</td>\n    </tr>\n    <tr>\n      <th>45</th>\n      <td>KOREA REPUBLIC vs PORTUGAL</td>\n      <td>Education City Stadium</td>\n      <td>44097</td>\n      <td>110.24</td>\n    </tr>\n    <tr>\n      <th>39</th>\n      <td>SAUDI ARABIA vs MEXICO</td>\n      <td>Stadium 974</td>\n      <td>44089</td>\n      <td>110.22</td>\n    </tr>\n    <tr>\n      <th>41</th>\n      <td>CANADA vs MOROCCO</td>\n      <td>Ahmed bin Ali Stadium</td>\n      <td>43984</td>\n      <td>109.96</td>\n    </tr>\n    <tr>\n      <th>29</th>\n      <td>KOREA REPUBLIC vs GHANA</td>\n      <td>Education City Stadium</td>\n      <td>43983</td>\n      <td>109.96</td>\n    </tr>\n    <tr>\n      <th>56</th>\n      <td>CROATIA vs BRAZIL</td>\n      <td>Education City Stadium</td>\n      <td>43893</td>\n      <td>109.73</td>\n    </tr>\n    <tr>\n      <th>53</th>\n      <td>BRAZIL vs KOREA REPUBLIC</td>\n      <td>Stadium 974</td>\n      <td>43847</td>\n      <td>109.62</td>\n    </tr>\n    <tr>\n      <th>25</th>\n      <td>BELGIUM vs MOROCCO</td>\n      <td>Al Thumama Stadium</td>\n      <td>43738</td>\n      <td>109.34</td>\n    </tr>\n    <tr>\n      <th>30</th>\n      <td>BRAZIL vs SWITZERLAND</td>\n      <td>Stadium 974</td>\n      <td>43649</td>\n      <td>109.12</td>\n    </tr>\n    <tr>\n      <th>37</th>\n      <td>TUNISIA vs FRANCE</td>\n      <td>Education City Stadium</td>\n      <td>43627</td>\n      <td>109.07</td>\n    </tr>\n    <tr>\n      <th>44</th>\n      <td>GHANA vs URUGUAY</td>\n      <td>Al Janoub Stadium</td>\n      <td>43443</td>\n      <td>108.61</td>\n    </tr>\n    <tr>\n      <th>3</th>\n      <td>UNITED STATES vs WALES</td>\n      <td>Ahmed bin Ali Stadium</td>\n      <td>43418</td>\n      <td>108.55</td>\n    </tr>\n    <tr>\n      <th>40</th>\n      <td>CROATIA vs BELGIUM</td>\n      <td>Al Thumama Stadium</td>\n      <td>43102</td>\n      <td>107.75</td>\n    </tr>\n    <tr>\n      <th>5</th>\n      <td>DENMARK vs TUNISIA</td>\n      <td>Education City Stadium</td>\n      <td>42925</td>\n      <td>107.31</td>\n    </tr>\n    <tr>\n      <th>22</th>\n      <td>FRANCE vs DENMARK</td>\n      <td>Stadium 974</td>\n      <td>42860</td>\n      <td>107.15</td>\n    </tr>\n    <tr>\n      <th>14</th>\n      <td>PORTUGAL vs GHANA</td>\n      <td>Stadium 974</td>\n      <td>42662</td>\n      <td>106.66</td>\n    </tr>\n    <tr>\n      <th>9</th>\n      <td>GERMANY vs JAPAN</td>\n      <td>Khalifa International Stadium</td>\n      <td>42608</td>\n      <td>106.52</td>\n    </tr>\n    <tr>\n      <th>52</th>\n      <td>JAPAN vs CROATIA</td>\n      <td>Al Janoub Stadium</td>\n      <td>42523</td>\n      <td>106.31</td>\n    </tr>\n    <tr>\n      <th>35</th>\n      <td>IRAN vs UNITED STATES</td>\n      <td>Al Thumama Stadium</td>\n      <td>42127</td>\n      <td>105.32</td>\n    </tr>\n    <tr>\n      <th>20</th>\n      <td>TUNISIA vs AUSTRALIA</td>\n      <td>Al Janoub Stadium</td>\n      <td>41823</td>\n      <td>104.56</td>\n    </tr>\n    <tr>\n      <th>17</th>\n      <td>QATAR vs SENEGAL</td>\n      <td>Al Thumama Stadium</td>\n      <td>41797</td>\n      <td>104.49</td>\n    </tr>\n    <tr>\n      <th>2</th>\n      <td>SENEGAL vs NETHERLANDS</td>\n      <td>Al Thumama Stadium</td>\n      <td>41721</td>\n      <td>104.30</td>\n    </tr>\n    <tr>\n      <th>13</th>\n      <td>URUGUAY vs KOREA REPUBLIC</td>\n      <td>Education City Stadium</td>\n      <td>41663</td>\n      <td>104.16</td>\n    </tr>\n    <tr>\n      <th>24</th>\n      <td>JAPAN vs COSTA RICA</td>\n      <td>Ahmed bin Ali Stadium</td>\n      <td>41479</td>\n      <td>103.70</td>\n    </tr>\n    <tr>\n      <th>46</th>\n      <td>SERBIA vs SWITZERLAND</td>\n      <td>Stadium 974</td>\n      <td>41378</td>\n      <td>103.45</td>\n    </tr>\n    <tr>\n      <th>36</th>\n      <td>AUSTRALIA vs DENMARK</td>\n      <td>Al Janoub Stadium</td>\n      <td>41232</td>\n      <td>103.08</td>\n    </tr>\n    <tr>\n      <th>50</th>\n      <td>FRANCE vs POLAND</td>\n      <td>Al Thumama Stadium</td>\n      <td>40989</td>\n      <td>102.47</td>\n    </tr>\n    <tr>\n      <th>7</th>\n      <td>FRANCE vs AUSTRALIA</td>\n      <td>Al Janoub Stadium</td>\n      <td>40875</td>\n      <td>102.19</td>\n    </tr>\n    <tr>\n      <th>16</th>\n      <td>WALES vs IRAN</td>\n      <td>Ahmed bin Ali Stadium</td>\n      <td>40875</td>\n      <td>102.19</td>\n    </tr>\n    <tr>\n      <th>11</th>\n      <td>BELGIUM vs CANADA</td>\n      <td>Ahmed bin Ali Stadium</td>\n      <td>40432</td>\n      <td>101.08</td>\n    </tr>\n    <tr>\n      <th>10</th>\n      <td>SPAIN vs COSTA RICA</td>\n      <td>Al Thumama Stadium</td>\n      <td>40013</td>\n      <td>100.03</td>\n    </tr>\n  </tbody>\n</table>\n</div>"
     },
     "execution_count": 82,
     "metadata": {},
     "output_type": "execute_result"
    }
   ],
   "source": [
    "#get matches which exceeded full capacity\n",
    "most_attended_exceeded = most_attended.loc[most_attended[\"percentage_capacity\"]>100]\n",
    "most_attended_exceeded"
   ],
   "metadata": {
    "collapsed": false,
    "pycharm": {
     "name": "#%%\n"
    }
   }
  },
  {
   "cell_type": "markdown",
   "source": [
    "**Observation**\n",
    "We see that attendance depended on the stadium's capacity.Stadiums with higher capacities had more people .\n",
    "It is also observed that most games(about 60 out of 64 games) exceeed full capacity ie above 100% capacity\n",
    "Showing that there was signifcant show up to the world cup games\n",
    "Lusail Stadium had the highest attendences and was always filled above maximum capacity"
   ],
   "metadata": {
    "collapsed": false,
    "pycharm": {
     "name": "#%% md\n"
    }
   }
  },
  {
   "cell_type": "markdown",
   "source": [
    "### How many yellow cards and red cards were given out during the world cup"
   ],
   "metadata": {
    "collapsed": false,
    "pycharm": {
     "name": "#%% md\n"
    }
   }
  },
  {
   "cell_type": "code",
   "execution_count": 84,
   "outputs": [
    {
     "name": "stdout",
     "output_type": "stream",
     "text": [
      "Red cards given : 4\n",
      " Yellow cards given : 226\n"
     ]
    }
   ],
   "source": [
    "#get total number of yellow cards and red cards given\n",
    "yellow_cards = new_df[\"CrdY\"].sum()\n",
    "red_cards = new_df[\"CrdR\"].sum()\n",
    "print(f\"Red cards given : {red_cards}\\n Yellow cards given : {yellow_cards}\")"
   ],
   "metadata": {
    "collapsed": false,
    "pycharm": {
     "name": "#%%\n"
    }
   }
  },
  {
   "cell_type": "markdown",
   "source": [
    "#### Which teams had the most red and yellow cards"
   ],
   "metadata": {
    "collapsed": false,
    "pycharm": {
     "name": "#%% md\n"
    }
   }
  },
  {
   "cell_type": "code",
   "execution_count": 86,
   "outputs": [
    {
     "data": {
      "text/plain": "89         Morocco\n97     Netherlands\n403       Cameroon\n632          Wales\nName: Team, dtype: object"
     },
     "execution_count": 86,
     "metadata": {},
     "output_type": "execute_result"
    }
   ],
   "source": [
    "teams_y = new_df.loc[new_df[\"CrdY\"]==1]\n",
    "teams_r = new_df.loc[new_df[\"CrdR\"]==1]\n",
    "teams_r[\"Team\"]"
   ],
   "metadata": {
    "collapsed": false,
    "pycharm": {
     "name": "#%%\n"
    }
   }
  },
  {
   "cell_type": "code",
   "execution_count": 87,
   "outputs": [
    {
     "data": {
      "text/plain": "Saudi Arabia      10\nNetherlands       10\nCanada             8\nFrance             8\nUruguay            8\nMexico             7\nQatar              7\nMorocco            7\nSwitzerland        7\nCroatia            6\nPortugal           6\nBrazil             6\nArgentina          5\nDenmark            5\nWales              5\nPoland             5\nTunisia            5\nIR Iran            5\nUnited States      5\nSenegal            5\nKorea Republic     4\nJapan              4\nGhana              4\nCameroon           4\nCosta Rica         4\nSerbia             3\nBelgium            3\nAustralia          3\nGermany            3\nSpain              2\nEngland            1\nEcuador            1\nName: Team, dtype: int64"
     },
     "execution_count": 87,
     "metadata": {},
     "output_type": "execute_result"
    }
   ],
   "source": [
    "teams_y.Team.value_counts()"
   ],
   "metadata": {
    "collapsed": false,
    "pycharm": {
     "name": "#%%\n"
    }
   }
  },
  {
   "cell_type": "markdown",
   "source": [
    "**Observation**\n",
    "No team had more than 1 red card.There were only four teams which got red cards namely Morrocco, Netherlands, Cameroon and Wales\n",
    "However 32 teams got yellow cards with Saudi Arabia and Netherlands having the most yellow cards(10)."
   ],
   "metadata": {
    "collapsed": false,
    "pycharm": {
     "name": "#%% md\n"
    }
   }
  },
  {
   "cell_type": "markdown",
   "source": [
    "#### Which team had the most goals"
   ],
   "metadata": {
    "collapsed": false,
    "pycharm": {
     "name": "#%% md\n"
    }
   }
  },
  {
   "cell_type": "code",
   "execution_count": 89,
   "outputs": [
    {
     "data": {
      "text/plain": "                1             2  1_goals  2_goals\n0           QATAR       ECUADOR        0        2\n1         ENGLAND          IRAN        6        2\n2         SENEGAL   NETHERLANDS        0        2\n3   UNITED STATES         WALES        1        1\n4       ARGENTINA  SAUDI ARABIA        1        2\n..            ...           ...      ...      ...\n59        ENGLAND        FRANCE        1        2\n60      ARGENTINA       CROATIA        3        0\n61         FRANCE       MOROCCO        2        0\n62        CROATIA       MOROCCO        2        1\n63      ARGENTINA        FRANCE        3        3\n\n[64 rows x 4 columns]",
      "text/html": "<div>\n<style scoped>\n    .dataframe tbody tr th:only-of-type {\n        vertical-align: middle;\n    }\n\n    .dataframe tbody tr th {\n        vertical-align: top;\n    }\n\n    .dataframe thead th {\n        text-align: right;\n    }\n</style>\n<table border=\"1\" class=\"dataframe\">\n  <thead>\n    <tr style=\"text-align: right;\">\n      <th></th>\n      <th>1</th>\n      <th>2</th>\n      <th>1_goals</th>\n      <th>2_goals</th>\n    </tr>\n  </thead>\n  <tbody>\n    <tr>\n      <th>0</th>\n      <td>QATAR</td>\n      <td>ECUADOR</td>\n      <td>0</td>\n      <td>2</td>\n    </tr>\n    <tr>\n      <th>1</th>\n      <td>ENGLAND</td>\n      <td>IRAN</td>\n      <td>6</td>\n      <td>2</td>\n    </tr>\n    <tr>\n      <th>2</th>\n      <td>SENEGAL</td>\n      <td>NETHERLANDS</td>\n      <td>0</td>\n      <td>2</td>\n    </tr>\n    <tr>\n      <th>3</th>\n      <td>UNITED STATES</td>\n      <td>WALES</td>\n      <td>1</td>\n      <td>1</td>\n    </tr>\n    <tr>\n      <th>4</th>\n      <td>ARGENTINA</td>\n      <td>SAUDI ARABIA</td>\n      <td>1</td>\n      <td>2</td>\n    </tr>\n    <tr>\n      <th>...</th>\n      <td>...</td>\n      <td>...</td>\n      <td>...</td>\n      <td>...</td>\n    </tr>\n    <tr>\n      <th>59</th>\n      <td>ENGLAND</td>\n      <td>FRANCE</td>\n      <td>1</td>\n      <td>2</td>\n    </tr>\n    <tr>\n      <th>60</th>\n      <td>ARGENTINA</td>\n      <td>CROATIA</td>\n      <td>3</td>\n      <td>0</td>\n    </tr>\n    <tr>\n      <th>61</th>\n      <td>FRANCE</td>\n      <td>MOROCCO</td>\n      <td>2</td>\n      <td>0</td>\n    </tr>\n    <tr>\n      <th>62</th>\n      <td>CROATIA</td>\n      <td>MOROCCO</td>\n      <td>2</td>\n      <td>1</td>\n    </tr>\n    <tr>\n      <th>63</th>\n      <td>ARGENTINA</td>\n      <td>FRANCE</td>\n      <td>3</td>\n      <td>3</td>\n    </tr>\n  </tbody>\n</table>\n<p>64 rows × 4 columns</p>\n</div>"
     },
     "execution_count": 89,
     "metadata": {},
     "output_type": "execute_result"
    }
   ],
   "source": [
    "#create dataframe weith relevant columns only\n",
    "team_goals = master_df[[\"1\",\"2\",\"1_goals\",\"2_goals\"]]\n",
    "team_goals"
   ],
   "metadata": {
    "collapsed": false,
    "pycharm": {
     "name": "#%%\n"
    }
   }
  },
  {
   "cell_type": "code",
   "execution_count": 110,
   "outputs": [
    {
     "data": {
      "text/plain": "          Team  Gls\n0    Argentina    0\n1    Argentina    7\n2    Argentina    0\n3    Argentina    0\n4    Argentina    1\n..         ...  ...\n675      Qatar    0\n676      Qatar    0\n677      Qatar    0\n678      Qatar    0\n679      Qatar    0\n\n[680 rows x 2 columns]",
      "text/html": "<div>\n<style scoped>\n    .dataframe tbody tr th:only-of-type {\n        vertical-align: middle;\n    }\n\n    .dataframe tbody tr th {\n        vertical-align: top;\n    }\n\n    .dataframe thead th {\n        text-align: right;\n    }\n</style>\n<table border=\"1\" class=\"dataframe\">\n  <thead>\n    <tr style=\"text-align: right;\">\n      <th></th>\n      <th>Team</th>\n      <th>Gls</th>\n    </tr>\n  </thead>\n  <tbody>\n    <tr>\n      <th>0</th>\n      <td>Argentina</td>\n      <td>0</td>\n    </tr>\n    <tr>\n      <th>1</th>\n      <td>Argentina</td>\n      <td>7</td>\n    </tr>\n    <tr>\n      <th>2</th>\n      <td>Argentina</td>\n      <td>0</td>\n    </tr>\n    <tr>\n      <th>3</th>\n      <td>Argentina</td>\n      <td>0</td>\n    </tr>\n    <tr>\n      <th>4</th>\n      <td>Argentina</td>\n      <td>1</td>\n    </tr>\n    <tr>\n      <th>...</th>\n      <td>...</td>\n      <td>...</td>\n    </tr>\n    <tr>\n      <th>675</th>\n      <td>Qatar</td>\n      <td>0</td>\n    </tr>\n    <tr>\n      <th>676</th>\n      <td>Qatar</td>\n      <td>0</td>\n    </tr>\n    <tr>\n      <th>677</th>\n      <td>Qatar</td>\n      <td>0</td>\n    </tr>\n    <tr>\n      <th>678</th>\n      <td>Qatar</td>\n      <td>0</td>\n    </tr>\n    <tr>\n      <th>679</th>\n      <td>Qatar</td>\n      <td>0</td>\n    </tr>\n  </tbody>\n</table>\n<p>680 rows × 2 columns</p>\n</div>"
     },
     "execution_count": 110,
     "metadata": {},
     "output_type": "execute_result"
    }
   ],
   "source": [
    "t_goals = new_df[[\"Team\",\"Gls\"]]\n",
    "t_goals"
   ],
   "metadata": {
    "collapsed": false,
    "pycharm": {
     "name": "#%%\n"
    }
   }
  },
  {
   "cell_type": "code",
   "execution_count": 116,
   "outputs": [
    {
     "data": {
      "text/plain": "<Figure size 432x288 with 1 Axes>",
      "image/png": "[encoded data removed]"
     },
     "metadata": {
      "needs_background": "light"
     },
     "output_type": "display_data"
    }
   ],
   "source": [
    "t_goals = t_goals.groupby('Team').sum()\n",
    "t_goals.sort_values('Gls',ascending=False).head(10).plot(kind=\"bar\");"
   ],
   "metadata": {
    "collapsed": false,
    "pycharm": {
     "name": "#%%\n"
    }
   }
  },
  {
   "cell_type": "markdown",
   "source": [
    "**Observations**\n",
    "The team with the most goals was France with 16 goals, followed by Argentina(15) and England(14)"
   ],
   "metadata": {
    "collapsed": false,
    "pycharm": {
     "name": "#%% md\n"
    }
   }
  },
  {
   "cell_type": "code",
   "execution_count": null,
   "outputs": [],
   "source": [],
   "metadata": {
    "collapsed": false,
    "pycharm": {
     "name": "#%%\n"
    }
   }
  }
 ],
 "metadata": {
  "kernelspec": {
   "display_name": "Python 3",
   "language": "python",
   "name": "python3"
  },
  "language_info": {
   "codemirror_mode": {
    "name": "ipython",
    "version": 2
   },
   "file_extension": ".py",
   "mimetype": "text/x-python",
   "name": "python",
   "nbconvert_exporter": "python",
   "pygments_lexer": "ipython2",
   "version": "2.7.6"
  }
 },
 "nbformat": 4,
 "nbformat_minor": 0
}